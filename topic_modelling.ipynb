{
 "cells": [
  {
   "cell_type": "code",
   "execution_count": 2,
   "metadata": {},
   "outputs": [],
   "source": [
    "import pandas as pd\n",
    "import numpy as np"
   ]
  },
  {
   "cell_type": "code",
   "execution_count": 3,
   "metadata": {},
   "outputs": [
    {
     "data": {
      "text/html": [
       "<div>\n",
       "<style scoped>\n",
       "    .dataframe tbody tr th:only-of-type {\n",
       "        vertical-align: middle;\n",
       "    }\n",
       "\n",
       "    .dataframe tbody tr th {\n",
       "        vertical-align: top;\n",
       "    }\n",
       "\n",
       "    .dataframe thead th {\n",
       "        text-align: right;\n",
       "    }\n",
       "</style>\n",
       "<table border=\"1\" class=\"dataframe\">\n",
       "  <thead>\n",
       "    <tr style=\"text-align: right;\">\n",
       "      <th></th>\n",
       "      <th>Unnamed: 0</th>\n",
       "      <th>txt</th>\n",
       "      <th>txt_en</th>\n",
       "      <th>is_seed</th>\n",
       "      <th>is_meta</th>\n",
       "    </tr>\n",
       "  </thead>\n",
       "  <tbody>\n",
       "    <tr>\n",
       "      <th>0</th>\n",
       "      <td>0</td>\n",
       "      <td>Sähköverkko takaisin 100% valtion omistukseen....</td>\n",
       "      <td>Electricity network back to 100% state ownersh...</td>\n",
       "      <td>0</td>\n",
       "      <td>0</td>\n",
       "    </tr>\n",
       "    <tr>\n",
       "      <th>1</th>\n",
       "      <td>1</td>\n",
       "      <td>Lapsiperheköyhyys on svetismiä ja tarkoittaa l...</td>\n",
       "      <td>Family poverty with children is svetism and me...</td>\n",
       "      <td>0</td>\n",
       "      <td>0</td>\n",
       "    </tr>\n",
       "    <tr>\n",
       "      <th>2</th>\n",
       "      <td>2</td>\n",
       "      <td>Yhteiskunnan tärkeimpiä tehtäviä on huolehtia ...</td>\n",
       "      <td>One of society's most important tasks is to en...</td>\n",
       "      <td>0</td>\n",
       "      <td>0</td>\n",
       "    </tr>\n",
       "    <tr>\n",
       "      <th>3</th>\n",
       "      <td>3</td>\n",
       "      <td>Kielikiintiöt ovat institutionaalista nepotismia.</td>\n",
       "      <td>Language quotas are institutional nepotism.</td>\n",
       "      <td>0</td>\n",
       "      <td>0</td>\n",
       "    </tr>\n",
       "    <tr>\n",
       "      <th>4</th>\n",
       "      <td>4</td>\n",
       "      <td>Kouluihin pitäisi saada opetusrauha eli vähemm...</td>\n",
       "      <td>Schools should have teaching peace, i.e. less ...</td>\n",
       "      <td>0</td>\n",
       "      <td>0</td>\n",
       "    </tr>\n",
       "    <tr>\n",
       "      <th>...</th>\n",
       "      <td>...</td>\n",
       "      <td>...</td>\n",
       "      <td>...</td>\n",
       "      <td>...</td>\n",
       "      <td>...</td>\n",
       "    </tr>\n",
       "    <tr>\n",
       "      <th>4037</th>\n",
       "      <td>4110</td>\n",
       "      <td>Työluvalla tullut ulkomaalainen joka on työtön...</td>\n",
       "      <td>A foreigner who came with a work permit and is...</td>\n",
       "      <td>0</td>\n",
       "      <td>0</td>\n",
       "    </tr>\n",
       "    <tr>\n",
       "      <th>4038</th>\n",
       "      <td>4111</td>\n",
       "      <td>Olisin valmis luopumaan vuosittaisesta verotuk...</td>\n",
       "      <td>I would be willing to give up my annual tax re...</td>\n",
       "      <td>0</td>\n",
       "      <td>0</td>\n",
       "    </tr>\n",
       "    <tr>\n",
       "      <th>4039</th>\n",
       "      <td>4112</td>\n",
       "      <td>Suomen pimeitä ja hiljaisia erämaa-alueita tul...</td>\n",
       "      <td>Finland's dark and quiet wilderness areas shou...</td>\n",
       "      <td>0</td>\n",
       "      <td>0</td>\n",
       "    </tr>\n",
       "    <tr>\n",
       "      <th>4040</th>\n",
       "      <td>4113</td>\n",
       "      <td>Pärjään ihan niinkuin keskiverto suomalainen p...</td>\n",
       "      <td>I manage just like the average Finn manages</td>\n",
       "      <td>0</td>\n",
       "      <td>0</td>\n",
       "    </tr>\n",
       "    <tr>\n",
       "      <th>4041</th>\n",
       "      <td>4114</td>\n",
       "      <td>Helsinkiläiset ovat vieraantuneet todellisuude...</td>\n",
       "      <td>The people of Helsinki have become alienated f...</td>\n",
       "      <td>0</td>\n",
       "      <td>0</td>\n",
       "    </tr>\n",
       "  </tbody>\n",
       "</table>\n",
       "<p>4042 rows × 5 columns</p>\n",
       "</div>"
      ],
      "text/plain": [
       "      Unnamed: 0                                                txt  \\\n",
       "0              0  Sähköverkko takaisin 100% valtion omistukseen....   \n",
       "1              1  Lapsiperheköyhyys on svetismiä ja tarkoittaa l...   \n",
       "2              2  Yhteiskunnan tärkeimpiä tehtäviä on huolehtia ...   \n",
       "3              3  Kielikiintiöt ovat institutionaalista nepotismia.   \n",
       "4              4  Kouluihin pitäisi saada opetusrauha eli vähemm...   \n",
       "...          ...                                                ...   \n",
       "4037        4110  Työluvalla tullut ulkomaalainen joka on työtön...   \n",
       "4038        4111  Olisin valmis luopumaan vuosittaisesta verotuk...   \n",
       "4039        4112  Suomen pimeitä ja hiljaisia erämaa-alueita tul...   \n",
       "4040        4113  Pärjään ihan niinkuin keskiverto suomalainen p...   \n",
       "4041        4114  Helsinkiläiset ovat vieraantuneet todellisuude...   \n",
       "\n",
       "                                                 txt_en  is_seed  is_meta  \n",
       "0     Electricity network back to 100% state ownersh...        0        0  \n",
       "1     Family poverty with children is svetism and me...        0        0  \n",
       "2     One of society's most important tasks is to en...        0        0  \n",
       "3           Language quotas are institutional nepotism.        0        0  \n",
       "4     Schools should have teaching peace, i.e. less ...        0        0  \n",
       "...                                                 ...      ...      ...  \n",
       "4037  A foreigner who came with a work permit and is...        0        0  \n",
       "4038  I would be willing to give up my annual tax re...        0        0  \n",
       "4039  Finland's dark and quiet wilderness areas shou...        0        0  \n",
       "4040        I manage just like the average Finn manages        0        0  \n",
       "4041  The people of Helsinki have become alienated f...        0        0  \n",
       "\n",
       "[4042 rows x 5 columns]"
      ]
     },
     "execution_count": 3,
     "metadata": {},
     "output_type": "execute_result"
    }
   ],
   "source": [
    "df = pd.read_csv(\"data/global_topic_google.csv\")\n",
    "df"
   ]
  },
  {
   "cell_type": "code",
   "execution_count": 4,
   "metadata": {},
   "outputs": [],
   "source": [
    "# !pip install \"numpy<2.0\""
   ]
  },
  {
   "cell_type": "code",
   "execution_count": 5,
   "metadata": {},
   "outputs": [
    {
     "data": {
      "text/plain": [
       "'1.26.4'"
      ]
     },
     "execution_count": 5,
     "metadata": {},
     "output_type": "execute_result"
    }
   ],
   "source": [
    "np.__version__"
   ]
  },
  {
   "cell_type": "markdown",
   "metadata": {},
   "source": [
    "## An Attemt with multilingual-IPTC-news-topic-classifier\n",
    "https://huggingface.co/classla/multilingual-IPTC-news-topic-classifier"
   ]
  },
  {
   "cell_type": "code",
   "execution_count": 6,
   "metadata": {},
   "outputs": [],
   "source": [
    "# from transformers import pipeline\n",
    "# from tqdm import tqdm\n",
    "\n",
    "# # Load a multi-class classification pipeline - if the model runs on CPU, comment out \"device\"\n",
    "# classifier = pipeline(\"text-classification\", model=\"classla/multilingual-IPTC-news-topic-classifier\", max_length=512, truncation=True)"
   ]
  },
  {
   "cell_type": "code",
   "execution_count": 7,
   "metadata": {},
   "outputs": [],
   "source": [
    "# # Example texts to classify\n",
    "# texts = [\n",
    "#     \"\"\"Slovenian handball team makes it to Paris Olympics semifinal Lille, 8 August - Slovenia defeated Norway 33:28 in the Olympic men's handball tournament in Lille late on Wednesday to advance to the semifinal where they will face Denmark on Friday evening. This is the best result the team has so far achieved at the Olympic Games and one of the best performances in the history of Slovenia's team sports squads.\"\"\",\n",
    "# ]\n",
    "\n",
    "# # Classify the texts\n",
    "# results = classifier(texts)\n",
    "\n",
    "# # Output the results\n",
    "# for result in results:\n",
    "#     print(result)\n",
    "\n",
    "# ## Output\n",
    "# ## {'label': 'sport', 'score': 0.9985264539718628}\n",
    "# ## {'label': 'disaster, accident and emergency incident', 'score': 0.9957459568977356}\n"
   ]
  },
  {
   "cell_type": "code",
   "execution_count": 8,
   "metadata": {},
   "outputs": [
    {
     "name": "stderr",
     "output_type": "stream",
     "text": [
      "C:\\Users\\so030\\AppData\\Local\\Packages\\PythonSoftwareFoundation.Python.3.10_qbz5n2kfra8p0\\LocalCache\\local-packages\\Python310\\site-packages\\tqdm\\auto.py:22: TqdmWarning: IProgress not found. Please update jupyter and ipywidgets. See https://ipywidgets.readthedocs.io/en/stable/user_install.html\n",
      "  from .autonotebook import tqdm as notebook_tqdm\n"
     ]
    }
   ],
   "source": [
    "from bertopic import BERTopic"
   ]
  },
  {
   "cell_type": "code",
   "execution_count": 15,
   "metadata": {},
   "outputs": [
    {
     "name": "stdout",
     "output_type": "stream",
     "text": [
      "0       Electricity network back to 100% state ownersh...\n",
      "1       Family poverty with children is svetism and me...\n",
      "2       One of society's most important tasks is to en...\n",
      "3             Language quotas are institutional nepotism.\n",
      "4       Schools should have teaching peace, i.e. less ...\n",
      "                              ...                        \n",
      "4037    A foreigner who came with a work permit and is...\n",
      "4038    I would be willing to give up my annual tax re...\n",
      "4039    Finland's dark and quiet wilderness areas shou...\n",
      "4040          I manage just like the average Finn manages\n",
      "4041    The people of Helsinki have become alienated f...\n",
      "Name: txt_en, Length: 4042, dtype: object\n"
     ]
    }
   ],
   "source": [
    "sentences = df['txt_en']\n",
    "print(sentences)"
   ]
  },
  {
   "cell_type": "code",
   "execution_count": 16,
   "metadata": {},
   "outputs": [],
   "source": [
    "topic_model = BERTopic(calculate_probabilities=True)\n",
    "topics, prob = topic_model.fit_transform(sentences)"
   ]
  },
  {
   "cell_type": "code",
   "execution_count": null,
   "metadata": {},
   "outputs": [
    {
     "data": {
      "text/html": [
       "<div>\n",
       "<style scoped>\n",
       "    .dataframe tbody tr th:only-of-type {\n",
       "        vertical-align: middle;\n",
       "    }\n",
       "\n",
       "    .dataframe tbody tr th {\n",
       "        vertical-align: top;\n",
       "    }\n",
       "\n",
       "    .dataframe thead th {\n",
       "        text-align: right;\n",
       "    }\n",
       "</style>\n",
       "<table border=\"1\" class=\"dataframe\">\n",
       "  <thead>\n",
       "    <tr style=\"text-align: right;\">\n",
       "      <th></th>\n",
       "      <th>Topic</th>\n",
       "      <th>Count</th>\n",
       "      <th>Name</th>\n",
       "      <th>Representation</th>\n",
       "      <th>Representative_Docs</th>\n",
       "    </tr>\n",
       "  </thead>\n",
       "  <tbody>\n",
       "    <tr>\n",
       "      <th>0</th>\n",
       "      <td>-1</td>\n",
       "      <td>1257</td>\n",
       "      <td>-1_finland_the_in_of</td>\n",
       "      <td>[finland, the, in, of, to, and, is, not, be, for]</td>\n",
       "      <td>[Finland to Finland, Pensioners do not get eno...</td>\n",
       "    </tr>\n",
       "    <tr>\n",
       "      <th>1</th>\n",
       "      <td>0</td>\n",
       "      <td>257</td>\n",
       "      <td>0_transport_cars_housing_cities</td>\n",
       "      <td>[transport, cars, housing, cities, driving, el...</td>\n",
       "      <td>[Public transport should be free in order to e...</td>\n",
       "    </tr>\n",
       "    <tr>\n",
       "      <th>2</th>\n",
       "      <td>1</td>\n",
       "      <td>135</td>\n",
       "      <td>1_taxation_tax_income_taxed</td>\n",
       "      <td>[taxation, tax, income, taxed, capital, taxes,...</td>\n",
       "      <td>[With the automation of production, the focus ...</td>\n",
       "    </tr>\n",
       "    <tr>\n",
       "      <th>3</th>\n",
       "      <td>2</td>\n",
       "      <td>111</td>\n",
       "      <td>2_democracy_parliament_voting_election</td>\n",
       "      <td>[democracy, parliament, voting, election, vote...</td>\n",
       "      <td>[In order to participate in any election-relat...</td>\n",
       "    </tr>\n",
       "    <tr>\n",
       "      <th>4</th>\n",
       "      <td>3</td>\n",
       "      <td>106</td>\n",
       "      <td>3_speech_freedom_discussion_others</td>\n",
       "      <td>[speech, freedom, discussion, others, opinions...</td>\n",
       "      <td>[Freedom of speech is restricted too much, and...</td>\n",
       "    </tr>\n",
       "    <tr>\n",
       "      <th>...</th>\n",
       "      <td>...</td>\n",
       "      <td>...</td>\n",
       "      <td>...</td>\n",
       "      <td>...</td>\n",
       "      <td>...</td>\n",
       "    </tr>\n",
       "    <tr>\n",
       "      <th>77</th>\n",
       "      <td>76</td>\n",
       "      <td>12</td>\n",
       "      <td>76_taxation_tax_estonian_flat</td>\n",
       "      <td>[taxation, tax, estonian, flat, introduced, ri...</td>\n",
       "      <td>[Inheritance tax, gift tax, car tax removed. L...</td>\n",
       "    </tr>\n",
       "    <tr>\n",
       "      <th>78</th>\n",
       "      <td>77</td>\n",
       "      <td>11</td>\n",
       "      <td>77_cars_functional_strive_finland</td>\n",
       "      <td>[cars, functional, strive, finland, spare, rel...</td>\n",
       "      <td>[Finland needs to get genuine, functional solu...</td>\n",
       "    </tr>\n",
       "    <tr>\n",
       "      <th>79</th>\n",
       "      <td>78</td>\n",
       "      <td>11</td>\n",
       "      <td>78_employers_employer_equality_te</td>\n",
       "      <td>[employers, employer, equality, te, passersby,...</td>\n",
       "      <td>[Supervisors with more than 5 subordinates sho...</td>\n",
       "    </tr>\n",
       "    <tr>\n",
       "      <th>80</th>\n",
       "      <td>79</td>\n",
       "      <td>11</td>\n",
       "      <td>79_peat_renewable_energy_fossil</td>\n",
       "      <td>[peat, renewable, energy, fossil, provides, re...</td>\n",
       "      <td>[Peat is a renewable natural resource, Peat en...</td>\n",
       "    </tr>\n",
       "    <tr>\n",
       "      <th>81</th>\n",
       "      <td>80</td>\n",
       "      <td>11</td>\n",
       "      <td>80_opinion_metallica_jamal_megadeth</td>\n",
       "      <td>[opinion, metallica, jamal, megadeth, variance...</td>\n",
       "      <td>[My opinion, My opinion., Good opinion]</td>\n",
       "    </tr>\n",
       "  </tbody>\n",
       "</table>\n",
       "<p>82 rows × 5 columns</p>\n",
       "</div>"
      ],
      "text/plain": [
       "    Topic  Count                                    Name  \\\n",
       "0      -1   1257                    -1_finland_the_in_of   \n",
       "1       0    257         0_transport_cars_housing_cities   \n",
       "2       1    135             1_taxation_tax_income_taxed   \n",
       "3       2    111  2_democracy_parliament_voting_election   \n",
       "4       3    106      3_speech_freedom_discussion_others   \n",
       "..    ...    ...                                     ...   \n",
       "77     76     12           76_taxation_tax_estonian_flat   \n",
       "78     77     11       77_cars_functional_strive_finland   \n",
       "79     78     11       78_employers_employer_equality_te   \n",
       "80     79     11         79_peat_renewable_energy_fossil   \n",
       "81     80     11     80_opinion_metallica_jamal_megadeth   \n",
       "\n",
       "                                       Representation  \\\n",
       "0   [finland, the, in, of, to, and, is, not, be, for]   \n",
       "1   [transport, cars, housing, cities, driving, el...   \n",
       "2   [taxation, tax, income, taxed, capital, taxes,...   \n",
       "3   [democracy, parliament, voting, election, vote...   \n",
       "4   [speech, freedom, discussion, others, opinions...   \n",
       "..                                                ...   \n",
       "77  [taxation, tax, estonian, flat, introduced, ri...   \n",
       "78  [cars, functional, strive, finland, spare, rel...   \n",
       "79  [employers, employer, equality, te, passersby,...   \n",
       "80  [peat, renewable, energy, fossil, provides, re...   \n",
       "81  [opinion, metallica, jamal, megadeth, variance...   \n",
       "\n",
       "                                  Representative_Docs  \n",
       "0   [Finland to Finland, Pensioners do not get eno...  \n",
       "1   [Public transport should be free in order to e...  \n",
       "2   [With the automation of production, the focus ...  \n",
       "3   [In order to participate in any election-relat...  \n",
       "4   [Freedom of speech is restricted too much, and...  \n",
       "..                                                ...  \n",
       "77  [Inheritance tax, gift tax, car tax removed. L...  \n",
       "78  [Finland needs to get genuine, functional solu...  \n",
       "79  [Supervisors with more than 5 subordinates sho...  \n",
       "80  [Peat is a renewable natural resource, Peat en...  \n",
       "81            [My opinion, My opinion., Good opinion]  \n",
       "\n",
       "[82 rows x 5 columns]"
      ]
     },
     "execution_count": 29,
     "metadata": {},
     "output_type": "execute_result"
    }
   ],
   "source": [
    "pd.set_option('display.max_rows', 15)\n",
    "pd.set_option('display.width', 100)\n",
    "\n",
    "df_topic = topic_model.get_topic_info()\n",
    "df_topic"
   ]
  },
  {
   "cell_type": "code",
   "execution_count": 30,
   "metadata": {},
   "outputs": [],
   "source": [
    "df_topic.to_csv('data/subtopics_bertopic.csv')"
   ]
  },
  {
   "cell_type": "code",
   "execution_count": 18,
   "metadata": {},
   "outputs": [
    {
     "data": {
      "application/vnd.plotly.v1+json": {
       "config": {
        "plotlyServerURL": "https://plot.ly"
       },
       "data": [
        {
         "marker": {
          "color": "#D55E00"
         },
         "orientation": "h",
         "type": "bar",
         "x": [
          0.018299758560591864,
          0.018946675476016764,
          0.02358846875525452,
          0.028206867276124693,
          0.029142150583132173
         ],
         "xaxis": "x",
         "y": [
          "driving  ",
          "cities  ",
          "housing  ",
          "cars  ",
          "transport  "
         ],
         "yaxis": "y"
        },
        {
         "marker": {
          "color": "#0072B2"
         },
         "orientation": "h",
         "type": "bar",
         "x": [
          0.027743121517389845,
          0.034307926876933834,
          0.0482419733747984,
          0.05109474712741394,
          0.08035343873012274
         ],
         "xaxis": "x2",
         "y": [
          "capital  ",
          "taxed  ",
          "income  ",
          "tax  ",
          "taxation  "
         ],
         "yaxis": "y2"
        },
        {
         "marker": {
          "color": "#CC79A7"
         },
         "orientation": "h",
         "type": "bar",
         "x": [
          0.02933347420106263,
          0.03154184298629682,
          0.03185198087262581,
          0.03780677139889774,
          0.04122251794814706
         ],
         "xaxis": "x3",
         "y": [
          "vote  ",
          "election  ",
          "voting  ",
          "parliament  ",
          "democracy  "
         ],
         "yaxis": "y3"
        },
        {
         "marker": {
          "color": "#E69F00"
         },
         "orientation": "h",
         "type": "bar",
         "x": [
          0.025815190436797274,
          0.026294864265364114,
          0.03058181057575172,
          0.03217587254503982,
          0.045046221563055745
         ],
         "xaxis": "x4",
         "y": [
          "opinions  ",
          "others  ",
          "discussion  ",
          "freedom  ",
          "speech  "
         ],
         "yaxis": "y4"
        },
        {
         "marker": {
          "color": "#56B4E9"
         },
         "orientation": "h",
         "type": "bar",
         "x": [
          0.02276505279056649,
          0.026017203189218848,
          0.04897188815878483,
          0.05448800853600741,
          0.08713883491891156
         ],
         "xaxis": "x5",
         "y": [
          "agriculture  ",
          "plantbased  ",
          "production  ",
          "meat  ",
          "food  "
         ],
         "yaxis": "y5"
        },
        {
         "marker": {
          "color": "#009E73"
         },
         "orientation": "h",
         "type": "bar",
         "x": [
          0.022714109150511138,
          0.022826256410573585,
          0.03194626152817237,
          0.0343256289470256,
          0.03579339357253958
         ],
         "xaxis": "x6",
         "y": [
          "good  ",
          "people  ",
          "life  ",
          "wellbeing  ",
          "society  "
         ],
         "yaxis": "y6"
        },
        {
         "marker": {
          "color": "#F0E442"
         },
         "orientation": "h",
         "type": "bar",
         "x": [
          0.019875365389786053,
          0.026966067579116838,
          0.040082858201280776,
          0.05032373097206135,
          0.08500914022996524
         ],
         "xaxis": "x7",
         "y": [
          "goals  ",
          "loss  ",
          "nature  ",
          "change  ",
          "climate  "
         ],
         "yaxis": "y7"
        },
        {
         "marker": {
          "color": "#D55E00"
         },
         "orientation": "h",
         "type": "bar",
         "x": [
          0.025086221521918788,
          0.03561127367460819,
          0.039084077811978944,
          0.05928353174122347,
          0.06853601982520599
         ],
         "xaxis": "x8",
         "y": [
          "refugees  ",
          "country  ",
          "asylum  ",
          "immigrants  ",
          "immigration  "
         ],
         "yaxis": "y8"
        }
       ],
       "layout": {
        "annotations": [
         {
          "font": {
           "size": 16
          },
          "showarrow": false,
          "text": "Topic 0",
          "x": 0.0875,
          "xanchor": "center",
          "xref": "paper",
          "y": 1,
          "yanchor": "bottom",
          "yref": "paper"
         },
         {
          "font": {
           "size": 16
          },
          "showarrow": false,
          "text": "Topic 1",
          "x": 0.36250000000000004,
          "xanchor": "center",
          "xref": "paper",
          "y": 1,
          "yanchor": "bottom",
          "yref": "paper"
         },
         {
          "font": {
           "size": 16
          },
          "showarrow": false,
          "text": "Topic 2",
          "x": 0.6375000000000001,
          "xanchor": "center",
          "xref": "paper",
          "y": 1,
          "yanchor": "bottom",
          "yref": "paper"
         },
         {
          "font": {
           "size": 16
          },
          "showarrow": false,
          "text": "Topic 3",
          "x": 0.9125,
          "xanchor": "center",
          "xref": "paper",
          "y": 1,
          "yanchor": "bottom",
          "yref": "paper"
         },
         {
          "font": {
           "size": 16
          },
          "showarrow": false,
          "text": "Topic 4",
          "x": 0.0875,
          "xanchor": "center",
          "xref": "paper",
          "y": 0.4,
          "yanchor": "bottom",
          "yref": "paper"
         },
         {
          "font": {
           "size": 16
          },
          "showarrow": false,
          "text": "Topic 5",
          "x": 0.36250000000000004,
          "xanchor": "center",
          "xref": "paper",
          "y": 0.4,
          "yanchor": "bottom",
          "yref": "paper"
         },
         {
          "font": {
           "size": 16
          },
          "showarrow": false,
          "text": "Topic 6",
          "x": 0.6375000000000001,
          "xanchor": "center",
          "xref": "paper",
          "y": 0.4,
          "yanchor": "bottom",
          "yref": "paper"
         },
         {
          "font": {
           "size": 16
          },
          "showarrow": false,
          "text": "Topic 7",
          "x": 0.9125,
          "xanchor": "center",
          "xref": "paper",
          "y": 0.4,
          "yanchor": "bottom",
          "yref": "paper"
         }
        ],
        "height": 500,
        "hoverlabel": {
         "bgcolor": "white",
         "font": {
          "family": "Rockwell",
          "size": 16
         }
        },
        "showlegend": false,
        "template": {
         "data": {
          "bar": [
           {
            "error_x": {
             "color": "#2a3f5f"
            },
            "error_y": {
             "color": "#2a3f5f"
            },
            "marker": {
             "line": {
              "color": "white",
              "width": 0.5
             },
             "pattern": {
              "fillmode": "overlay",
              "size": 10,
              "solidity": 0.2
             }
            },
            "type": "bar"
           }
          ],
          "barpolar": [
           {
            "marker": {
             "line": {
              "color": "white",
              "width": 0.5
             },
             "pattern": {
              "fillmode": "overlay",
              "size": 10,
              "solidity": 0.2
             }
            },
            "type": "barpolar"
           }
          ],
          "carpet": [
           {
            "aaxis": {
             "endlinecolor": "#2a3f5f",
             "gridcolor": "#C8D4E3",
             "linecolor": "#C8D4E3",
             "minorgridcolor": "#C8D4E3",
             "startlinecolor": "#2a3f5f"
            },
            "baxis": {
             "endlinecolor": "#2a3f5f",
             "gridcolor": "#C8D4E3",
             "linecolor": "#C8D4E3",
             "minorgridcolor": "#C8D4E3",
             "startlinecolor": "#2a3f5f"
            },
            "type": "carpet"
           }
          ],
          "choropleth": [
           {
            "colorbar": {
             "outlinewidth": 0,
             "ticks": ""
            },
            "type": "choropleth"
           }
          ],
          "contour": [
           {
            "colorbar": {
             "outlinewidth": 0,
             "ticks": ""
            },
            "colorscale": [
             [
              0,
              "#0d0887"
             ],
             [
              0.1111111111111111,
              "#46039f"
             ],
             [
              0.2222222222222222,
              "#7201a8"
             ],
             [
              0.3333333333333333,
              "#9c179e"
             ],
             [
              0.4444444444444444,
              "#bd3786"
             ],
             [
              0.5555555555555556,
              "#d8576b"
             ],
             [
              0.6666666666666666,
              "#ed7953"
             ],
             [
              0.7777777777777778,
              "#fb9f3a"
             ],
             [
              0.8888888888888888,
              "#fdca26"
             ],
             [
              1,
              "#f0f921"
             ]
            ],
            "type": "contour"
           }
          ],
          "contourcarpet": [
           {
            "colorbar": {
             "outlinewidth": 0,
             "ticks": ""
            },
            "type": "contourcarpet"
           }
          ],
          "heatmap": [
           {
            "colorbar": {
             "outlinewidth": 0,
             "ticks": ""
            },
            "colorscale": [
             [
              0,
              "#0d0887"
             ],
             [
              0.1111111111111111,
              "#46039f"
             ],
             [
              0.2222222222222222,
              "#7201a8"
             ],
             [
              0.3333333333333333,
              "#9c179e"
             ],
             [
              0.4444444444444444,
              "#bd3786"
             ],
             [
              0.5555555555555556,
              "#d8576b"
             ],
             [
              0.6666666666666666,
              "#ed7953"
             ],
             [
              0.7777777777777778,
              "#fb9f3a"
             ],
             [
              0.8888888888888888,
              "#fdca26"
             ],
             [
              1,
              "#f0f921"
             ]
            ],
            "type": "heatmap"
           }
          ],
          "heatmapgl": [
           {
            "colorbar": {
             "outlinewidth": 0,
             "ticks": ""
            },
            "colorscale": [
             [
              0,
              "#0d0887"
             ],
             [
              0.1111111111111111,
              "#46039f"
             ],
             [
              0.2222222222222222,
              "#7201a8"
             ],
             [
              0.3333333333333333,
              "#9c179e"
             ],
             [
              0.4444444444444444,
              "#bd3786"
             ],
             [
              0.5555555555555556,
              "#d8576b"
             ],
             [
              0.6666666666666666,
              "#ed7953"
             ],
             [
              0.7777777777777778,
              "#fb9f3a"
             ],
             [
              0.8888888888888888,
              "#fdca26"
             ],
             [
              1,
              "#f0f921"
             ]
            ],
            "type": "heatmapgl"
           }
          ],
          "histogram": [
           {
            "marker": {
             "pattern": {
              "fillmode": "overlay",
              "size": 10,
              "solidity": 0.2
             }
            },
            "type": "histogram"
           }
          ],
          "histogram2d": [
           {
            "colorbar": {
             "outlinewidth": 0,
             "ticks": ""
            },
            "colorscale": [
             [
              0,
              "#0d0887"
             ],
             [
              0.1111111111111111,
              "#46039f"
             ],
             [
              0.2222222222222222,
              "#7201a8"
             ],
             [
              0.3333333333333333,
              "#9c179e"
             ],
             [
              0.4444444444444444,
              "#bd3786"
             ],
             [
              0.5555555555555556,
              "#d8576b"
             ],
             [
              0.6666666666666666,
              "#ed7953"
             ],
             [
              0.7777777777777778,
              "#fb9f3a"
             ],
             [
              0.8888888888888888,
              "#fdca26"
             ],
             [
              1,
              "#f0f921"
             ]
            ],
            "type": "histogram2d"
           }
          ],
          "histogram2dcontour": [
           {
            "colorbar": {
             "outlinewidth": 0,
             "ticks": ""
            },
            "colorscale": [
             [
              0,
              "#0d0887"
             ],
             [
              0.1111111111111111,
              "#46039f"
             ],
             [
              0.2222222222222222,
              "#7201a8"
             ],
             [
              0.3333333333333333,
              "#9c179e"
             ],
             [
              0.4444444444444444,
              "#bd3786"
             ],
             [
              0.5555555555555556,
              "#d8576b"
             ],
             [
              0.6666666666666666,
              "#ed7953"
             ],
             [
              0.7777777777777778,
              "#fb9f3a"
             ],
             [
              0.8888888888888888,
              "#fdca26"
             ],
             [
              1,
              "#f0f921"
             ]
            ],
            "type": "histogram2dcontour"
           }
          ],
          "mesh3d": [
           {
            "colorbar": {
             "outlinewidth": 0,
             "ticks": ""
            },
            "type": "mesh3d"
           }
          ],
          "parcoords": [
           {
            "line": {
             "colorbar": {
              "outlinewidth": 0,
              "ticks": ""
             }
            },
            "type": "parcoords"
           }
          ],
          "pie": [
           {
            "automargin": true,
            "type": "pie"
           }
          ],
          "scatter": [
           {
            "fillpattern": {
             "fillmode": "overlay",
             "size": 10,
             "solidity": 0.2
            },
            "type": "scatter"
           }
          ],
          "scatter3d": [
           {
            "line": {
             "colorbar": {
              "outlinewidth": 0,
              "ticks": ""
             }
            },
            "marker": {
             "colorbar": {
              "outlinewidth": 0,
              "ticks": ""
             }
            },
            "type": "scatter3d"
           }
          ],
          "scattercarpet": [
           {
            "marker": {
             "colorbar": {
              "outlinewidth": 0,
              "ticks": ""
             }
            },
            "type": "scattercarpet"
           }
          ],
          "scattergeo": [
           {
            "marker": {
             "colorbar": {
              "outlinewidth": 0,
              "ticks": ""
             }
            },
            "type": "scattergeo"
           }
          ],
          "scattergl": [
           {
            "marker": {
             "colorbar": {
              "outlinewidth": 0,
              "ticks": ""
             }
            },
            "type": "scattergl"
           }
          ],
          "scattermapbox": [
           {
            "marker": {
             "colorbar": {
              "outlinewidth": 0,
              "ticks": ""
             }
            },
            "type": "scattermapbox"
           }
          ],
          "scatterpolar": [
           {
            "marker": {
             "colorbar": {
              "outlinewidth": 0,
              "ticks": ""
             }
            },
            "type": "scatterpolar"
           }
          ],
          "scatterpolargl": [
           {
            "marker": {
             "colorbar": {
              "outlinewidth": 0,
              "ticks": ""
             }
            },
            "type": "scatterpolargl"
           }
          ],
          "scatterternary": [
           {
            "marker": {
             "colorbar": {
              "outlinewidth": 0,
              "ticks": ""
             }
            },
            "type": "scatterternary"
           }
          ],
          "surface": [
           {
            "colorbar": {
             "outlinewidth": 0,
             "ticks": ""
            },
            "colorscale": [
             [
              0,
              "#0d0887"
             ],
             [
              0.1111111111111111,
              "#46039f"
             ],
             [
              0.2222222222222222,
              "#7201a8"
             ],
             [
              0.3333333333333333,
              "#9c179e"
             ],
             [
              0.4444444444444444,
              "#bd3786"
             ],
             [
              0.5555555555555556,
              "#d8576b"
             ],
             [
              0.6666666666666666,
              "#ed7953"
             ],
             [
              0.7777777777777778,
              "#fb9f3a"
             ],
             [
              0.8888888888888888,
              "#fdca26"
             ],
             [
              1,
              "#f0f921"
             ]
            ],
            "type": "surface"
           }
          ],
          "table": [
           {
            "cells": {
             "fill": {
              "color": "#EBF0F8"
             },
             "line": {
              "color": "white"
             }
            },
            "header": {
             "fill": {
              "color": "#C8D4E3"
             },
             "line": {
              "color": "white"
             }
            },
            "type": "table"
           }
          ]
         },
         "layout": {
          "annotationdefaults": {
           "arrowcolor": "#2a3f5f",
           "arrowhead": 0,
           "arrowwidth": 1
          },
          "autotypenumbers": "strict",
          "coloraxis": {
           "colorbar": {
            "outlinewidth": 0,
            "ticks": ""
           }
          },
          "colorscale": {
           "diverging": [
            [
             0,
             "#8e0152"
            ],
            [
             0.1,
             "#c51b7d"
            ],
            [
             0.2,
             "#de77ae"
            ],
            [
             0.3,
             "#f1b6da"
            ],
            [
             0.4,
             "#fde0ef"
            ],
            [
             0.5,
             "#f7f7f7"
            ],
            [
             0.6,
             "#e6f5d0"
            ],
            [
             0.7,
             "#b8e186"
            ],
            [
             0.8,
             "#7fbc41"
            ],
            [
             0.9,
             "#4d9221"
            ],
            [
             1,
             "#276419"
            ]
           ],
           "sequential": [
            [
             0,
             "#0d0887"
            ],
            [
             0.1111111111111111,
             "#46039f"
            ],
            [
             0.2222222222222222,
             "#7201a8"
            ],
            [
             0.3333333333333333,
             "#9c179e"
            ],
            [
             0.4444444444444444,
             "#bd3786"
            ],
            [
             0.5555555555555556,
             "#d8576b"
            ],
            [
             0.6666666666666666,
             "#ed7953"
            ],
            [
             0.7777777777777778,
             "#fb9f3a"
            ],
            [
             0.8888888888888888,
             "#fdca26"
            ],
            [
             1,
             "#f0f921"
            ]
           ],
           "sequentialminus": [
            [
             0,
             "#0d0887"
            ],
            [
             0.1111111111111111,
             "#46039f"
            ],
            [
             0.2222222222222222,
             "#7201a8"
            ],
            [
             0.3333333333333333,
             "#9c179e"
            ],
            [
             0.4444444444444444,
             "#bd3786"
            ],
            [
             0.5555555555555556,
             "#d8576b"
            ],
            [
             0.6666666666666666,
             "#ed7953"
            ],
            [
             0.7777777777777778,
             "#fb9f3a"
            ],
            [
             0.8888888888888888,
             "#fdca26"
            ],
            [
             1,
             "#f0f921"
            ]
           ]
          },
          "colorway": [
           "#636efa",
           "#EF553B",
           "#00cc96",
           "#ab63fa",
           "#FFA15A",
           "#19d3f3",
           "#FF6692",
           "#B6E880",
           "#FF97FF",
           "#FECB52"
          ],
          "font": {
           "color": "#2a3f5f"
          },
          "geo": {
           "bgcolor": "white",
           "lakecolor": "white",
           "landcolor": "white",
           "showlakes": true,
           "showland": true,
           "subunitcolor": "#C8D4E3"
          },
          "hoverlabel": {
           "align": "left"
          },
          "hovermode": "closest",
          "mapbox": {
           "style": "light"
          },
          "paper_bgcolor": "white",
          "plot_bgcolor": "white",
          "polar": {
           "angularaxis": {
            "gridcolor": "#EBF0F8",
            "linecolor": "#EBF0F8",
            "ticks": ""
           },
           "bgcolor": "white",
           "radialaxis": {
            "gridcolor": "#EBF0F8",
            "linecolor": "#EBF0F8",
            "ticks": ""
           }
          },
          "scene": {
           "xaxis": {
            "backgroundcolor": "white",
            "gridcolor": "#DFE8F3",
            "gridwidth": 2,
            "linecolor": "#EBF0F8",
            "showbackground": true,
            "ticks": "",
            "zerolinecolor": "#EBF0F8"
           },
           "yaxis": {
            "backgroundcolor": "white",
            "gridcolor": "#DFE8F3",
            "gridwidth": 2,
            "linecolor": "#EBF0F8",
            "showbackground": true,
            "ticks": "",
            "zerolinecolor": "#EBF0F8"
           },
           "zaxis": {
            "backgroundcolor": "white",
            "gridcolor": "#DFE8F3",
            "gridwidth": 2,
            "linecolor": "#EBF0F8",
            "showbackground": true,
            "ticks": "",
            "zerolinecolor": "#EBF0F8"
           }
          },
          "shapedefaults": {
           "line": {
            "color": "#2a3f5f"
           }
          },
          "ternary": {
           "aaxis": {
            "gridcolor": "#DFE8F3",
            "linecolor": "#A2B1C6",
            "ticks": ""
           },
           "baxis": {
            "gridcolor": "#DFE8F3",
            "linecolor": "#A2B1C6",
            "ticks": ""
           },
           "bgcolor": "white",
           "caxis": {
            "gridcolor": "#DFE8F3",
            "linecolor": "#A2B1C6",
            "ticks": ""
           }
          },
          "title": {
           "x": 0.05
          },
          "xaxis": {
           "automargin": true,
           "gridcolor": "#EBF0F8",
           "linecolor": "#EBF0F8",
           "ticks": "",
           "title": {
            "standoff": 15
           },
           "zerolinecolor": "#EBF0F8",
           "zerolinewidth": 2
          },
          "yaxis": {
           "automargin": true,
           "gridcolor": "#EBF0F8",
           "linecolor": "#EBF0F8",
           "ticks": "",
           "title": {
            "standoff": 15
           },
           "zerolinecolor": "#EBF0F8",
           "zerolinewidth": 2
          }
         }
        },
        "title": {
         "font": {
          "color": "Black",
          "size": 22
         },
         "text": "Topic Word Scores",
         "x": 0.5,
         "xanchor": "center",
         "yanchor": "top"
        },
        "width": 1000,
        "xaxis": {
         "anchor": "y",
         "domain": [
          0,
          0.175
         ],
         "showgrid": true
        },
        "xaxis2": {
         "anchor": "y2",
         "domain": [
          0.275,
          0.45
         ],
         "showgrid": true
        },
        "xaxis3": {
         "anchor": "y3",
         "domain": [
          0.55,
          0.7250000000000001
         ],
         "showgrid": true
        },
        "xaxis4": {
         "anchor": "y4",
         "domain": [
          0.825,
          1
         ],
         "showgrid": true
        },
        "xaxis5": {
         "anchor": "y5",
         "domain": [
          0,
          0.175
         ],
         "showgrid": true
        },
        "xaxis6": {
         "anchor": "y6",
         "domain": [
          0.275,
          0.45
         ],
         "showgrid": true
        },
        "xaxis7": {
         "anchor": "y7",
         "domain": [
          0.55,
          0.7250000000000001
         ],
         "showgrid": true
        },
        "xaxis8": {
         "anchor": "y8",
         "domain": [
          0.825,
          1
         ],
         "showgrid": true
        },
        "yaxis": {
         "anchor": "x",
         "domain": [
          0.6000000000000001,
          1
         ],
         "showgrid": true
        },
        "yaxis2": {
         "anchor": "x2",
         "domain": [
          0.6000000000000001,
          1
         ],
         "showgrid": true
        },
        "yaxis3": {
         "anchor": "x3",
         "domain": [
          0.6000000000000001,
          1
         ],
         "showgrid": true
        },
        "yaxis4": {
         "anchor": "x4",
         "domain": [
          0.6000000000000001,
          1
         ],
         "showgrid": true
        },
        "yaxis5": {
         "anchor": "x5",
         "domain": [
          0,
          0.4
         ],
         "showgrid": true
        },
        "yaxis6": {
         "anchor": "x6",
         "domain": [
          0,
          0.4
         ],
         "showgrid": true
        },
        "yaxis7": {
         "anchor": "x7",
         "domain": [
          0,
          0.4
         ],
         "showgrid": true
        },
        "yaxis8": {
         "anchor": "x8",
         "domain": [
          0,
          0.4
         ],
         "showgrid": true
        }
       }
      }
     },
     "metadata": {},
     "output_type": "display_data"
    }
   ],
   "source": [
    "topic_model.visualize_barchart()"
   ]
  },
  {
   "cell_type": "code",
   "execution_count": 19,
   "metadata": {},
   "outputs": [
    {
     "data": {
      "application/vnd.plotly.v1+json": {
       "config": {
        "plotlyServerURL": "https://plot.ly"
       },
       "data": [
        {
         "coloraxis": "coloraxis",
         "hovertemplate": "x: %{x}<br>y: %{y}<br>Similarity Score: %{z}<extra></extra>",
         "name": "0",
         "type": "heatmap",
         "x": [
          "0_transport_cars_housing",
          "1_taxation_tax_income",
          "2_democracy_parliament_voting",
          "3_speech_freedom_discussion",
          "4_food_meat_production",
          "5_society_wellbeing_life",
          "6_climate_change_nature",
          "7_immigration_immigrants_as...",
          "8_economic_growth_economy",
          "9_media_news_yles",
          "10_students_education_study",
          "11_welfare_areas_cuts",
          "12_religion_religious_teach...",
          "13_gender_genders_two",
          "14_health_care_nurses",
          "15_pension_pensions_pension...",
          "16_finns_finn_their",
          "17_drug_drugs_use",
          "18_racism_racist_hate",
          "19_language_swedish_finnish",
          "20_crimes_criminal_punishment",
          "21_hobbies_exercise_sports",
          "22_school_bullying_bully",
          "23_school_teachers_childhood",
          "24_government_current_dissa...",
          "25_finland_carbon_energy",
          "26_animals_animal_pets",
          "27_elderly_caregivers_servi...",
          "28_political_decisions_deci...",
          "29_electricity_power_price",
          "30_immigration_finland_refu...",
          "31_finland_tourism_karelian",
          "32_child_allowance_children",
          "33_mental_health_psychother...",
          "34_unemployment_unemployed_...",
          "35_forests_forest_felling",
          "36_ukraine_russia_war",
          "37_phones_cell_mobile",
          "38_mining_finland_companies",
          "39_culture_luxury_cultural",
          "40_yes_uh_good",
          "41_conscription_service_women",
          "42_parents_children_respons...",
          "43_racism_hate_finnish",
          "44_direct_parties_democracy",
          "45_finland_salaries_finlands",
          "46_fur_farming_banned",
          "47_cannabis_legalized_sale",
          "48_gender_reassignment_trans",
          "49_independent_thought_brings",
          "50_sick_kela_kelas",
          "51_basic_income_everyone",
          "52_age_old_16",
          "53_eu_finland_leave",
          "54_reduced_bureaucracy_muni...",
          "55_train_trains_travel",
          "56_nato_membership_strong",
          "57_security_social_reform",
          "58_week_work_fourday",
          "59_subsidies_who_instead",
          "60_entrepreneurs_sole_propr...",
          "61_salary_correspond_lowest",
          "62_family_children_families",
          "63_sitra_survey_sheltered",
          "64_corona_vaccine_media",
          "65_perspectives_new_experie...",
          "66_president_elected_savo",
          "67_future_hope_nation",
          "68_state_life_times",
          "69_doctors_medical_area",
          "70_clear_concise_short",
          "71_intelligence_artificial_...",
          "72_hunting_wolves_poaching",
          "73_best_country_finland",
          "74_strike_strikes_right",
          "75_law_polygamy_finland",
          "76_taxation_tax_estonian",
          "77_cars_functional_strive",
          "78_employers_employer_equal...",
          "79_peat_renewable_energy",
          "80_opinion_metallica_jamal"
         ],
         "xaxis": "x",
         "y": [
          "0_transport_cars_housing",
          "1_taxation_tax_income",
          "2_democracy_parliament_voting",
          "3_speech_freedom_discussion",
          "4_food_meat_production",
          "5_society_wellbeing_life",
          "6_climate_change_nature",
          "7_immigration_immigrants_as...",
          "8_economic_growth_economy",
          "9_media_news_yles",
          "10_students_education_study",
          "11_welfare_areas_cuts",
          "12_religion_religious_teach...",
          "13_gender_genders_two",
          "14_health_care_nurses",
          "15_pension_pensions_pension...",
          "16_finns_finn_their",
          "17_drug_drugs_use",
          "18_racism_racist_hate",
          "19_language_swedish_finnish",
          "20_crimes_criminal_punishment",
          "21_hobbies_exercise_sports",
          "22_school_bullying_bully",
          "23_school_teachers_childhood",
          "24_government_current_dissa...",
          "25_finland_carbon_energy",
          "26_animals_animal_pets",
          "27_elderly_caregivers_servi...",
          "28_political_decisions_deci...",
          "29_electricity_power_price",
          "30_immigration_finland_refu...",
          "31_finland_tourism_karelian",
          "32_child_allowance_children",
          "33_mental_health_psychother...",
          "34_unemployment_unemployed_...",
          "35_forests_forest_felling",
          "36_ukraine_russia_war",
          "37_phones_cell_mobile",
          "38_mining_finland_companies",
          "39_culture_luxury_cultural",
          "40_yes_uh_good",
          "41_conscription_service_women",
          "42_parents_children_respons...",
          "43_racism_hate_finnish",
          "44_direct_parties_democracy",
          "45_finland_salaries_finlands",
          "46_fur_farming_banned",
          "47_cannabis_legalized_sale",
          "48_gender_reassignment_trans",
          "49_independent_thought_brings",
          "50_sick_kela_kelas",
          "51_basic_income_everyone",
          "52_age_old_16",
          "53_eu_finland_leave",
          "54_reduced_bureaucracy_muni...",
          "55_train_trains_travel",
          "56_nato_membership_strong",
          "57_security_social_reform",
          "58_week_work_fourday",
          "59_subsidies_who_instead",
          "60_entrepreneurs_sole_propr...",
          "61_salary_correspond_lowest",
          "62_family_children_families",
          "63_sitra_survey_sheltered",
          "64_corona_vaccine_media",
          "65_perspectives_new_experie...",
          "66_president_elected_savo",
          "67_future_hope_nation",
          "68_state_life_times",
          "69_doctors_medical_area",
          "70_clear_concise_short",
          "71_intelligence_artificial_...",
          "72_hunting_wolves_poaching",
          "73_best_country_finland",
          "74_strike_strikes_right",
          "75_law_polygamy_finland",
          "76_taxation_tax_estonian",
          "77_cars_functional_strive",
          "78_employers_employer_equal...",
          "79_peat_renewable_energy",
          "80_opinion_metallica_jamal"
         ],
         "yaxis": "y",
         "z": [
          [
           0.9999994039535522,
           0.5632051229476929,
           0.4417383372783661,
           0.2733888328075409,
           0.46657052636146545,
           0.45785632729530334,
           0.5252441763877869,
           0.4315454065799713,
           0.5852970480918884,
           0.28978514671325684,
           0.3658822178840637,
           0.5815086364746094,
           0.24627584218978882,
           0.17040148377418518,
           0.5153082013130188,
           0.4769202470779419,
           0.21659018099308014,
           0.4270365536212921,
           0.26538750529289246,
           0.22894828021526337,
           0.3385259211063385,
           0.4782390296459198,
           0.19382232427597046,
           0.3250884413719177,
           0.4017932415008545,
           0.49640756845474243,
           0.37425774335861206,
           0.43022027611732483,
           0.4443131685256958,
           0.6155387759208679,
           0.3415677547454834,
           0.34992629289627075,
           0.3899080157279968,
           0.3390806317329407,
           0.38912102580070496,
           0.5151174068450928,
           0.24930651485919952,
           0.3306474983692169,
           0.393295556306839,
           0.4090653657913208,
           0.1067529246211052,
           0.24476557970046997,
           0.3363432288169861,
           0.2962864935398102,
           0.31268879771232605,
           0.42792582511901855,
           0.37202024459838867,
           0.44156894087791443,
           0.21739602088928223,
           0.20922374725341797,
           0.3874484598636627,
           0.4790230989456177,
           0.3259749710559845,
           0.30344000458717346,
           0.5974999070167542,
           0.5131084322929382,
           0.16856569051742554,
           0.3608367145061493,
           0.3071521818637848,
           0.5439416170120239,
           0.4518736004829407,
           0.33455464243888855,
           0.3669322729110718,
           0.35771024227142334,
           0.2203046977519989,
           0.140304297208786,
           0.1789487898349762,
           0.3185393512248993,
           0.5332204103469849,
           0.2970769703388214,
           0.1587626039981842,
           0.37645775079727173,
           0.3661330044269562,
           0.24537427723407745,
           0.30918076634407043,
           0.34949442744255066,
           0.4778539538383484,
           0.5951499938964844,
           0.2849757671356201,
           0.34002685546875,
           0.2209862470626831
          ],
          [
           0.5632051229476929,
           0.9999997019767761,
           0.4011361300945282,
           0.15798354148864746,
           0.4077525734901428,
           0.35827362537384033,
           0.27921921014785767,
           0.3537011444568634,
           0.5391854643821716,
           0.24696150422096252,
           0.3398870527744293,
           0.6447370648384094,
           0.2669658958911896,
           0.1561485081911087,
           0.4428843557834625,
           0.5242186188697815,
           0.1616571694612503,
           0.36194920539855957,
           0.14651967585086823,
           0.19242563843727112,
           0.34400835633277893,
           0.30596888065338135,
           0.07609619200229645,
           0.25676602125167847,
           0.3731154203414917,
           0.26611247658729553,
           0.2792799770832062,
           0.3165697455406189,
           0.375429630279541,
           0.43081673979759216,
           0.2613029181957245,
           0.23253929615020752,
           0.5188490748405457,
           0.20604513585567474,
           0.40563929080963135,
           0.317129909992218,
           0.22116965055465698,
           0.14413240551948547,
           0.42325451970100403,
           0.34847432374954224,
           0.10751444101333618,
           0.2949128746986389,
           0.23862989246845245,
           0.15144771337509155,
           0.24982227385044098,
           0.425575315952301,
           0.32818642258644104,
           0.44158923625946045,
           0.21818096935749054,
           0.1604260355234146,
           0.4113779664039612,
           0.6097936630249023,
           0.22671270370483398,
           0.2505419850349426,
           0.5266667008399963,
           0.23806416988372803,
           0.06719451397657394,
           0.47585970163345337,
           0.2722143530845642,
           0.599880576133728,
           0.5463618040084839,
           0.463912695646286,
           0.2731581926345825,
           0.3141953647136688,
           0.1443205624818802,
           0.046323392540216446,
           0.20460744202136993,
           0.2277003973722458,
           0.44160425662994385,
           0.2151913046836853,
           0.16885961592197418,
           0.27413204312324524,
           0.21829083561897278,
           0.10489494353532791,
           0.36419495940208435,
           0.31487008929252625,
           0.7286930084228516,
           0.25237998366355896,
           0.29967230558395386,
           0.30885782837867737,
           0.12646953761577606
          ],
          [
           0.4417383372783661,
           0.4011361300945282,
           1,
           0.41613197326660156,
           0.2530709207057953,
           0.43718913197517395,
           0.3398357331752777,
           0.3885056972503662,
           0.38130754232406616,
           0.499393105506897,
           0.30823153257369995,
           0.4262445867061615,
           0.318677693605423,
           0.2564451992511749,
           0.3456350266933441,
           0.38148733973503113,
           0.2766079306602478,
           0.2676786482334137,
           0.2934373617172241,
           0.2739986181259155,
           0.39702096581459045,
           0.24150414764881134,
           0.19850900769233704,
           0.2894391417503357,
           0.6444191336631775,
           0.25778162479400635,
           0.2547469735145569,
           0.3217337727546692,
           0.6822666525840759,
           0.29548272490501404,
           0.28936347365379333,
           0.3210165798664093,
           0.2711876630783081,
           0.1851508617401123,
           0.21367605030536652,
           0.28580141067504883,
           0.38888850808143616,
           0.2111511528491974,
           0.22132784128189087,
           0.30581361055374146,
           0.1720200926065445,
           0.3892239034175873,
           0.3594570755958557,
           0.3479020297527313,
           0.6154385209083557,
           0.2644804120063782,
           0.14715097844600677,
           0.2808041274547577,
           0.2079729288816452,
           0.30402934551239014,
           0.24050842225551605,
           0.31697434186935425,
           0.5349951982498169,
           0.3184824287891388,
           0.5660457015037537,
           0.18608754873275757,
           0.3103020489215851,
           0.33230236172676086,
           0.15588738024234772,
           0.3166147768497467,
           0.285210520029068,
           0.21776074171066284,
           0.29336780309677124,
           0.3451845943927765,
           0.22125612199306488,
           0.2261425107717514,
           0.4572974443435669,
           0.336047500371933,
           0.5113053321838379,
           0.19808563590049744,
           0.22176530957221985,
           0.308032363653183,
           0.2771334648132324,
           0.16664882004261017,
           0.41778111457824707,
           0.35547730326652527,
           0.33920153975486755,
           0.24335861206054688,
           0.2777925133705139,
           0.19222493469715118,
           0.24404095113277435
          ],
          [
           0.2733888328075409,
           0.15798354148864746,
           0.41613197326660156,
           0.9999998211860657,
           0.20184031128883362,
           0.5349858999252319,
           0.32964590191841125,
           0.3316390812397003,
           0.2888844311237335,
           0.5966262817382812,
           0.2182144820690155,
           0.22545427083969116,
           0.439657598733902,
           0.37343162298202515,
           0.24488681554794312,
           0.11862415820360184,
           0.2745378315448761,
           0.2846698760986328,
           0.5641218423843384,
           0.282983660697937,
           0.27506184577941895,
           0.23913972079753876,
           0.3731648921966553,
           0.27616462111473083,
           0.43893593549728394,
           0.15045617520809174,
           0.2572481036186218,
           0.2468973994255066,
           0.4819609820842743,
           0.16060608625411987,
           0.19954831898212433,
           0.19536656141281128,
           0.09634760767221451,
           0.3727954626083374,
           0.131714329123497,
           0.15557366609573364,
           0.2720957100391388,
           0.271952360868454,
           0.1040368378162384,
           0.43301722407341003,
           0.27237260341644287,
           0.20319603383541107,
           0.4335566461086273,
           0.48943737149238586,
           0.24580413103103638,
           0.10283330827951431,
           0.19177785515785217,
           0.2452237755060196,
           0.31918269395828247,
           0.4285583794116974,
           0.08808661252260208,
           0.13553489744663239,
           0.3685249388217926,
           0.17311345040798187,
           0.22580558061599731,
           0.07139884680509567,
           0.24352186918258667,
           0.2081872522830963,
           0.09853917360305786,
           0.156987264752388,
           0.1276630014181137,
           0.011720365844666958,
           0.2821100056171417,
           0.27022993564605713,
           0.30834001302719116,
           0.47308510541915894,
           0.1498051881790161,
           0.2838110029697418,
           0.28565123677253723,
           0.06703408807516098,
           0.33463943004608154,
           0.272586852312088,
           0.24079205095767975,
           0.11518070846796036,
           0.37522268295288086,
           0.2965303063392639,
           0.12560389935970306,
           0.1207965686917305,
           0.20518043637275696,
           0.07060539722442627,
           0.3861899971961975
          ],
          [
           0.46657052636146545,
           0.4077525734901428,
           0.2530709207057953,
           0.20184031128883362,
           0.9999994039535522,
           0.34389743208885193,
           0.4356403350830078,
           0.2978472113609314,
           0.48947009444236755,
           0.25638774037361145,
           0.2629791498184204,
           0.4359283745288849,
           0.29672661423683167,
           0.13128112256526947,
           0.41726359724998474,
           0.24234122037887573,
           0.3179931342601776,
           0.2876870334148407,
           0.17674781382083893,
           0.2804645299911499,
           0.21867279708385468,
           0.34717071056365967,
           0.12353194504976273,
           0.24306142330169678,
           0.26034781336784363,
           0.47498464584350586,
           0.4893002212047577,
           0.2943512499332428,
           0.29988712072372437,
           0.3836769759654999,
           0.3118346333503723,
           0.3755393624305725,
           0.28884756565093994,
           0.21036091446876526,
           0.25247567892074585,
           0.414461612701416,
           0.2303246408700943,
           0.21845340728759766,
           0.44559594988822937,
           0.4064273238182068,
           0.13256001472473145,
           0.20287500321865082,
           0.25044307112693787,
           0.30362406373023987,
           0.26837357878685,
           0.4359135329723358,
           0.5355018377304077,
           0.38512250781059265,
           0.1868067979812622,
           0.1856112778186798,
           0.39127016067504883,
           0.3722464144229889,
           0.16626356542110443,
           0.3470188081264496,
           0.3558548390865326,
           0.2571016550064087,
           0.23043128848075867,
           0.23309747874736786,
           0.17649099230766296,
           0.46858060359954834,
           0.3717433214187622,
           0.2505817711353302,
           0.2926110327243805,
           0.3285770118236542,
           0.2479315549135208,
           0.10638905316591263,
           0.2152726799249649,
           0.19746683537960052,
           0.397732675075531,
           0.19487223029136658,
           0.1257081776857376,
           0.2810622453689575,
           0.501289963722229,
           0.2787415087223053,
           0.234128937125206,
           0.39247846603393555,
           0.4043859541416168,
           0.35397499799728394,
           0.22529137134552002,
           0.4569357931613922,
           0.202399343252182
          ],
          [
           0.45785632729530334,
           0.35827362537384033,
           0.43718913197517395,
           0.5349858999252319,
           0.34389743208885193,
           1,
           0.47605571150779724,
           0.4011595547199249,
           0.5510815382003784,
           0.36427316069602966,
           0.3807339668273926,
           0.4562232792377472,
           0.43727990984916687,
           0.34781932830810547,
           0.46367013454437256,
           0.35625994205474854,
           0.3426026701927185,
           0.37170499563217163,
           0.35022565722465515,
           0.18117082118988037,
           0.37343043088912964,
           0.4848800599575043,
           0.3041747808456421,
           0.3899540901184082,
           0.518207848072052,
           0.2475648671388626,
           0.3447788953781128,
           0.5125262141227722,
           0.4648032486438751,
           0.2837119698524475,
           0.28038543462753296,
           0.3033727705478668,
           0.3197730481624603,
           0.44131171703338623,
           0.4392063021659851,
           0.2545017898082733,
           0.2590620517730713,
           0.24509653449058533,
           0.18622207641601562,
           0.5742445588111877,
           0.24990926682949066,
           0.30357030034065247,
           0.5309821963310242,
           0.3394589424133301,
           0.24625356495380402,
           0.32587605714797974,
           0.25675925612449646,
           0.2868881821632385,
           0.23511289060115814,
           0.4927935004234314,
           0.27514055371284485,
           0.5146461725234985,
           0.3711732029914856,
           0.20810581743717194,
           0.378229022026062,
           0.1368924379348755,
           0.18182863295078278,
           0.3886556029319763,
           0.296817809343338,
           0.3294008672237396,
           0.4618437886238098,
           0.27027398347854614,
           0.45687925815582275,
           0.27913758158683777,
           0.2172909528017044,
           0.42919862270355225,
           0.2238897979259491,
           0.5555457472801208,
           0.556637167930603,
           0.19039581716060638,
           0.2733430862426758,
           0.36507388949394226,
           0.2814156115055084,
           0.24948973953723907,
           0.29886284470558167,
           0.3191213607788086,
           0.2735751271247864,
           0.2707562744617462,
           0.33160755038261414,
           0.17346571385860443,
           0.3637922406196594
          ],
          [
           0.5252441763877869,
           0.27921921014785767,
           0.3398357331752777,
           0.32964590191841125,
           0.4356403350830078,
           0.47605571150779724,
           0.9999997615814209,
           0.33138513565063477,
           0.601478636264801,
           0.3407208025455475,
           0.2443505972623825,
           0.38322895765304565,
           0.29382023215293884,
           0.21451306343078613,
           0.35321831703186035,
           0.28185439109802246,
           0.16962257027626038,
           0.1986892819404602,
           0.2791230380535126,
           0.12672147154808044,
           0.23579663038253784,
           0.3422979414463043,
           0.20695218443870544,
           0.2999781668186188,
           0.4136141240596771,
           0.6124165654182434,
           0.3391663134098053,
           0.2334504872560501,
           0.4713405966758728,
           0.47546499967575073,
           0.22879251837730408,
           0.29958581924438477,
           0.21007156372070312,
           0.2609460949897766,
           0.22359706461429596,
           0.6611771583557129,
           0.3033151626586914,
           0.20050987601280212,
           0.31198686361312866,
           0.3883332908153534,
           0.09853938966989517,
           0.17192043364048004,
           0.32216376066207886,
           0.23937274515628815,
           0.1970023512840271,
           0.2300582230091095,
           0.4395347833633423,
           0.23729375004768372,
           0.18566802144050598,
           0.2444661259651184,
           0.20863161981105804,
           0.24697382748126984,
           0.2267340123653412,
           0.26403695344924927,
           0.4367739260196686,
           0.14524202048778534,
           0.24187219142913818,
           0.2944832146167755,
           0.19947583973407745,
           0.32906684279441833,
           0.2519732117652893,
           0.11129975318908691,
           0.31822091341018677,
           0.2617499828338623,
           0.29695770144462585,
           0.2752191126346588,
           0.1735348105430603,
           0.4692992568016052,
           0.3940332531929016,
           0.1335318386554718,
           0.21160922944545746,
           0.31223583221435547,
           0.44387906789779663,
           0.17912714183330536,
           0.22799809277057648,
           0.19583190977573395,
           0.18261174857616425,
           0.29853469133377075,
           0.18314270675182343,
           0.5165663361549377,
           0.16229133307933807
          ],
          [
           0.4315454065799713,
           0.3537011444568634,
           0.3885056972503662,
           0.3316390812397003,
           0.2978472113609314,
           0.4011595547199249,
           0.33138513565063477,
           0.9999999403953552,
           0.44709858298301697,
           0.3233065605163574,
           0.41436100006103516,
           0.46668481826782227,
           0.3250633776187897,
           0.22731837630271912,
           0.4243842661380768,
           0.3886193037033081,
           0.3118368983268738,
           0.40837571024894714,
           0.5403061509132385,
           0.33968234062194824,
           0.42878904938697815,
           0.1798105388879776,
           0.2560167908668518,
           0.26876065135002136,
           0.46052247285842896,
           0.24285222589969635,
           0.33187153935432434,
           0.28795325756073,
           0.3597007691860199,
           0.2052554488182068,
           0.6498509645462036,
           0.3414924144744873,
           0.32485276460647583,
           0.3532242476940155,
           0.47277411818504333,
           0.26664555072784424,
           0.42362579703330994,
           0.18383121490478516,
           0.25743359327316284,
           0.4606437683105469,
           0.15417622029781342,
           0.3671371340751648,
           0.3093719482421875,
           0.38324543833732605,
           0.28194916248321533,
           0.36377671360969543,
           0.2569873332977295,
           0.3634095788002014,
           0.3117417097091675,
           0.22648678719997406,
           0.37605178356170654,
           0.4602776765823364,
           0.2764717936515808,
           0.37626832723617554,
           0.4158989489078522,
           0.22288984060287476,
           0.26334458589553833,
           0.4588097333908081,
           0.22415725886821747,
           0.3737158179283142,
           0.3725864887237549,
           0.2365143895149231,
           0.3793819844722748,
           0.2821801006793976,
           0.25605300068855286,
           0.21286819875240326,
           0.30469515919685364,
           0.37790003418922424,
           0.44794556498527527,
           0.3125287592411041,
           0.17655275762081146,
           0.3128834068775177,
           0.28982844948768616,
           0.22992944717407227,
           0.4849247336387634,
           0.423016756772995,
           0.2807687819004059,
           0.23105646669864655,
           0.39739829301834106,
           0.11423458158969879,
           0.2551548480987549
          ],
          [
           0.5852970480918884,
           0.5391854643821716,
           0.38130754232406616,
           0.2888844311237335,
           0.48947009444236755,
           0.5510815382003784,
           0.601478636264801,
           0.44709858298301697,
           1.0000001192092896,
           0.33912473917007446,
           0.39230990409851074,
           0.6354028582572937,
           0.27458375692367554,
           0.15373557806015015,
           0.4650798439979553,
           0.48745468258857727,
           0.22091789543628693,
           0.2838926613330841,
           0.25608864426612854,
           0.15599580109119415,
           0.2789413630962372,
           0.3592742085456848,
           0.18229582905769348,
           0.3110991418361664,
           0.5745798945426941,
           0.4294116199016571,
           0.24652531743049622,
           0.33718299865722656,
           0.4608015716075897,
           0.506135106086731,
           0.30447492003440857,
           0.36918535828590393,
           0.35292932391166687,
           0.2503608167171478,
           0.45961233973503113,
           0.40639397501945496,
           0.33267465233802795,
           0.19560904800891876,
           0.3678132891654968,
           0.5350353717803955,
           0.11234387010335922,
           0.16808433830738068,
           0.27110394835472107,
           0.26198816299438477,
           0.2527916431427002,
           0.4621301293373108,
           0.38825058937072754,
           0.33614301681518555,
           0.15484969317913055,
           0.2548406720161438,
           0.3112800717353821,
           0.5525228977203369,
           0.29113325476646423,
           0.3028523921966553,
           0.5561834573745728,
           0.2382546216249466,
           0.19286897778511047,
           0.4653506875038147,
           0.26250967383384705,
           0.5625547170639038,
           0.5542428493499756,
           0.3246175944805145,
           0.33231040835380554,
           0.3241730332374573,
           0.1736895740032196,
           0.24497295916080475,
           0.21768811345100403,
           0.4961611330509186,
           0.47626036405563354,
           0.19443199038505554,
           0.18502256274223328,
           0.4416508078575134,
           0.27552881836891174,
           0.19484004378318787,
           0.31576234102249146,
           0.23355284333229065,
           0.4508514404296875,
           0.3564791977405548,
           0.23958314955234528,
           0.35737767815589905,
           0.21531157195568085
          ],
          [
           0.28978514671325684,
           0.24696150422096252,
           0.499393105506897,
           0.5966262817382812,
           0.25638774037361145,
           0.36427316069602966,
           0.3407208025455475,
           0.3233065605163574,
           0.33912473917007446,
           1.0000001192092896,
           0.23511604964733124,
           0.3686130940914154,
           0.31866317987442017,
           0.26854807138442993,
           0.32231229543685913,
           0.2202521562576294,
           0.23549340665340424,
           0.26066115498542786,
           0.3404071033000946,
           0.20589777827262878,
           0.2881443202495575,
           0.29453471302986145,
           0.24916674196720123,
           0.2769850194454193,
           0.49267271161079407,
           0.1825413703918457,
           0.23426756262779236,
           0.2644779086112976,
           0.5675346255302429,
           0.2084922343492508,
           0.16955949366092682,
           0.23015043139457703,
           0.16116806864738464,
           0.269672691822052,
           0.23487712442874908,
           0.19225414097309113,
           0.34104421734809875,
           0.2715246081352234,
           0.11758403480052948,
           0.4062436521053314,
           0.18268315494060516,
           0.2076151967048645,
           0.35612672567367554,
           0.3637451231479645,
           0.29078370332717896,
           0.19719864428043365,
           0.16832837462425232,
           0.2310175746679306,
           0.2558056712150574,
           0.31803008913993835,
           0.21179261803627014,
           0.2370339035987854,
           0.33704105019569397,
           0.18444959819316864,
           0.39672717452049255,
           0.08767610788345337,
           0.25578323006629944,
           0.2832604646682739,
           0.18302953243255615,
           0.30281001329421997,
           0.22817018628120422,
           0.15886546671390533,
           0.2723984122276306,
           0.3509851396083832,
           0.4510047733783722,
           0.35241034626960754,
           0.24691012501716614,
           0.33133965730667114,
           0.29992353916168213,
           0.1524686962366104,
           0.25629115104675293,
           0.3003975749015808,
           0.2663652002811432,
           0.07614842057228088,
           0.3487275242805481,
           0.2389908730983734,
           0.19276824593544006,
           0.11943216621875763,
           0.28990209102630615,
           0.1005643978714943,
           0.3026663362979889
          ],
          [
           0.3658822178840637,
           0.3398870527744293,
           0.30823153257369995,
           0.2182144820690155,
           0.2629791498184204,
           0.3807339668273926,
           0.2443505972623825,
           0.41436100006103516,
           0.39230990409851074,
           0.23511604964733124,
           0.999999463558197,
           0.4259702265262604,
           0.3595027029514313,
           0.2505004405975342,
           0.38684529066085815,
           0.4615516662597656,
           0.24658842384815216,
           0.3107529580593109,
           0.24171046912670135,
           0.3174057900905609,
           0.36158841848373413,
           0.43711352348327637,
           0.4188637137413025,
           0.6545810103416443,
           0.25698229670524597,
           0.18427757918834686,
           0.23349803686141968,
           0.43374595046043396,
           0.34325793385505676,
           0.24291002750396729,
           0.3185514509677887,
           0.20710298418998718,
           0.44309428334236145,
           0.377996563911438,
           0.47522327303886414,
           0.19895991683006287,
           0.16466858983039856,
           0.4371474087238312,
           0.17113518714904785,
           0.3482714593410492,
           0.08824826776981354,
           0.29762187600135803,
           0.4393574595451355,
           0.24110010266304016,
           0.1731693595647812,
           0.37277182936668396,
           0.18309220671653748,
           0.25829756259918213,
           0.2890062630176544,
           0.2482050508260727,
           0.33186236023902893,
           0.4952212870121002,
           0.38760387897491455,
           0.20461086928844452,
           0.36639630794525146,
           0.23415644466876984,
           0.13640280067920685,
           0.319911390542984,
           0.30366629362106323,
           0.41411468386650085,
           0.4036617875099182,
           0.38514983654022217,
           0.4249226450920105,
           0.2113010585308075,
           0.14284832775592804,
           0.17044475674629211,
           0.15574698150157928,
           0.2852005362510681,
           0.35002782940864563,
           0.5202469825744629,
           0.12281212955713272,
           0.35352054238319397,
           0.20139598846435547,
           0.10557878762483597,
           0.2589370310306549,
           0.2754325568675995,
           0.24280427396297455,
           0.17501291632652283,
           0.37716445326805115,
           0.15917395055294037,
           0.16225990653038025
          ],
          [
           0.5815086364746094,
           0.6447370648384094,
           0.4262445867061615,
           0.22545427083969116,
           0.4359283745288849,
           0.4562232792377472,
           0.38322895765304565,
           0.46668481826782227,
           0.6354028582572937,
           0.3686130940914154,
           0.4259702265262604,
           0.9999998211860657,
           0.25145116448402405,
           0.17712093889713287,
           0.6180558800697327,
           0.5932590961456299,
           0.23336197435855865,
           0.367531955242157,
           0.24998337030410767,
           0.15652863681316376,
           0.42378124594688416,
           0.31625834107398987,
           0.24013470113277435,
           0.3221983015537262,
           0.5481485724449158,
           0.2935086488723755,
           0.31649690866470337,
           0.4642050266265869,
           0.4813476800918579,
           0.4499894082546234,
           0.3110729157924652,
           0.31169089674949646,
           0.5556570887565613,
           0.4066794514656067,
           0.5924506783485413,
           0.3656488060951233,
           0.3175681233406067,
           0.17346441745758057,
           0.3176206648349762,
           0.39168375730514526,
           0.12049727141857147,
           0.29306644201278687,
           0.3576751947402954,
           0.23197203874588013,
           0.2814442217350006,
           0.4897952079772949,
           0.3161635398864746,
           0.3042091429233551,
           0.22405947744846344,
           0.16940854489803314,
           0.4861041307449341,
           0.6807169318199158,
           0.26693522930145264,
           0.23268504440784454,
           0.7014405727386475,
           0.24892842769622803,
           0.14268173277378082,
           0.6485413312911987,
           0.3088180720806122,
           0.7340123057365417,
           0.45281097292900085,
           0.45397549867630005,
           0.37892571091651917,
           0.36960017681121826,
           0.2271641492843628,
           0.12451993674039841,
           0.18500135838985443,
           0.3016629219055176,
           0.6549516916275024,
           0.2918138802051544,
           0.19220370054244995,
           0.34277763962745667,
           0.2686295509338379,
           0.12454186379909515,
           0.436813086271286,
           0.2749378979206085,
           0.48352348804473877,
           0.2565334439277649,
           0.3704042136669159,
           0.15273074805736542,
           0.17871016263961792
          ],
          [
           0.24627584218978882,
           0.2669658958911896,
           0.318677693605423,
           0.439657598733902,
           0.29672661423683167,
           0.43727990984916687,
           0.29382023215293884,
           0.3250633776187897,
           0.27458375692367554,
           0.31866317987442017,
           0.3595027029514313,
           0.25145116448402405,
           1.0000001192092896,
           0.2999016344547272,
           0.2792818248271942,
           0.20475758612155914,
           0.1889246255159378,
           0.28456392884254456,
           0.33075040578842163,
           0.2048652321100235,
           0.31091558933258057,
           0.29886335134506226,
           0.326399564743042,
           0.4361703097820282,
           0.3250628709793091,
           0.14265930652618408,
           0.3351195156574249,
           0.23271191120147705,
           0.336142897605896,
           0.19689367711544037,
           0.1930578649044037,
           0.1614108383655548,
           0.22480137646198273,
           0.3521682620048523,
           0.1661166548728943,
           0.20728430151939392,
           0.2159983515739441,
           0.2691083550453186,
           0.09119441360235214,
           0.38403627276420593,
           0.07042763382196426,
           0.2917509078979492,
           0.42727524042129517,
           0.2952459156513214,
           0.1901896893978119,
           0.13495683670043945,
           0.24561944603919983,
           0.34520381689071655,
           0.3692551851272583,
           0.32040247321128845,
           0.14777536690235138,
           0.22506052255630493,
           0.25703710317611694,
           0.16039301455020905,
           0.27449989318847656,
           0.09655314683914185,
           0.1434115320444107,
           0.24518628418445587,
           0.12645642459392548,
           0.16714629530906677,
           0.19937869906425476,
           0.0976548045873642,
           0.33700886368751526,
           0.20681928098201752,
           0.23862069845199585,
           0.26320740580558777,
           0.23604939877986908,
           0.3294546604156494,
           0.3795836567878723,
           0.22624751925468445,
           0.14639116823673248,
           0.19168807566165924,
           0.24292214214801788,
           0.09989085048437119,
           0.27944839000701904,
           0.4362931549549103,
           0.17096374928951263,
           0.05791694298386574,
           0.18312771618366241,
           0.07734539359807968,
           0.2253911793231964
          ],
          [
           0.17040148377418518,
           0.1561485081911087,
           0.2564451992511749,
           0.37343162298202515,
           0.13128112256526947,
           0.34781932830810547,
           0.21451306343078613,
           0.22731837630271912,
           0.15373557806015015,
           0.26854807138442993,
           0.2505004405975342,
           0.17712093889713287,
           0.2999016344547272,
           1,
           0.197041854262352,
           0.19830931723117828,
           0.1987161636352539,
           0.2095813900232315,
           0.30414000153541565,
           0.18415780365467072,
           0.21529890596866608,
           0.23569466173648834,
           0.1993955671787262,
           0.21788759529590607,
           0.17640237510204315,
           0.11903533339500427,
           0.19458945095539093,
           0.2052493691444397,
           0.28383150696754456,
           0.0758136659860611,
           0.19018155336380005,
           0.14465300738811493,
           0.21725685894489288,
           0.2393573671579361,
           0.13577532768249512,
           0.12009315192699432,
           0.17673397064208984,
           0.13832756876945496,
           0.0867699459195137,
           0.3308945596218109,
           0.16563855111598969,
           0.5180352926254272,
           0.34678956866264343,
           0.3061043918132782,
           0.1656384915113449,
           0.1393224149942398,
           0.13783113658428192,
           0.2446662187576294,
           0.6668919920921326,
           0.24693554639816284,
           0.10369837284088135,
           0.13689203560352325,
           0.31626009941101074,
           0.14878396689891815,
           0.2053736299276352,
           0.07180282473564148,
           0.10181599110364914,
           0.2085220068693161,
           0.08636625111103058,
           0.08966710418462753,
           0.08270302414894104,
           0.14595280587673187,
           0.3797488212585449,
           0.1579170525074005,
           0.13138049840927124,
           0.22204476594924927,
           0.2060680389404297,
           0.1795150190591812,
           0.18751588463783264,
           0.13612544536590576,
           0.1950923204421997,
           0.22909273207187653,
           0.16110169887542725,
           0.07749024778604507,
           0.1850770264863968,
           0.325834721326828,
           0.08875801414251328,
           0.08210772275924683,
           0.271899938583374,
           0.10870253294706345,
           0.2262061983346939
          ],
          [
           0.5153082013130188,
           0.4428843557834625,
           0.3456350266933441,
           0.24488681554794312,
           0.41726359724998474,
           0.46367013454437256,
           0.35321831703186035,
           0.4243842661380768,
           0.4650798439979553,
           0.32231229543685913,
           0.38684529066085815,
           0.6180558800697327,
           0.2792818248271942,
           0.197041854262352,
           0.9999999403953552,
           0.5312079191207886,
           0.2788095474243164,
           0.448752760887146,
           0.22278033196926117,
           0.21090178191661835,
           0.3338108956813812,
           0.39033743739128113,
           0.18043088912963867,
           0.3123893737792969,
           0.41440027952194214,
           0.3085131347179413,
           0.3726586699485779,
           0.6430449485778809,
           0.4171989858150482,
           0.34484973549842834,
           0.34264835715293884,
           0.31540629267692566,
           0.3816553056240082,
           0.5911155343055725,
           0.48325735330581665,
           0.2876930832862854,
           0.22805698215961456,
           0.24675144255161285,
           0.28140711784362793,
           0.3681545555591583,
           0.06537613272666931,
           0.33096569776535034,
           0.3291226625442505,
           0.2760728895664215,
           0.2532288730144501,
           0.4488322138786316,
           0.30810752511024475,
           0.3759983777999878,
           0.33660855889320374,
           0.19344690442085266,
           0.5911840200424194,
           0.5483062863349915,
           0.27223533391952515,
           0.26658064126968384,
           0.5518870949745178,
           0.2148321568965912,
           0.15760032832622528,
           0.5428403615951538,
           0.35922306776046753,
           0.5185635685920715,
           0.3705087900161743,
           0.4141751825809479,
           0.3955594301223755,
           0.32311978936195374,
           0.4435606300830841,
           0.16601979732513428,
           0.18905533850193024,
           0.2879084050655365,
           0.4674542546272278,
           0.6663301587104797,
           0.16147933900356293,
           0.37950563430786133,
           0.2635897994041443,
           0.1958499401807785,
           0.3271675109863281,
           0.34298408031463623,
           0.36392396688461304,
           0.3034560978412628,
           0.418335884809494,
           0.16557665169239044,
           0.19320142269134521
          ],
          [
           0.4769202470779419,
           0.5242186188697815,
           0.38148733973503113,
           0.11862415820360184,
           0.24234122037887573,
           0.35625994205474854,
           0.28185439109802246,
           0.3886193037033081,
           0.48745468258857727,
           0.2202521562576294,
           0.4615516662597656,
           0.5932590961456299,
           0.20475758612155914,
           0.19830931723117828,
           0.5312079191207886,
           0.9999999403953552,
           0.23361553251743317,
           0.29085859656333923,
           0.11701527237892151,
           0.23371480405330658,
           0.3862665593624115,
           0.2930455207824707,
           0.16702893376350403,
           0.2764334976673126,
           0.3583766222000122,
           0.28960397839546204,
           0.22602762281894684,
           0.5389779806137085,
           0.3227331042289734,
           0.3935168981552124,
           0.35175657272338867,
           0.28283217549324036,
           0.524318516254425,
           0.37281301617622375,
           0.4929347634315491,
           0.27325934171676636,
           0.2747298777103424,
           0.1421261876821518,
           0.25472262501716614,
           0.2778121829032898,
           0.045553058385849,
           0.38548392057418823,
           0.30063191056251526,
           0.21828174591064453,
           0.27501028776168823,
           0.45908042788505554,
           0.25302374362945557,
           0.2701548933982849,
           0.3132334351539612,
           0.12295614928007126,
           0.4298141896724701,
           0.5628329515457153,
           0.4222118854522705,
           0.2978151738643646,
           0.5013419985771179,
           0.22572588920593262,
           0.20939140021800995,
           0.6291832327842712,
           0.2858012020587921,
           0.484986811876297,
           0.4260523021221161,
           0.4657820165157318,
           0.33098655939102173,
           0.2538558840751648,
           0.17678454518318176,
           0.0734979510307312,
           0.1956586092710495,
           0.26899781823158264,
           0.4034886360168457,
           0.3555452227592468,
           0.053368452936410904,
           0.2306039184331894,
           0.18690185248851776,
           0.1598244607448578,
           0.36359721422195435,
           0.3059235215187073,
           0.452188640832901,
           0.28233784437179565,
           0.35651451349258423,
           0.1974688023328781,
           0.11220336705446243
          ],
          [
           0.21659018099308014,
           0.1616571694612503,
           0.2766079306602478,
           0.2745378315448761,
           0.3179931342601776,
           0.3426026701927185,
           0.16962257027626038,
           0.3118368983268738,
           0.22091789543628693,
           0.23549340665340424,
           0.24658842384815216,
           0.23336197435855865,
           0.1889246255159378,
           0.1987161636352539,
           0.2788095474243164,
           0.23361553251743317,
           0.9999998211860657,
           0.1798168122768402,
           0.2792702913284302,
           0.5937238335609436,
           0.1842246949672699,
           0.2201996147632599,
           0.19246140122413635,
           0.2624325752258301,
           0.24803104996681213,
           0.548020601272583,
           0.21808397769927979,
           0.20273804664611816,
           0.2284102737903595,
           0.11412423104047775,
           0.6421350836753845,
           0.6844969987869263,
           0.16827338933944702,
           0.21224485337734222,
           0.21488523483276367,
           0.15856453776359558,
           0.3485942780971527,
           0.10293973982334137,
           0.49356719851493835,
           0.3687276542186737,
           0.15159454941749573,
           0.308716356754303,
           0.25542640686035156,
           0.6997625231742859,
           0.6063579320907593,
           0.628551185131073,
           0.2510724365711212,
           0.14686721563339233,
           0.20709306001663208,
           0.2426755577325821,
           0.3359958529472351,
           0.19072170555591583,
           0.24796074628829956,
           0.6296080350875854,
           0.20212231576442719,
           0.3913344144821167,
           0.5009769797325134,
           0.2147534340620041,
           0.17955979704856873,
           0.16707506775856018,
           0.1730271875858307,
           0.1520262360572815,
           0.2371659278869629,
           0.23847994208335876,
           0.12363319098949432,
           0.21283988654613495,
           0.2902109920978546,
           0.23870033025741577,
           0.263139933347702,
           0.1502816528081894,
           0.17350544035434723,
           0.30488264560699463,
           0.2525206506252289,
           0.6033748984336853,
           0.22905629873275757,
           0.5684736371040344,
           0.5009435415267944,
           0.4976285398006439,
           0.2059383988380432,
           0.13492444157600403,
           0.2300848513841629
          ],
          [
           0.4270365536212921,
           0.36194920539855957,
           0.2676786482334137,
           0.2846698760986328,
           0.2876870334148407,
           0.37170499563217163,
           0.1986892819404602,
           0.40837571024894714,
           0.2838926613330841,
           0.26066115498542786,
           0.3107529580593109,
           0.367531955242157,
           0.28456392884254456,
           0.2095813900232315,
           0.448752760887146,
           0.29085859656333923,
           0.1798168122768402,
           1.0000003576278687,
           0.2766154706478119,
           0.13100844621658325,
           0.6306182146072388,
           0.34347790479660034,
           0.30345526337623596,
           0.23455767333507538,
           0.2925755977630615,
           0.158563032746315,
           0.36741209030151367,
           0.37253621220588684,
           0.3192659318447113,
           0.20862406492233276,
           0.25541773438453674,
           0.19102445244789124,
           0.2182803601026535,
           0.5606710314750671,
           0.2829439043998718,
           0.2483193725347519,
           0.19403277337551117,
           0.3786495625972748,
           0.23908495903015137,
           0.24716512858867645,
           0.1531999111175537,
           0.29721900820732117,
           0.34390076994895935,
           0.20980310440063477,
           0.17595955729484558,
           0.1922767013311386,
           0.20210978388786316,
           0.7043974995613098,
           0.39941737055778503,
           0.17348134517669678,
           0.3466856777667999,
           0.285769522190094,
           0.287360817193985,
           0.2034822702407837,
           0.36562448740005493,
           0.1729002147912979,
           0.07029028236865997,
           0.29633551836013794,
           0.19367647171020508,
           0.27949047088623047,
           0.2785583436489105,
           0.09502239525318146,
           0.2670268714427948,
           0.23826982080936432,
           0.2685827910900116,
           0.1344938427209854,
           0.15021829307079315,
           0.19571231305599213,
           0.37513232231140137,
           0.40964406728744507,
           0.15188658237457275,
           0.21262289583683014,
           0.3053370714187622,
           0.10953287035226822,
           0.3265792429447174,
           0.4503003656864166,
           0.2631983160972595,
           0.19210660457611084,
           0.28196027874946594,
           0.13863268494606018,
           0.2785925269126892
          ],
          [
           0.26538750529289246,
           0.14651967585086823,
           0.2934373617172241,
           0.5641218423843384,
           0.17674781382083893,
           0.35022565722465515,
           0.2791230380535126,
           0.5403061509132385,
           0.25608864426612854,
           0.3404071033000946,
           0.24171046912670135,
           0.24998337030410767,
           0.33075040578842163,
           0.30414000153541565,
           0.22278033196926117,
           0.11701527237892151,
           0.2792702913284302,
           0.2766154706478119,
           1.0000001192092896,
           0.2748427391052246,
           0.3232981860637665,
           0.12187526375055313,
           0.3975791037082672,
           0.24396879971027374,
           0.3550608158111572,
           0.15109334886074066,
           0.2552700638771057,
           0.10169612616300583,
           0.33754202723503113,
           0.07000075280666351,
           0.34923532605171204,
           0.2036483734846115,
           0.1684848815202713,
           0.29520538449287415,
           0.2592107057571411,
           0.15662850439548492,
           0.3229554295539856,
           0.16968099772930145,
           0.13058538734912872,
           0.4280967116355896,
           0.13216552138328552,
           0.2365054488182068,
           0.31768798828125,
           0.5613340735435486,
           0.20911388099193573,
           0.18297496438026428,
           0.2005435973405838,
           0.22511111199855804,
           0.26737135648727417,
           0.23100239038467407,
           0.16532258689403534,
           0.17748863995075226,
           0.2883687913417816,
           0.21828757226467133,
           0.21161684393882751,
           0.1309581845998764,
           0.17880284786224365,
           0.21982607245445251,
           0.07805465906858444,
           0.1832204908132553,
           0.11900058388710022,
           0.09252174943685532,
           0.26205742359161377,
           0.2342992126941681,
           0.28085169196128845,
           0.2319372147321701,
           0.1934027224779129,
           0.2166922390460968,
           0.2634897530078888,
           0.10018208622932434,
           0.16140468418598175,
           0.17635878920555115,
           0.2501327693462372,
           0.13730666041374207,
           0.4258401095867157,
           0.31060540676116943,
           0.104189932346344,
           0.13268227875232697,
           0.24017876386642456,
           0.02823745459318161,
           0.28348541259765625
          ],
          [
           0.22894828021526337,
           0.19242563843727112,
           0.2739986181259155,
           0.282983660697937,
           0.2804645299911499,
           0.18117082118988037,
           0.12672147154808044,
           0.33968234062194824,
           0.15599580109119415,
           0.20589777827262878,
           0.3174057900905609,
           0.15652863681316376,
           0.2048652321100235,
           0.18415780365467072,
           0.21090178191661835,
           0.23371480405330658,
           0.5937238335609436,
           0.13100844621658325,
           0.2748427391052246,
           0.9999998807907104,
           0.15934979915618896,
           0.16213028132915497,
           0.1518842577934265,
           0.29553118348121643,
           0.16383840143680573,
           0.530680775642395,
           0.16231580078601837,
           0.171209454536438,
           0.23367732763290405,
           0.17896705865859985,
           0.6896207928657532,
           0.6729483008384705,
           0.16730734705924988,
           0.14254480600357056,
           0.15451890230178833,
           0.11232862621545792,
           0.3878982365131378,
           0.19984903931617737,
           0.5153814554214478,
           0.3860115706920624,
           0.11018382757902145,
           0.27085545659065247,
           0.18241973221302032,
           0.7216671705245972,
           0.6359130144119263,
           0.6172178983688354,
           0.2146746814250946,
           0.12707537412643433,
           0.20750951766967773,
           0.1783331334590912,
           0.28501054644584656,
           0.1535647213459015,
           0.2078617960214615,
           0.6681727170944214,
           0.19411040842533112,
           0.4448908865451813,
           0.5199248790740967,
           0.17409725487232208,
           0.12803833186626434,
           0.13773584365844727,
           0.1626201719045639,
           0.1896611750125885,
           0.1755165159702301,
           0.15937510132789612,
           0.1053677573800087,
           0.13421843945980072,
           0.32617852091789246,
           0.156174898147583,
           0.19461987912654877,
           0.21928770840168,
           0.157526433467865,
           0.3580515384674072,
           0.17172428965568542,
           0.6012443900108337,
           0.2016441524028778,
           0.5885254144668579,
           0.5466694831848145,
           0.5169154405593872,
           0.1945415586233139,
           0.1081378310918808,
           0.16300135850906372
          ],
          [
           0.3385259211063385,
           0.34400835633277893,
           0.39702096581459045,
           0.27506184577941895,
           0.21867279708385468,
           0.37343043088912964,
           0.23579663038253784,
           0.42878904938697815,
           0.2789413630962372,
           0.2881443202495575,
           0.36158841848373413,
           0.42378124594688416,
           0.31091558933258057,
           0.21529890596866608,
           0.3338108956813812,
           0.3862665593624115,
           0.1842246949672699,
           0.6306182146072388,
           0.3232981860637665,
           0.15934979915618896,
           0.9999995827674866,
           0.24240364134311676,
           0.441293865442276,
           0.29591646790504456,
           0.3661015033721924,
           0.14591488242149353,
           0.3730071187019348,
           0.3276568055152893,
           0.3454832136631012,
           0.18640556931495667,
           0.2704028785228729,
           0.2118070274591446,
           0.30594339966773987,
           0.4352136254310608,
           0.2960595190525055,
           0.3049243688583374,
           0.25486165285110474,
           0.28899505734443665,
           0.21467392146587372,
           0.18048115074634552,
           0.10560614615678787,
           0.3597218990325928,
           0.5070309042930603,
           0.23580139875411987,
           0.24045918881893158,
           0.19906580448150635,
           0.17394579946994781,
           0.45309457182884216,
           0.40274864435195923,
           0.1371297985315323,
           0.31895744800567627,
           0.23412393033504486,
           0.4425090551376343,
           0.23590323328971863,
           0.44675734639167786,
           0.1533331423997879,
           0.15523415803909302,
           0.3629816174507141,
           0.12455062568187714,
           0.20618927478790283,
           0.23266653716564178,
           0.16138708591461182,
           0.3366694450378418,
           0.2557418942451477,
           0.2392878383398056,
           0.11426045000553131,
           0.2592906355857849,
           0.2056124210357666,
           0.4686131477355957,
           0.2612426280975342,
           0.19314657151699066,
           0.2457669973373413,
           0.41760504245758057,
           0.12567253410816193,
           0.3988018035888672,
           0.44494056701660156,
           0.249699205160141,
           0.15919455885887146,
           0.3032688796520233,
           0.06131744012236595,
           0.23891083896160126
          ],
          [
           0.4782390296459198,
           0.30596888065338135,
           0.24150414764881134,
           0.23913972079753876,
           0.34717071056365967,
           0.4848800599575043,
           0.3422979414463043,
           0.1798105388879776,
           0.3592742085456848,
           0.29453471302986145,
           0.43711352348327637,
           0.31625834107398987,
           0.29886335134506226,
           0.23569466173648834,
           0.39033743739128113,
           0.2930455207824707,
           0.2201996147632599,
           0.34347790479660034,
           0.12187526375055313,
           0.16213028132915497,
           0.24240364134311676,
           0.9999998807907104,
           0.3132656514644623,
           0.5168079137802124,
           0.2045433074235916,
           0.2681358754634857,
           0.3055959939956665,
           0.45326048135757446,
           0.31874555349349976,
           0.2503693997859955,
           0.16124190390110016,
           0.20672254264354706,
           0.4826571047306061,
           0.35824429988861084,
           0.3329560458660126,
           0.26403191685676575,
           0.1297043263912201,
           0.4713171720504761,
           0.2169392704963684,
           0.4318465292453766,
           0.12567299604415894,
           0.27044621109962463,
           0.530262291431427,
           0.1973751187324524,
           0.16735173761844635,
           0.280458927154541,
           0.25509676337242126,
           0.32916459441185,
           0.3242488205432892,
           0.2547699809074402,
           0.2688291370868683,
           0.3881099224090576,
           0.3656226098537445,
           0.1822350025177002,
           0.2508907914161682,
           0.21012724936008453,
           0.1269892007112503,
           0.21920740604400635,
           0.3124971389770508,
           0.36500534415245056,
           0.4085640609264374,
           0.17589138448238373,
           0.4903987944126129,
           0.21370983123779297,
           0.23717539012432098,
           0.21163074672222137,
           0.0686040073633194,
           0.2618987560272217,
           0.36474311351776123,
           0.30276039242744446,
           0.07287762314081192,
           0.3145795166492462,
           0.3224528133869171,
           0.167109414935112,
           0.2184978425502777,
           0.2406904250383377,
           0.23275764286518097,
           0.27379950881004333,
           0.23118998110294342,
           0.21229985356330872,
           0.1910778433084488
          ],
          [
           0.19382232427597046,
           0.07609619200229645,
           0.19850900769233704,
           0.3731648921966553,
           0.12353194504976273,
           0.3041747808456421,
           0.20695218443870544,
           0.2560167908668518,
           0.18229582905769348,
           0.24916674196720123,
           0.4188637137413025,
           0.24013470113277435,
           0.326399564743042,
           0.1993955671787262,
           0.18043088912963867,
           0.16702893376350403,
           0.19246140122413635,
           0.30345526337623596,
           0.3975791037082672,
           0.1518842577934265,
           0.441293865442276,
           0.3132656514644623,
           0.9999998807907104,
           0.5978963971138,
           0.28560522198677063,
           0.10036467760801315,
           0.26821401715278625,
           0.1028929054737091,
           0.23850500583648682,
           0.1431988626718521,
           0.15958291292190552,
           0.1093071848154068,
           0.2692491412162781,
           0.4048647880554199,
           0.18891489505767822,
           0.14867399632930756,
           0.1618334800004959,
           0.41572093963623047,
           0.06498916447162628,
           0.19287247955799103,
           0.11772488057613373,
           0.19853349030017853,
           0.5071311593055725,
           0.29032108187675476,
           0.12877558171749115,
           0.10992109030485153,
           0.18097984790802002,
           0.17732733488082886,
           0.3700881004333496,
           0.1032620295882225,
           0.17045962810516357,
           0.07496987283229828,
           0.23658870160579681,
           0.1230047345161438,
           0.25728893280029297,
           0.09013386815786362,
           0.09335289150476456,
           0.12495395541191101,
           0.0865262970328331,
           0.09551666676998138,
           0.0982816219329834,
           0.08556261658668518,
           0.3081614673137665,
           0.12496844679117203,
           0.2272508144378662,
           0.1160506084561348,
           0.11815278977155685,
           0.14770790934562683,
           0.3060166835784912,
           0.16202113032341003,
           0.0914970189332962,
           0.16848057508468628,
           0.29808640480041504,
           0.06282857060432434,
           0.312971293926239,
           0.21944929659366608,
           0.05929523706436157,
           0.03248723968863487,
           0.22670763731002808,
           -0.04533519223332405,
           0.17811205983161926
          ],
          [
           0.3250884413719177,
           0.25676602125167847,
           0.2894391417503357,
           0.27616462111473083,
           0.24306142330169678,
           0.3899540901184082,
           0.2999781668186188,
           0.26876065135002136,
           0.3110991418361664,
           0.2769850194454193,
           0.6545810103416443,
           0.3221983015537262,
           0.4361703097820282,
           0.21788759529590607,
           0.3123893737792969,
           0.2764334976673126,
           0.2624325752258301,
           0.23455767333507538,
           0.24396879971027374,
           0.29553118348121643,
           0.29591646790504456,
           0.5168079137802124,
           0.5978963971138,
           0.9999996423721313,
           0.2560760974884033,
           0.18482789397239685,
           0.2230212539434433,
           0.2922888994216919,
           0.34505337476730347,
           0.2142939269542694,
           0.1918911635875702,
           0.1683162897825241,
           0.46843865513801575,
           0.32360878586769104,
           0.26281851530075073,
           0.21994252502918243,
           0.13952559232711792,
           0.553655207157135,
           0.09733325988054276,
           0.30629003047943115,
           -0.023999009281396866,
           0.2582235634326935,
           0.6111114025115967,
           0.24300844967365265,
           0.17815519869327545,
           0.25137782096862793,
           0.19588765501976013,
           0.1954570859670639,
           0.32399216294288635,
           0.20255091786384583,
           0.2170400470495224,
           0.3353600800037384,
           0.3108285665512085,
           0.14458075165748596,
           0.3700311779975891,
           0.22598472237586975,
           0.11739923804998398,
           0.24118509888648987,
           0.23376114666461945,
           0.2342132031917572,
           0.2815244793891907,
           0.2707154154777527,
           0.49886393547058105,
           0.12924231588840485,
           0.1462942361831665,
           0.22109034657478333,
           0.15217293798923492,
           0.2535541355609894,
           0.33518150448799133,
           0.33679986000061035,
           0.17044758796691895,
           0.320645272731781,
           0.21326176822185516,
           0.08179011195898056,
           0.22950692474842072,
           0.20588921010494232,
           0.18047630786895752,
           0.11939296126365662,
           0.3057315945625305,
           0.14031636714935303,
           0.15022514760494232
          ],
          [
           0.4017932415008545,
           0.3731154203414917,
           0.6444191336631775,
           0.43893593549728394,
           0.26034781336784363,
           0.518207848072052,
           0.4136141240596771,
           0.46052247285842896,
           0.5745798945426941,
           0.49267271161079407,
           0.25698229670524597,
           0.5481485724449158,
           0.3250628709793091,
           0.17640237510204315,
           0.41440027952194214,
           0.3583766222000122,
           0.24803104996681213,
           0.2925755977630615,
           0.3550608158111572,
           0.16383840143680573,
           0.3661015033721924,
           0.2045433074235916,
           0.28560522198677063,
           0.2560760974884033,
           0.9999994039535522,
           0.26263484358787537,
           0.23432424664497375,
           0.3082435131072998,
           0.5544341206550598,
           0.3236386477947235,
           0.29014790058135986,
           0.34313660860061646,
           0.21265842020511627,
           0.26708468794822693,
           0.356358140707016,
           0.27750304341316223,
           0.48080137372016907,
           0.18879719078540802,
           0.25541508197784424,
           0.42820802330970764,
           0.19787383079528809,
           0.3161405324935913,
           0.31012386083602905,
           0.3849755823612213,
           0.43483075499534607,
           0.280625581741333,
           0.2576344311237335,
           0.2714259922504425,
           0.17811019718647003,
           0.32561248540878296,
           0.2575654983520508,
           0.343067467212677,
           0.35612952709198,
           0.27742403745651245,
           0.5776265263557434,
           0.12588495016098022,
           0.3223183751106262,
           0.44093766808509827,
           0.15459270775318146,
           0.4149768054485321,
           0.2924163341522217,
           0.1294247806072235,
           0.2624787390232086,
           0.3527759313583374,
           0.2807512581348419,
           0.31935569643974304,
           0.36066684126853943,
           0.44640442728996277,
           0.5210403800010681,
           0.12373722344636917,
           0.22715838253498077,
           0.3429117202758789,
           0.23996509611606598,
           0.2095312476158142,
           0.4918539524078369,
           0.30275413393974304,
           0.32116442918777466,
           0.21854886412620544,
           0.2343599647283554,
           0.17117807269096375,
           0.2988518476486206
          ],
          [
           0.49640756845474243,
           0.26611247658729553,
           0.25778162479400635,
           0.15045617520809174,
           0.47498464584350586,
           0.2475648671388626,
           0.6124165654182434,
           0.24285222589969635,
           0.4294116199016571,
           0.1825413703918457,
           0.18427757918834686,
           0.2935086488723755,
           0.14265930652618408,
           0.11903533339500427,
           0.3085131347179413,
           0.28960397839546204,
           0.548020601272583,
           0.158563032746315,
           0.15109334886074066,
           0.530680775642395,
           0.14591488242149353,
           0.2681358754634857,
           0.10036467760801315,
           0.18482789397239685,
           0.26263484358787537,
           0.9999999403953552,
           0.223903089761734,
           0.1688227355480194,
           0.32759934663772583,
           0.510159969329834,
           0.6704528331756592,
           0.8053364753723145,
           0.18409019708633423,
           0.1796398162841797,
           0.21056298911571503,
           0.5207851529121399,
           0.4165835976600647,
           0.17130731046199799,
           0.7763194441795349,
           0.2840751111507416,
           0.0611688569188118,
           0.19014231860637665,
           0.17046725749969482,
           0.6598167419433594,
           0.6565638780593872,
           0.7358746528625488,
           0.4392532706260681,
           0.25381404161453247,
           0.18280485272407532,
           0.1340511441230774,
           0.3229987621307373,
           0.17376309633255005,
           0.15908662974834442,
           0.758076548576355,
           0.3543420433998108,
           0.5296804904937744,
           0.5341365933418274,
           0.2295278012752533,
           0.192477747797966,
           0.30771559476852417,
           0.23377476632595062,
           0.15595808625221252,
           0.1853211224079132,
           0.23522093892097473,
           0.19259530305862427,
           0.13404686748981476,
           0.2577414810657501,
           0.2296026647090912,
           0.2854236960411072,
           0.14054538309574127,
           0.11661332845687866,
           0.39419567584991455,
           0.3291754126548767,
           0.680227518081665,
           0.22559289634227753,
           0.6110994219779968,
           0.6245594620704651,
           0.7387173175811768,
           0.19196535646915436,
           0.4798129200935364,
           0.09440891444683075
          ],
          [
           0.37425774335861206,
           0.2792799770832062,
           0.2547469735145569,
           0.2572481036186218,
           0.4893002212047577,
           0.3447788953781128,
           0.3391663134098053,
           0.33187153935432434,
           0.24652531743049622,
           0.23426756262779236,
           0.23349803686141968,
           0.31649690866470337,
           0.3351195156574249,
           0.19458945095539093,
           0.3726586699485779,
           0.22602762281894684,
           0.21808397769927979,
           0.36741209030151367,
           0.2552700638771057,
           0.16231580078601837,
           0.3730071187019348,
           0.3055959939956665,
           0.26821401715278625,
           0.2230212539434433,
           0.23432424664497375,
           0.223903089761734,
           1.0000003576278687,
           0.3017858862876892,
           0.3241156041622162,
           0.22814993560314178,
           0.21814259886741638,
           0.208693727850914,
           0.23260222375392914,
           0.3111022114753723,
           0.21385639905929565,
           0.3810064494609833,
           0.20944680273532867,
           0.22576893866062164,
           0.2383919209241867,
           0.27573975920677185,
           0.16381189227104187,
           0.27510663866996765,
           0.319076806306839,
           0.21274444460868835,
           0.16690875589847565,
           0.21289031207561493,
           0.614203691482544,
           0.3776395618915558,
           0.2917598485946655,
           0.20136266946792603,
           0.2660164535045624,
           0.28448790311813354,
           0.1707260012626648,
           0.2241744101047516,
           0.2985374331474304,
           0.17236194014549255,
           0.18187572062015533,
           0.2041623890399933,
           0.10263677686452866,
           0.2739764451980591,
           0.25739648938179016,
           0.14159977436065674,
           0.3008706867694855,
           0.24464482069015503,
           0.2955029010772705,
           0.10872131586074829,
           0.1275085061788559,
           0.1771562695503235,
           0.35894662141799927,
           0.2467246651649475,
           0.10372617095708847,
           0.2921474575996399,
           0.7344963550567627,
           0.1514797955751419,
           0.20936761796474457,
           0.3765675127506256,
           0.20787349343299866,
           0.2193720042705536,
           0.27321580052375793,
           0.15090838074684143,
           0.22381816804409027
          ],
          [
           0.43022027611732483,
           0.3165697455406189,
           0.3217337727546692,
           0.2468973994255066,
           0.2943512499332428,
           0.5125262141227722,
           0.2334504872560501,
           0.28795325756073,
           0.33718299865722656,
           0.2644779086112976,
           0.43374595046043396,
           0.4642050266265869,
           0.23271191120147705,
           0.2052493691444397,
           0.6430449485778809,
           0.5389779806137085,
           0.20273804664611816,
           0.37253621220588684,
           0.10169612616300583,
           0.171209454536438,
           0.3276568055152893,
           0.45326048135757446,
           0.1028929054737091,
           0.2922888994216919,
           0.3082435131072998,
           0.1688227355480194,
           0.3017858862876892,
           1,
           0.28247344493865967,
           0.283681720495224,
           0.22859452664852142,
           0.21185427904129028,
           0.37132716178894043,
           0.4705985486507416,
           0.42463618516921997,
           0.21422454714775085,
           0.1467938870191574,
           0.2995974123477936,
           0.15430563688278198,
           0.3294123411178589,
           0.07961016148328781,
           0.3068837523460388,
           0.406490683555603,
           0.19603483378887177,
           0.18355029821395874,
           0.3194786608219147,
           0.2080477774143219,
           0.22813671827316284,
           0.264325886964798,
           0.2021404504776001,
           0.3863958418369293,
           0.5482712388038635,
           0.5600773096084595,
           0.1382293999195099,
           0.4135330617427826,
           0.16257856786251068,
           0.07442232221364975,
           0.45186084508895874,
           0.29432737827301025,
           0.3981196880340576,
           0.41494056582450867,
           0.2675137221813202,
           0.43410980701446533,
           0.2720000147819519,
           0.2216096967458725,
           0.22510382533073425,
           0.13145731389522552,
           0.2390262484550476,
           0.4483240842819214,
           0.4377868175506592,
           0.10899733006954193,
           0.30411574244499207,
           0.22338765859603882,
           0.1387379914522171,
           0.1782366931438446,
           0.24139246344566345,
           0.224925234913826,
           0.2657245397567749,
           0.41511091589927673,
           0.14041921496391296,
           0.15483562648296356
          ],
          [
           0.4443131685256958,
           0.375429630279541,
           0.6822666525840759,
           0.4819609820842743,
           0.29988712072372437,
           0.4648032486438751,
           0.4713405966758728,
           0.3597007691860199,
           0.4608015716075897,
           0.5675346255302429,
           0.34325793385505676,
           0.4813476800918579,
           0.336142897605896,
           0.28383150696754456,
           0.4171989858150482,
           0.3227331042289734,
           0.2284102737903595,
           0.3192659318447113,
           0.33754202723503113,
           0.23367732763290405,
           0.3454832136631012,
           0.31874555349349976,
           0.23850500583648682,
           0.34505337476730347,
           0.5544341206550598,
           0.32759934663772583,
           0.3241156041622162,
           0.28247344493865967,
           1.000000238418579,
           0.34875887632369995,
           0.2577427625656128,
           0.3000546991825104,
           0.2699192762374878,
           0.3117982745170593,
           0.25806066393852234,
           0.3283286690711975,
           0.3914642035961151,
           0.22943268716335297,
           0.27915719151496887,
           0.3851770758628845,
           0.07578675448894501,
           0.27925822138786316,
           0.4443337917327881,
           0.3323184549808502,
           0.4520772099494934,
           0.29185959696769714,
           0.25501593947410583,
           0.3605031669139862,
           0.27976059913635254,
           0.3812161684036255,
           0.21154576539993286,
           0.30499032139778137,
           0.41293448209762573,
           0.2887791395187378,
           0.5177549123764038,
           0.20391440391540527,
           0.3119373023509979,
           0.35424089431762695,
           0.15621262788772583,
           0.37925028800964355,
           0.31363794207572937,
           0.2412361353635788,
           0.33722221851348877,
           0.3293966054916382,
           0.34702056646347046,
           0.2773280441761017,
           0.31598925590515137,
           0.36982759833335876,
           0.4671877920627594,
           0.27259543538093567,
           0.246887668967247,
           0.47035741806030273,
           0.3234761655330658,
           0.13709740340709686,
           0.36507242918014526,
           0.33337345719337463,
           0.30877697467803955,
           0.22065015137195587,
           0.32545050978660583,
           0.19216124713420868,
           0.2980455458164215
          ],
          [
           0.6155387759208679,
           0.43081673979759216,
           0.29548272490501404,
           0.16060608625411987,
           0.3836769759654999,
           0.2837119698524475,
           0.47546499967575073,
           0.2052554488182068,
           0.506135106086731,
           0.2084922343492508,
           0.24291002750396729,
           0.4499894082546234,
           0.19689367711544037,
           0.0758136659860611,
           0.34484973549842834,
           0.3935168981552124,
           0.11412423104047775,
           0.20862406492233276,
           0.07000075280666351,
           0.17896705865859985,
           0.18640556931495667,
           0.2503693997859955,
           0.1431988626718521,
           0.2142939269542694,
           0.3236386477947235,
           0.510159969329834,
           0.22814993560314178,
           0.283681720495224,
           0.34875887632369995,
           0.9999995231628418,
           0.18604600429534912,
           0.2609115242958069,
           0.27167126536369324,
           0.18224722146987915,
           0.28240934014320374,
           0.4244997501373291,
           0.18806368112564087,
           0.2519340515136719,
           0.4057620167732239,
           0.24046021699905396,
           0.07041992247104645,
           0.16385626792907715,
           0.19617965817451477,
           0.1423349380493164,
           0.21625131368637085,
           0.3410855531692505,
           0.3334612548351288,
           0.24644996225833893,
           0.13458727300167084,
           0.16710855066776276,
           0.2823393642902374,
           0.3638034462928772,
           0.1280137002468109,
           0.24919676780700684,
           0.45326218008995056,
           0.36098358035087585,
           0.17393526434898376,
           0.31851130723953247,
           0.27760130167007446,
           0.4205625355243683,
           0.34539365768432617,
           0.31461799144744873,
           0.20468798279762268,
           0.2219671905040741,
           0.16961465775966644,
           0.06207004189491272,
           0.14743973314762115,
           0.19644930958747864,
           0.3368207514286041,
           0.16576817631721497,
           0.10957140475511551,
           0.27969321608543396,
           0.23823079466819763,
           0.12943613529205322,
           0.3276822865009308,
           0.22438593208789825,
           0.36978474259376526,
           0.33384978771209717,
           0.24564369022846222,
           0.3308184742927551,
           0.117732472717762
          ],
          [
           0.3415677547454834,
           0.2613029181957245,
           0.28936347365379333,
           0.19954831898212433,
           0.3118346333503723,
           0.28038543462753296,
           0.22879251837730408,
           0.6498509645462036,
           0.30447492003440857,
           0.16955949366092682,
           0.3185514509677887,
           0.3110729157924652,
           0.1930578649044037,
           0.19018155336380005,
           0.34264835715293884,
           0.35175657272338867,
           0.6421350836753845,
           0.25541773438453674,
           0.34923532605171204,
           0.6896207928657532,
           0.2704028785228729,
           0.16124190390110016,
           0.15958291292190552,
           0.1918911635875702,
           0.29014790058135986,
           0.6704528331756592,
           0.21814259886741638,
           0.22859452664852142,
           0.2577427625656128,
           0.18604600429534912,
           1.0000005960464478,
           0.8294851779937744,
           0.27772781252861023,
           0.25087684392929077,
           0.3163718283176422,
           0.2107495665550232,
           0.4906153082847595,
           0.1392631232738495,
           0.6348882913589478,
           0.3589541018009186,
           0.12577664852142334,
           0.34025678038597107,
           0.22230827808380127,
           0.7793338298797607,
           0.7149536609649658,
           0.788413405418396,
           0.26620179414749146,
           0.25710445642471313,
           0.30893170833587646,
           0.15244093537330627,
           0.3759506046772003,
           0.29138463735580444,
           0.2413744479417801,
           0.8042623400688171,
           0.2749713957309723,
           0.49621883034706116,
           0.545223593711853,
           0.36104196310043335,
           0.14281539618968964,
           0.25041481852531433,
           0.23837728798389435,
           0.18043531477451324,
           0.316339373588562,
           0.16763979196548462,
           0.18790678679943085,
           0.15847912430763245,
           0.34979718923568726,
           0.26935338973999023,
           0.3372081518173218,
           0.2535647451877594,
           0.09194430708885193,
           0.3820377588272095,
           0.208612322807312,
           0.7372322082519531,
           0.32225966453552246,
           0.7441179156303406,
           0.6473332643508911,
           0.6363458037376404,
           0.2455567717552185,
           0.1410549283027649,
           0.17808270454406738
          ],
          [
           0.34992629289627075,
           0.23253929615020752,
           0.3210165798664093,
           0.19536656141281128,
           0.3755393624305725,
           0.3033727705478668,
           0.29958581924438477,
           0.3414924144744873,
           0.36918535828590393,
           0.23015043139457703,
           0.20710298418998718,
           0.31169089674949646,
           0.1614108383655548,
           0.14465300738811493,
           0.31540629267692566,
           0.28283217549324036,
           0.6844969987869263,
           0.19102445244789124,
           0.2036483734846115,
           0.6729483008384705,
           0.2118070274591446,
           0.20672254264354706,
           0.1093071848154068,
           0.1683162897825241,
           0.34313660860061646,
           0.8053364753723145,
           0.208693727850914,
           0.21185427904129028,
           0.3000546991825104,
           0.2609115242958069,
           0.8294851779937744,
           1.0000001192092896,
           0.15572907030582428,
           0.19982591271400452,
           0.21603839099407196,
           0.27832257747650146,
           0.539618968963623,
           0.1306883841753006,
           0.7537317276000977,
           0.3799508213996887,
           0.1856902539730072,
           0.2767699956893921,
           0.15863050520420074,
           0.8200622797012329,
           0.8226311206817627,
           0.8422936797142029,
           0.3389874994754791,
           0.22061513364315033,
           0.22062639892101288,
           0.1884034126996994,
           0.342276006937027,
           0.18839292228221893,
           0.21535912156105042,
           0.8730065226554871,
           0.32077756524086,
           0.5566543936729431,
           0.657490074634552,
           0.2728254199028015,
           0.16625691950321198,
           0.2464059293270111,
           0.2271909862756729,
           0.14987090229988098,
           0.19121859967708588,
           0.22012859582901,
           0.18131572008132935,
           0.224726602435112,
           0.37058624625205994,
           0.31478023529052734,
           0.3333751857280731,
           0.20218543708324432,
           0.1356722116470337,
           0.4417477250099182,
           0.25276607275009155,
           0.8663104176521301,
           0.2458973228931427,
           0.7183217406272888,
           0.7050918340682983,
           0.745769739151001,
           0.1932544857263565,
           0.2256522923707962,
           0.19713403284549713
          ],
          [
           0.3899080157279968,
           0.5188490748405457,
           0.2711876630783081,
           0.09634760767221451,
           0.28884756565093994,
           0.3197730481624603,
           0.21007156372070312,
           0.32485276460647583,
           0.35292932391166687,
           0.16116806864738464,
           0.44309428334236145,
           0.5556570887565613,
           0.22480137646198273,
           0.21725685894489288,
           0.3816553056240082,
           0.524318516254425,
           0.16827338933944702,
           0.2182803601026535,
           0.1684848815202713,
           0.16730734705924988,
           0.30594339966773987,
           0.4826571047306061,
           0.2692491412162781,
           0.46843865513801575,
           0.21265842020511627,
           0.18409019708633423,
           0.23260222375392914,
           0.37132716178894043,
           0.2699192762374878,
           0.27167126536369324,
           0.27772781252861023,
           0.15572907030582428,
           1,
           0.2562027871608734,
           0.43759334087371826,
           0.21584229171276093,
           0.18791304528713226,
           0.3139350116252899,
           0.19970300793647766,
           0.24424174427986145,
           0.0558769665658474,
           0.29397761821746826,
           0.6156342625617981,
           0.1414559781551361,
           0.17485837638378143,
           0.3725127875804901,
           0.17824780941009521,
           0.22157323360443115,
           0.38456961512565613,
           0.10719023644924164,
           0.4065437614917755,
           0.6020662784576416,
           0.2791749835014343,
           0.170349583029747,
           0.335283100605011,
           0.20354382693767548,
           0.09057799726724625,
           0.4559755325317383,
           0.20222008228302002,
           0.48412615060806274,
           0.38455134630203247,
           0.4541900157928467,
           0.7113697528839111,
           0.21987168490886688,
           0.12640298902988434,
           0.03261180222034454,
           0.11414440721273422,
           0.1416003555059433,
           0.38857823610305786,
           0.22146692872047424,
           0.06880272924900055,
           0.18496835231781006,
           0.1946156620979309,
           0.05791758373379707,
           0.2951670289039612,
           0.2725899815559387,
           0.36092886328697205,
           0.1765248328447342,
           0.3057134747505188,
           0.13645483553409576,
           0.06592921912670135
          ],
          [
           0.3390806317329407,
           0.20604513585567474,
           0.1851508617401123,
           0.3727954626083374,
           0.21036091446876526,
           0.44131171703338623,
           0.2609460949897766,
           0.3532242476940155,
           0.2503608167171478,
           0.269672691822052,
           0.377996563911438,
           0.4066794514656067,
           0.3521682620048523,
           0.2393573671579361,
           0.5911155343055725,
           0.37281301617622375,
           0.21224485337734222,
           0.5606710314750671,
           0.29520538449287415,
           0.14254480600357056,
           0.4352136254310608,
           0.35824429988861084,
           0.4048647880554199,
           0.32360878586769104,
           0.26708468794822693,
           0.1796398162841797,
           0.3111022114753723,
           0.4705985486507416,
           0.3117982745170593,
           0.18224722146987915,
           0.25087684392929077,
           0.19982591271400452,
           0.2562027871608734,
           1.0000004768371582,
           0.3747835159301758,
           0.15301333367824554,
           0.1872566193342209,
           0.2654668092727661,
           0.1535153090953827,
           0.24474340677261353,
           0.11490853130817413,
           0.2592105269432068,
           0.3790009617805481,
           0.28781962394714355,
           0.1375085562467575,
           0.23132644593715668,
           0.26026174426078796,
           0.37964096665382385,
           0.47818151116371155,
           0.26021870970726013,
           0.37555283308029175,
           0.3059101402759552,
           0.26437947154045105,
           0.1807703822851181,
           0.2943491041660309,
           0.18794582784175873,
           0.11460275948047638,
           0.35826852917671204,
           0.2760765552520752,
           0.2882273495197296,
           0.19212029874324799,
           0.16366936266422272,
           0.35872069001197815,
           0.15710796415805817,
           0.2933799922466278,
           0.24545852839946747,
           0.10931563377380371,
           0.2600371539592743,
           0.3545055687427521,
           0.46807432174682617,
           0.11079073697328568,
           0.2563718855381012,
           0.17426961660385132,
           0.1092338040471077,
           0.25932368636131287,
           0.3526870310306549,
           0.16276022791862488,
           0.16159066557884216,
           0.292900949716568,
           0.03266263008117676,
           0.1960047483444214
          ],
          [
           0.38912102580070496,
           0.40563929080963135,
           0.21367605030536652,
           0.131714329123497,
           0.25247567892074585,
           0.4392063021659851,
           0.22359706461429596,
           0.47277411818504333,
           0.45961233973503113,
           0.23487712442874908,
           0.47522327303886414,
           0.5924506783485413,
           0.1661166548728943,
           0.13577532768249512,
           0.48325735330581665,
           0.4929347634315491,
           0.21488523483276367,
           0.2829439043998718,
           0.2592107057571411,
           0.15451890230178833,
           0.2960595190525055,
           0.3329560458660126,
           0.18891489505767822,
           0.26281851530075073,
           0.356358140707016,
           0.21056298911571503,
           0.21385639905929565,
           0.42463618516921997,
           0.25806066393852234,
           0.28240934014320374,
           0.3163718283176422,
           0.21603839099407196,
           0.43759334087371826,
           0.3747835159301758,
           1.0000001192092896,
           0.1684512197971344,
           0.18069514632225037,
           0.17032288014888763,
           0.22458234429359436,
           0.22204385697841644,
           0.09017852693796158,
           0.20017048716545105,
           0.2297142893075943,
           0.19481314718723297,
           0.13772083818912506,
           0.4702697992324829,
           0.23734138906002045,
           0.1926492303609848,
           0.1176370233297348,
           0.17668110132217407,
           0.4935002028942108,
           0.6299947500228882,
           0.25421014428138733,
           0.1892373412847519,
           0.42315560579299927,
           0.2117626965045929,
           0.06358116120100021,
           0.4336690902709961,
           0.5230814814567566,
           0.5294660329818726,
           0.5039763450622559,
           0.5608358383178711,
           0.3285989463329315,
           0.29094398021698,
           0.18187710642814636,
           0.08332999795675278,
           0.10825276374816895,
           0.24725234508514404,
           0.3812807500362396,
           0.32883667945861816,
           0.04813127964735031,
           0.2480311393737793,
           0.1495199203491211,
           0.10806203633546829,
           0.43363043665885925,
           0.21865350008010864,
           0.29220089316368103,
           0.22274760901927948,
           0.6139723658561707,
           0.10271867364645004,
           0.17361845076084137
          ],
          [
           0.5151174068450928,
           0.317129909992218,
           0.28580141067504883,
           0.15557366609573364,
           0.414461612701416,
           0.2545017898082733,
           0.6611771583557129,
           0.26664555072784424,
           0.40639397501945496,
           0.19225414097309113,
           0.19895991683006287,
           0.3656488060951233,
           0.20728430151939392,
           0.12009315192699432,
           0.2876930832862854,
           0.27325934171676636,
           0.15856453776359558,
           0.2483193725347519,
           0.15662850439548492,
           0.11232862621545792,
           0.3049243688583374,
           0.26403191685676575,
           0.14867399632930756,
           0.21994252502918243,
           0.27750304341316223,
           0.5207851529121399,
           0.3810064494609833,
           0.21422454714775085,
           0.3283286690711975,
           0.4244997501373291,
           0.2107495665550232,
           0.27832257747650146,
           0.21584229171276093,
           0.15301333367824554,
           0.1684512197971344,
           0.9999998807907104,
           0.18839402496814728,
           0.17430491745471954,
           0.4391683340072632,
           0.2037975937128067,
           0.05744956061244011,
           0.17909258604049683,
           0.24845822155475616,
           0.17791704833507538,
           0.20921774208545685,
           0.23824641108512878,
           0.5180079340934753,
           0.3543108403682709,
           0.1759496033191681,
           0.09952577203512192,
           0.205424502491951,
           0.20274589955806732,
           0.17721228301525116,
           0.23639875650405884,
           0.44931355118751526,
           0.21789903938770294,
           0.12730710208415985,
           0.25014546513557434,
           0.11265911906957626,
           0.31922441720962524,
           0.27165403962135315,
           0.13028018176555634,
           0.2541888952255249,
           0.2693796753883362,
           0.1891818791627884,
           0.11982180923223495,
           0.10897171497344971,
           0.17698797583580017,
           0.35507407784461975,
           0.14511828124523163,
           0.13499921560287476,
           0.17332983016967773,
           0.5925613045692444,
           0.16539934277534485,
           0.24987411499023438,
           0.2720954120159149,
           0.24616308510303497,
           0.30807092785835266,
           0.2185184359550476,
           0.5345238447189331,
           0.10443627834320068
          ],
          [
           0.24930651485919952,
           0.22116965055465698,
           0.38888850808143616,
           0.2720957100391388,
           0.2303246408700943,
           0.2590620517730713,
           0.3033151626586914,
           0.42362579703330994,
           0.33267465233802795,
           0.34104421734809875,
           0.16466858983039856,
           0.3175681233406067,
           0.2159983515739441,
           0.17673397064208984,
           0.22805698215961456,
           0.2747298777103424,
           0.3485942780971527,
           0.19403277337551117,
           0.3229554295539856,
           0.3878982365131378,
           0.25486165285110474,
           0.1297043263912201,
           0.1618334800004959,
           0.13952559232711792,
           0.48080137372016907,
           0.4165835976600647,
           0.20944680273532867,
           0.1467938870191574,
           0.3914642035961151,
           0.18806368112564087,
           0.4906153082847595,
           0.539618968963623,
           0.18791304528713226,
           0.1872566193342209,
           0.18069514632225037,
           0.18839402496814728,
           1.0000003576278687,
           0.04895959049463272,
           0.40901511907577515,
           0.307860791683197,
           0.20277215540409088,
           0.38878554105758667,
           0.21579982340335846,
           0.5012868046760559,
           0.514553427696228,
           0.4158960282802582,
           0.26514577865600586,
           0.19185295701026917,
           0.24885757267475128,
           0.2042536586523056,
           0.21049034595489502,
           0.17109735310077667,
           0.23369482159614563,
           0.566588282585144,
           0.30043721199035645,
           0.2843474745750427,
           0.6545100212097168,
           0.2803316116333008,
           0.04673716053366661,
           0.2623891234397888,
           0.16986083984375,
           0.10076357424259186,
           0.21270699799060822,
           0.25183942914009094,
           0.19271928071975708,
           0.17143376171588898,
           0.37210848927497864,
           0.3209752142429352,
           0.29296985268592834,
           0.17948023974895477,
           0.15992799401283264,
           0.2846423387527466,
           0.2573533356189728,
           0.43480947613716125,
           0.3318331837654114,
           0.48736193776130676,
           0.36585554480552673,
           0.36030974984169006,
           0.1790909469127655,
           0.18641668558120728,
           0.24865706264972687
          ],
          [
           0.3306474983692169,
           0.14413240551948547,
           0.2111511528491974,
           0.271952360868454,
           0.21845340728759766,
           0.24509653449058533,
           0.20050987601280212,
           0.18383121490478516,
           0.19560904800891876,
           0.2715246081352234,
           0.4371474087238312,
           0.17346441745758057,
           0.2691083550453186,
           0.13832756876945496,
           0.24675144255161285,
           0.1421261876821518,
           0.10293973982334137,
           0.3786495625972748,
           0.16968099772930145,
           0.19984903931617737,
           0.28899505734443665,
           0.4713171720504761,
           0.41572093963623047,
           0.553655207157135,
           0.18879719078540802,
           0.17130731046199799,
           0.22576893866062164,
           0.2995974123477936,
           0.22943268716335297,
           0.2519340515136719,
           0.1392631232738495,
           0.1306883841753006,
           0.3139350116252899,
           0.2654668092727661,
           0.17032288014888763,
           0.17430491745471954,
           0.04895959049463272,
           0.9999998211860657,
           0.10851353406906128,
           0.15099915862083435,
           0.06732896715402603,
           0.17610466480255127,
           0.4608342945575714,
           0.1902165710926056,
           0.14292213320732117,
           0.12971535325050354,
           0.13576829433441162,
           0.2791450619697571,
           0.2728847563266754,
           0.09058793634176254,
           0.18292927742004395,
           0.1944240778684616,
           0.3044285774230957,
           0.12931405007839203,
           0.20694608986377716,
           0.17923906445503235,
           0.06536063551902771,
           0.17321671545505524,
           0.19490398466587067,
           0.1430695354938507,
           0.16133056581020355,
           0.05296332761645317,
           0.34612685441970825,
           0.10667448490858078,
           0.18638697266578674,
           0.13242633640766144,
           0.03596651181578636,
           0.18218453228473663,
           0.21185965836048126,
           0.27450326085090637,
           0.1121835708618164,
           0.26387327909469604,
           0.213967964053154,
           0.06626877933740616,
           0.22616656124591827,
           0.23499570786952972,
           0.10866199433803558,
           0.2048371434211731,
           0.22766537964344025,
           0.04491007700562477,
           0.14368119835853577
          ],
          [
           0.393295556306839,
           0.42325451970100403,
           0.22132784128189087,
           0.1040368378162384,
           0.44559594988822937,
           0.18622207641601562,
           0.31198686361312866,
           0.25743359327316284,
           0.3678132891654968,
           0.11758403480052948,
           0.17113518714904785,
           0.3176206648349762,
           0.09119441360235214,
           0.0867699459195137,
           0.28140711784362793,
           0.25472262501716614,
           0.49356719851493835,
           0.23908495903015137,
           0.13058538734912872,
           0.5153814554214478,
           0.21467392146587372,
           0.2169392704963684,
           0.06498916447162628,
           0.09733325988054276,
           0.25541508197784424,
           0.7763194441795349,
           0.2383919209241867,
           0.15430563688278198,
           0.27915719151496887,
           0.4057620167732239,
           0.6348882913589478,
           0.7537317276000977,
           0.19970300793647766,
           0.1535153090953827,
           0.22458234429359436,
           0.4391683340072632,
           0.40901511907577515,
           0.10851353406906128,
           0.9999997615814209,
           0.3045945167541504,
           0.08902369439601898,
           0.23101194202899933,
           0.11763101816177368,
           0.594323456287384,
           0.6224735975265503,
           0.7317016124725342,
           0.4291307032108307,
           0.3800360858440399,
           0.19788551330566406,
           0.10381939262151718,
           0.31187158823013306,
           0.21854223310947418,
           0.13415560126304626,
           0.7425380349159241,
           0.3161511719226837,
           0.5215198993682861,
           0.48522406816482544,
           0.20063790678977966,
           0.10875403136014938,
           0.35426998138427734,
           0.2985883057117462,
           0.19502966105937958,
           0.11253181844949722,
           0.20745249092578888,
           0.09440561383962631,
           0.08509302884340286,
           0.21899355947971344,
           0.12207608669996262,
           0.28376808762550354,
           0.18604765832424164,
           0.06530699878931046,
           0.37089377641677856,
           0.321210652589798,
           0.6230623722076416,
           0.28490394353866577,
           0.6467760801315308,
           0.729497492313385,
           0.6574402451515198,
           0.2416302114725113,
           0.4033246338367462,
           0.1071183905005455
          ],
          [
           0.4090653657913208,
           0.34847432374954224,
           0.30581361055374146,
           0.43301722407341003,
           0.4064273238182068,
           0.5742445588111877,
           0.3883332908153534,
           0.4606437683105469,
           0.5350353717803955,
           0.4062436521053314,
           0.3482714593410492,
           0.39168375730514526,
           0.38403627276420593,
           0.3308945596218109,
           0.3681545555591583,
           0.2778121829032898,
           0.3687276542186737,
           0.24716512858867645,
           0.4280967116355896,
           0.3860115706920624,
           0.18048115074634552,
           0.4318465292453766,
           0.19287247955799103,
           0.30629003047943115,
           0.42820802330970764,
           0.2840751111507416,
           0.27573975920677185,
           0.3294123411178589,
           0.3851770758628845,
           0.24046021699905396,
           0.3589541018009186,
           0.3799508213996887,
           0.24424174427986145,
           0.24474340677261353,
           0.22204385697841644,
           0.2037975937128067,
           0.307860791683197,
           0.15099915862083435,
           0.3045945167541504,
           1.000000238418579,
           0.13456809520721436,
           0.27152299880981445,
           0.3428798317909241,
           0.4418027997016907,
           0.2963795065879822,
           0.36356109380722046,
           0.2950318455696106,
           0.30282729864120483,
           0.2292606383562088,
           0.31443312764167786,
           0.2618858218193054,
           0.3362515866756439,
           0.2683026194572449,
           0.3350967764854431,
           0.3457084000110626,
           0.15736563503742218,
           0.28736183047294617,
           0.2616023123264313,
           0.1623198688030243,
           0.35692542791366577,
           0.3831818401813507,
           0.24776799976825714,
           0.3258814215660095,
           0.28269192576408386,
           0.22144876420497894,
           0.35511064529418945,
           0.22904731333255768,
           0.3965461254119873,
           0.43017563223838806,
           0.17658394575119019,
           0.16549232602119446,
           0.2991397976875305,
           0.2322782725095749,
           0.31336700916290283,
           0.2546587884426117,
           0.3099897503852844,
           0.33897238969802856,
           0.26871174573898315,
           0.1880907118320465,
           0.19139085710048676,
           0.24479611217975616
          ],
          [
           0.1067529246211052,
           0.10751444101333618,
           0.1720200926065445,
           0.27237260341644287,
           0.13256001472473145,
           0.24990926682949066,
           0.09853938966989517,
           0.15417622029781342,
           0.11234387010335922,
           0.18268315494060516,
           0.08824826776981354,
           0.12049727141857147,
           0.07042763382196426,
           0.16563855111598969,
           0.06537613272666931,
           0.045553058385849,
           0.15159454941749573,
           0.1531999111175537,
           0.13216552138328552,
           0.11018382757902145,
           0.10560614615678787,
           0.12567299604415894,
           0.11772488057613373,
           -0.023999009281396866,
           0.19787383079528809,
           0.0611688569188118,
           0.16381189227104187,
           0.07961016148328781,
           0.07578675448894501,
           0.07041992247104645,
           0.12577664852142334,
           0.1856902539730072,
           0.0558769665658474,
           0.11490853130817413,
           0.09017852693796158,
           0.05744956061244011,
           0.20277215540409088,
           0.06732896715402603,
           0.08902369439601898,
           0.13456809520721436,
           0.9999997615814209,
           0.08540970832109451,
           0.08997981995344162,
           0.16478268802165985,
           0.14779482781887054,
           0.10151036828756332,
           0.13189895451068878,
           0.11774807423353195,
           0.13826091587543488,
           0.34323757886886597,
           0.14038804173469543,
           0.1087927594780922,
           0.15357111394405365,
           0.14096367359161377,
           0.052751652896404266,
           0.06982427835464478,
           0.16233599185943604,
           0.03406909108161926,
           0.11915243417024612,
           0.10740464925765991,
           0.10379835218191147,
           0.010464215651154518,
           0.08661886304616928,
           0.16996952891349792,
           0.13539928197860718,
           0.2931519150733948,
           0.21925005316734314,
           0.3055882155895233,
           0.0976758599281311,
           -0.003109028097242117,
           0.41201257705688477,
           0.14148545265197754,
           0.1598397195339203,
           0.21008086204528809,
           0.155207559466362,
           0.12197033315896988,
           0.11111686378717422,
           0.10649134963750839,
           0.0703185498714447,
           0.060764510184526443,
           0.5271692276000977
          ],
          [
           0.24476557970046997,
           0.2949128746986389,
           0.3892239034175873,
           0.20319603383541107,
           0.20287500321865082,
           0.30357030034065247,
           0.17192043364048004,
           0.3671371340751648,
           0.16808433830738068,
           0.2076151967048645,
           0.29762187600135803,
           0.29306644201278687,
           0.2917509078979492,
           0.5180352926254272,
           0.33096569776535034,
           0.38548392057418823,
           0.308716356754303,
           0.29721900820732117,
           0.2365054488182068,
           0.27085545659065247,
           0.3597218990325928,
           0.27044621109962463,
           0.19853349030017853,
           0.2582235634326935,
           0.3161405324935913,
           0.19014231860637665,
           0.27510663866996765,
           0.3068837523460388,
           0.27925822138786316,
           0.16385626792907715,
           0.34025678038597107,
           0.2767699956893921,
           0.29397761821746826,
           0.2592105269432068,
           0.20017048716545105,
           0.17909258604049683,
           0.38878554105758667,
           0.17610466480255127,
           0.23101194202899933,
           0.27152299880981445,
           0.08540970832109451,
           1,
           0.2928297221660614,
           0.29324230551719666,
           0.28690433502197266,
           0.254922091960907,
           0.17839199304580688,
           0.26935872435569763,
           0.43794193863868713,
           0.14477574825286865,
           0.2948096990585327,
           0.3000797629356384,
           0.33966177701950073,
           0.29124781489372253,
           0.3686417043209076,
           0.17804661393165588,
           0.43598538637161255,
           0.3547460436820984,
           0.18663088977336884,
           0.18790344893932343,
           0.16003376245498657,
           0.22106331586837769,
           0.3326682448387146,
           0.14241667091846466,
           0.2053699493408203,
           0.02392253652215004,
           0.27525749802589417,
           0.1755090057849884,
           0.3491690158843994,
           0.2916530668735504,
           0.15656743943691254,
           0.2533112168312073,
           0.3091135025024414,
           0.1909741908311844,
           0.3577765226364136,
           0.4190341532230377,
           0.2380824089050293,
           0.16848407685756683,
           0.3730061948299408,
           0.11419935524463654,
           0.17536237835884094
          ],
          [
           0.3363432288169861,
           0.23862989246845245,
           0.3594570755958557,
           0.4335566461086273,
           0.25044307112693787,
           0.5309821963310242,
           0.32216376066207886,
           0.3093719482421875,
           0.27110394835472107,
           0.35612672567367554,
           0.4393574595451355,
           0.3576751947402954,
           0.42727524042129517,
           0.34678956866264343,
           0.3291226625442505,
           0.30063191056251526,
           0.25542640686035156,
           0.34390076994895935,
           0.31768798828125,
           0.18241973221302032,
           0.5070309042930603,
           0.530262291431427,
           0.5071311593055725,
           0.6111114025115967,
           0.31012386083602905,
           0.17046725749969482,
           0.319076806306839,
           0.406490683555603,
           0.4443337917327881,
           0.19617965817451477,
           0.22230827808380127,
           0.15863050520420074,
           0.6156342625617981,
           0.3790009617805481,
           0.2297142893075943,
           0.24845822155475616,
           0.21579982340335846,
           0.4608342945575714,
           0.11763101816177368,
           0.3428798317909241,
           0.08997981995344162,
           0.2928297221660614,
           0.9999996423721313,
           0.2582196295261383,
           0.20548084378242493,
           0.1716747283935547,
           0.17100705206394196,
           0.2831982970237732,
           0.5048904418945312,
           0.3223104774951935,
           0.1912582367658615,
           0.26225849986076355,
           0.4716809391975403,
           0.1566682755947113,
           0.3037293255329132,
           0.12186718732118607,
           0.1509033441543579,
           0.28122296929359436,
           0.07847049087285995,
           0.249110147356987,
           0.2783481478691101,
           0.1283743679523468,
           0.7793328166007996,
           0.17920289933681488,
           0.2537512183189392,
           0.30665460228919983,
           0.1859949231147766,
           0.25899940729141235,
           0.4477372467517853,
           0.210794597864151,
           0.19544784724712372,
           0.23898915946483612,
           0.3131242096424103,
           0.08761556446552277,
           0.268684446811676,
           0.29661089181900024,
           0.14667339622974396,
           0.13117709755897522,
           0.28082627058029175,
           0.09050051867961884,
           0.256624311208725
          ],
          [
           0.2962864935398102,
           0.15144771337509155,
           0.3479020297527313,
           0.48943737149238586,
           0.30362406373023987,
           0.3394589424133301,
           0.23937274515628815,
           0.38324543833732605,
           0.26198816299438477,
           0.3637451231479645,
           0.24110010266304016,
           0.23197203874588013,
           0.2952459156513214,
           0.3061043918132782,
           0.2760728895664215,
           0.21828174591064453,
           0.6997625231742859,
           0.20980310440063477,
           0.5613340735435486,
           0.7216671705245972,
           0.23580139875411987,
           0.1973751187324524,
           0.29032108187675476,
           0.24300844967365265,
           0.3849755823612213,
           0.6598167419433594,
           0.21274444460868835,
           0.19603483378887177,
           0.3323184549808502,
           0.1423349380493164,
           0.7793338298797607,
           0.8200622797012329,
           0.1414559781551361,
           0.28781962394714355,
           0.19481314718723297,
           0.17791704833507538,
           0.5012868046760559,
           0.1902165710926056,
           0.594323456287384,
           0.4418027997016907,
           0.16478268802165985,
           0.29324230551719666,
           0.2582196295261383,
           0.9999999403953552,
           0.7768784165382385,
           0.7120477557182312,
           0.28611016273498535,
           0.21510103344917297,
           0.32165148854255676,
           0.26026302576065063,
           0.25908294320106506,
           0.1369171291589737,
           0.31806090474128723,
           0.7467105984687805,
           0.24176359176635742,
           0.4519686698913574,
           0.584926962852478,
           0.2283448874950409,
           0.12002673000097275,
           0.17942874133586884,
           0.1382107138633728,
           0.08477147668600082,
           0.24046319723129272,
           0.23962968587875366,
           0.23236282169818878,
           0.2936272621154785,
           0.3118264377117157,
           0.23105181753635406,
           0.28826650977134705,
           0.14308197796344757,
           0.1694839745759964,
           0.38113486766815186,
           0.22176212072372437,
           0.7264260649681091,
           0.3506547510623932,
           0.746012270450592,
           0.5821106433868408,
           0.628052830696106,
           0.2164665311574936,
           0.13057348132133484,
           0.2336641252040863
          ],
          [
           0.31268879771232605,
           0.24982227385044098,
           0.6154385209083557,
           0.24580413103103638,
           0.26837357878685,
           0.24625356495380402,
           0.1970023512840271,
           0.28194916248321533,
           0.2527916431427002,
           0.29078370332717896,
           0.1731693595647812,
           0.2814442217350006,
           0.1901896893978119,
           0.1656384915113449,
           0.2532288730144501,
           0.27501028776168823,
           0.6063579320907593,
           0.17595955729484558,
           0.20911388099193573,
           0.6359130144119263,
           0.24045918881893158,
           0.16735173761844635,
           0.12877558171749115,
           0.17815519869327545,
           0.43483075499534607,
           0.6565638780593872,
           0.16690875589847565,
           0.18355029821395874,
           0.4520772099494934,
           0.21625131368637085,
           0.7149536609649658,
           0.8226311206817627,
           0.17485837638378143,
           0.1375085562467575,
           0.13772083818912506,
           0.20921774208545685,
           0.514553427696228,
           0.14292213320732117,
           0.6224735975265503,
           0.2963795065879822,
           0.14779482781887054,
           0.28690433502197266,
           0.20548084378242493,
           0.7768784165382385,
           0.9999998211860657,
           0.697468638420105,
           0.20328795909881592,
           0.22913214564323425,
           0.2208542823791504,
           0.2230205237865448,
           0.25169914960861206,
           0.15537840127944946,
           0.3479304015636444,
           0.7756897807121277,
           0.34465014934539795,
           0.45379894971847534,
           0.6020188331604004,
           0.2421911209821701,
           0.07361919432878494,
           0.23814049363136292,
           0.19345130026340485,
           0.112819604575634,
           0.20720072090625763,
           0.20808473229408264,
           0.1626487523317337,
           0.1795809417963028,
           0.41796955466270447,
           0.23145291209220886,
           0.35922470688819885,
           0.12418148666620255,
           0.14039765298366547,
           0.3542479872703552,
           0.19562050700187683,
           0.6916949152946472,
           0.2909446954727173,
           0.7008203268051147,
           0.6678470373153687,
           0.6223337650299072,
           0.15089814364910126,
           0.1734084188938141,
           0.1533374786376953
          ],
          [
           0.42792582511901855,
           0.425575315952301,
           0.2644804120063782,
           0.10283330827951431,
           0.4359135329723358,
           0.32587605714797974,
           0.2300582230091095,
           0.36377671360969543,
           0.4621301293373108,
           0.19719864428043365,
           0.37277182936668396,
           0.4897952079772949,
           0.13495683670043945,
           0.1393224149942398,
           0.4488322138786316,
           0.45908042788505554,
           0.628551185131073,
           0.1922767013311386,
           0.18297496438026428,
           0.6172178983688354,
           0.19906580448150635,
           0.280458927154541,
           0.10992109030485153,
           0.25137782096862793,
           0.280625581741333,
           0.7358746528625488,
           0.21289031207561493,
           0.3194786608219147,
           0.29185959696769714,
           0.3410855531692505,
           0.788413405418396,
           0.8422936797142029,
           0.3725127875804901,
           0.23132644593715668,
           0.4702697992324829,
           0.23824641108512878,
           0.4158960282802582,
           0.12971535325050354,
           0.7317016124725342,
           0.36356109380722046,
           0.10151036828756332,
           0.254922091960907,
           0.1716747283935547,
           0.7120477557182312,
           0.697468638420105,
           1.0000001192092896,
           0.33879321813583374,
           0.21610350906848907,
           0.18937623500823975,
           0.13638775050640106,
           0.4775528609752655,
           0.5073446035385132,
           0.2215694934129715,
           0.7685074210166931,
           0.39359986782073975,
           0.5494175553321838,
           0.5002248883247375,
           0.3668188154697418,
           0.31639668345451355,
           0.4346296489238739,
           0.4033396542072296,
           0.48280268907546997,
           0.238295778632164,
           0.2599431574344635,
           0.14265108108520508,
           0.10070478171110153,
           0.2908306121826172,
           0.23158010840415955,
           0.3344443142414093,
           0.2987673580646515,
           0.08634410053491592,
           0.4589960277080536,
           0.19241103529930115,
           0.7417837977409363,
           0.2983371615409851,
           0.6738005876541138,
           0.7985160946846008,
           0.688285768032074,
           0.3362760543823242,
           0.2073923945426941,
           0.1376974880695343
          ],
          [
           0.37202024459838867,
           0.32818642258644104,
           0.14715097844600677,
           0.19177785515785217,
           0.5355018377304077,
           0.25675925612449646,
           0.4395347833633423,
           0.2569873332977295,
           0.38825058937072754,
           0.16832837462425232,
           0.18309220671653748,
           0.3161635398864746,
           0.24561944603919983,
           0.13783113658428192,
           0.30810752511024475,
           0.25302374362945557,
           0.2510724365711212,
           0.20210978388786316,
           0.2005435973405838,
           0.2146746814250946,
           0.17394579946994781,
           0.25509676337242126,
           0.18097984790802002,
           0.19588765501976013,
           0.2576344311237335,
           0.4392532706260681,
           0.614203691482544,
           0.2080477774143219,
           0.25501593947410583,
           0.3334612548351288,
           0.26620179414749146,
           0.3389874994754791,
           0.17824780941009521,
           0.26026174426078796,
           0.23734138906002045,
           0.5180079340934753,
           0.26514577865600586,
           0.13576829433441162,
           0.4291307032108307,
           0.2950318455696106,
           0.13189895451068878,
           0.17839199304580688,
           0.17100705206394196,
           0.28611016273498535,
           0.20328795909881592,
           0.33879321813583374,
           0.9999997615814209,
           0.30930718779563904,
           0.23731736838817596,
           0.1258852332830429,
           0.2412964254617691,
           0.24171598255634308,
           0.12913478910923004,
           0.32234036922454834,
           0.31061622500419617,
           0.2599368095397949,
           0.19711099565029144,
           0.20545166730880737,
           0.16342057287693024,
           0.31014302372932434,
           0.27728813886642456,
           0.16559362411499023,
           0.2176474928855896,
           0.2712193429470062,
           0.24230825901031494,
           0.06650328636169434,
           0.15812931954860687,
           0.21168816089630127,
           0.25014808773994446,
           0.16590598225593567,
           0.07378167659044266,
           0.2561264932155609,
           0.5946691036224365,
           0.23507268726825714,
           0.19935570657253265,
           0.34735816717147827,
           0.3426211476325989,
           0.29768630862236023,
           0.2006296068429947,
           0.40693771839141846,
           0.10524974018335342
          ],
          [
           0.44156894087791443,
           0.44158923625946045,
           0.2808041274547577,
           0.2452237755060196,
           0.38512250781059265,
           0.2868881821632385,
           0.23729375004768372,
           0.3634095788002014,
           0.33614301681518555,
           0.2310175746679306,
           0.25829756259918213,
           0.3042091429233551,
           0.34520381689071655,
           0.2446662187576294,
           0.3759983777999878,
           0.2701548933982849,
           0.14686721563339233,
           0.7043974995613098,
           0.22511111199855804,
           0.12707537412643433,
           0.45309457182884216,
           0.32916459441185,
           0.17732733488082886,
           0.1954570859670639,
           0.2714259922504425,
           0.25381404161453247,
           0.3776395618915558,
           0.22813671827316284,
           0.3605031669139862,
           0.24644996225833893,
           0.25710445642471313,
           0.22061513364315033,
           0.22157323360443115,
           0.37964096665382385,
           0.1926492303609848,
           0.3543108403682709,
           0.19185295701026917,
           0.2791450619697571,
           0.3800360858440399,
           0.30282729864120483,
           0.11774807423353195,
           0.26935872435569763,
           0.2831982970237732,
           0.21510103344917297,
           0.22913214564323425,
           0.21610350906848907,
           0.30930718779563904,
           1.0000005960464478,
           0.3804045617580414,
           0.197541743516922,
           0.24114716053009033,
           0.24144072830677032,
           0.26798775792121887,
           0.24913857877254486,
           0.3070122003555298,
           0.183556467294693,
           0.07176582515239716,
           0.2325361967086792,
           0.08705432713031769,
           0.2628999650478363,
           0.34680667519569397,
           0.09702102839946747,
           0.24577364325523376,
           0.2379174679517746,
           0.18053431808948517,
           0.10488308221101761,
           0.18239979445934296,
           0.156729593873024,
           0.42025768756866455,
           0.28060078620910645,
           0.14145858585834503,
           0.24088798463344574,
           0.3434542417526245,
           0.15207535028457642,
           0.369917631149292,
           0.48031142354011536,
           0.3620940148830414,
           0.23002111911773682,
           0.2031857818365097,
           0.301664263010025,
           0.23337146639823914
          ],
          [
           0.21739602088928223,
           0.21818096935749054,
           0.2079729288816452,
           0.31918269395828247,
           0.1868067979812622,
           0.23511289060115814,
           0.18566802144050598,
           0.3117417097091675,
           0.15484969317913055,
           0.2558056712150574,
           0.2890062630176544,
           0.22405947744846344,
           0.3692551851272583,
           0.6668919920921326,
           0.33660855889320374,
           0.3132334351539612,
           0.20709306001663208,
           0.39941737055778503,
           0.26737135648727417,
           0.20750951766967773,
           0.40274864435195923,
           0.3242488205432892,
           0.3700881004333496,
           0.32399216294288635,
           0.17811019718647003,
           0.18280485272407532,
           0.2917598485946655,
           0.264325886964798,
           0.27976059913635254,
           0.13458727300167084,
           0.30893170833587646,
           0.22062639892101288,
           0.38456961512565613,
           0.47818151116371155,
           0.1176370233297348,
           0.1759496033191681,
           0.24885757267475128,
           0.2728847563266754,
           0.19788551330566406,
           0.2292606383562088,
           0.13826091587543488,
           0.43794193863868713,
           0.5048904418945312,
           0.32165148854255676,
           0.2208542823791504,
           0.18937623500823975,
           0.23731736838817596,
           0.3804045617580414,
           1,
           0.17676202952861786,
           0.26217350363731384,
           0.13256719708442688,
           0.354844331741333,
           0.27050697803497314,
           0.20691539347171783,
           0.18333235383033752,
           0.16943058371543884,
           0.30969110131263733,
           0.06819749623537064,
           0.18644979596138,
           0.07373550534248352,
           0.07390663027763367,
           0.5199763774871826,
           0.11760853976011276,
           0.2648037374019623,
           0.1418115794658661,
           0.1952899545431137,
           0.16973267495632172,
           0.2379835695028305,
           0.31503280997276306,
           0.09873140603303909,
           0.24565546214580536,
           0.2529776692390442,
           0.11545610427856445,
           0.23271578550338745,
           0.45268040895462036,
           0.18851232528686523,
           0.14096689224243164,
           0.18712517619132996,
           0.08231806755065918,
           0.20330242812633514
          ],
          [
           0.20922374725341797,
           0.1604260355234146,
           0.30402934551239014,
           0.4285583794116974,
           0.1856112778186798,
           0.4927935004234314,
           0.2444661259651184,
           0.22648678719997406,
           0.2548406720161438,
           0.31803008913993835,
           0.2482050508260727,
           0.16940854489803314,
           0.32040247321128845,
           0.24693554639816284,
           0.19344690442085266,
           0.12295614928007126,
           0.2426755577325821,
           0.17348134517669678,
           0.23100239038467407,
           0.1783331334590912,
           0.1371297985315323,
           0.2547699809074402,
           0.1032620295882225,
           0.20255091786384583,
           0.32561248540878296,
           0.1340511441230774,
           0.20136266946792603,
           0.2021404504776001,
           0.3812161684036255,
           0.16710855066776276,
           0.15244093537330627,
           0.1884034126996994,
           0.10719023644924164,
           0.26021870970726013,
           0.17668110132217407,
           0.09952577203512192,
           0.2042536586523056,
           0.09058793634176254,
           0.10381939262151718,
           0.31443312764167786,
           0.34323757886886597,
           0.14477574825286865,
           0.3223104774951935,
           0.26026302576065063,
           0.2230205237865448,
           0.13638775050640106,
           0.1258852332830429,
           0.197541743516922,
           0.17676202952861786,
           1,
           0.10217852145433426,
           0.18211425840854645,
           0.21020978689193726,
           0.1453208327293396,
           0.10846952348947525,
           0.10571018606424332,
           0.18936322629451752,
           0.11814181506633759,
           0.10732840746641159,
           0.19075168669223785,
           0.25889408588409424,
           0.07418403029441833,
           0.23063541948795319,
           0.20087182521820068,
           0.1375340223312378,
           0.5587299466133118,
           0.22489450871944427,
           0.4368625283241272,
           0.2646993100643158,
           0.11735983937978745,
           0.3611045181751251,
           0.29619795083999634,
           0.12619400024414062,
           0.1465921401977539,
           0.2112324833869934,
           0.21957901120185852,
           0.13384069502353668,
           0.13286477327346802,
           0.14267498254776,
           0.1795307844877243,
           0.4929448664188385
          ],
          [
           0.3874484598636627,
           0.4113779664039612,
           0.24050842225551605,
           0.08808661252260208,
           0.39127016067504883,
           0.27514055371284485,
           0.20863161981105804,
           0.37605178356170654,
           0.3112800717353821,
           0.21179261803627014,
           0.33186236023902893,
           0.4861041307449341,
           0.14777536690235138,
           0.10369837284088135,
           0.5911840200424194,
           0.4298141896724701,
           0.3359958529472351,
           0.3466856777667999,
           0.16532258689403534,
           0.28501054644584656,
           0.31895744800567627,
           0.2688291370868683,
           0.17045962810516357,
           0.2170400470495224,
           0.2575654983520508,
           0.3229987621307373,
           0.2660164535045624,
           0.3863958418369293,
           0.21154576539993286,
           0.2823393642902374,
           0.3759506046772003,
           0.342276006937027,
           0.4065437614917755,
           0.37555283308029175,
           0.4935002028942108,
           0.205424502491951,
           0.21049034595489502,
           0.18292927742004395,
           0.31187158823013306,
           0.2618858218193054,
           0.14038804173469543,
           0.2948096990585327,
           0.1912582367658615,
           0.25908294320106506,
           0.25169914960861206,
           0.4775528609752655,
           0.2412964254617691,
           0.24114716053009033,
           0.26217350363731384,
           0.10217852145433426,
           1.0000005960464478,
           0.4768127501010895,
           0.1650899350643158,
           0.36048662662506104,
           0.41231414675712585,
           0.26157715916633606,
           0.18747444450855255,
           0.35875409841537476,
           0.49536702036857605,
           0.4676337242126465,
           0.35716038942337036,
           0.4772639572620392,
           0.2486381083726883,
           0.37627238035202026,
           0.3036792576313019,
           0.05747249722480774,
           0.22892041504383087,
           0.1553361564874649,
           0.3278495967388153,
           0.3884620666503906,
           0.09197626262903214,
           0.19738371670246124,
           0.2187505066394806,
           0.21777863800525665,
           0.33503246307373047,
           0.35912126302719116,
           0.39700692892074585,
           0.3173425793647766,
           0.3971274793148041,
           0.1111288070678711,
           0.17719118297100067
          ],
          [
           0.4790230989456177,
           0.6097936630249023,
           0.31697434186935425,
           0.13553489744663239,
           0.3722464144229889,
           0.5146461725234985,
           0.24697382748126984,
           0.4602776765823364,
           0.5525228977203369,
           0.2370339035987854,
           0.4952212870121002,
           0.6807169318199158,
           0.22506052255630493,
           0.13689203560352325,
           0.5483062863349915,
           0.5628329515457153,
           0.19072170555591583,
           0.285769522190094,
           0.17748863995075226,
           0.1535647213459015,
           0.23412393033504486,
           0.3881099224090576,
           0.07496987283229828,
           0.3353600800037384,
           0.343067467212677,
           0.17376309633255005,
           0.28448790311813354,
           0.5482712388038635,
           0.30499032139778137,
           0.3638034462928772,
           0.29138463735580444,
           0.18839292228221893,
           0.6020662784576416,
           0.3059101402759552,
           0.6299947500228882,
           0.20274589955806732,
           0.17109735310077667,
           0.1944240778684616,
           0.21854223310947418,
           0.3362515866756439,
           0.1087927594780922,
           0.3000797629356384,
           0.26225849986076355,
           0.1369171291589737,
           0.15537840127944946,
           0.5073446035385132,
           0.24171598255634308,
           0.24144072830677032,
           0.13256719708442688,
           0.18211425840854645,
           0.4768127501010895,
           1.0000003576278687,
           0.2678823471069336,
           0.16613762080669403,
           0.4624899923801422,
           0.17876791954040527,
           0.08204714208841324,
           0.5639070272445679,
           0.3887195289134979,
           0.6002946496009827,
           0.6295405626296997,
           0.5686453580856323,
           0.3864184617996216,
           0.29971498250961304,
           0.14265817403793335,
           0.06886949390172958,
           0.1267527937889099,
           0.2938852310180664,
           0.4711662530899048,
           0.29976996779441833,
           0.1262914538383484,
           0.33507460355758667,
           0.17886653542518616,
           0.09213415533304214,
           0.32091858983039856,
           0.24127379059791565,
           0.41936472058296204,
           0.21740473806858063,
           0.421132355928421,
           0.14352309703826904,
           0.12536315619945526
          ],
          [
           0.3259749710559845,
           0.22671270370483398,
           0.5349951982498169,
           0.3685249388217926,
           0.16626356542110443,
           0.3711732029914856,
           0.2267340123653412,
           0.2764717936515808,
           0.29113325476646423,
           0.33704105019569397,
           0.38760387897491455,
           0.26693522930145264,
           0.25703710317611694,
           0.31626009941101074,
           0.27223533391952515,
           0.4222118854522705,
           0.24796074628829956,
           0.287360817193985,
           0.2883687913417816,
           0.2078617960214615,
           0.4425090551376343,
           0.3656226098537445,
           0.23658870160579681,
           0.3108285665512085,
           0.35612952709198,
           0.15908662974834442,
           0.1707260012626648,
           0.5600773096084595,
           0.41293448209762573,
           0.1280137002468109,
           0.2413744479417801,
           0.21535912156105042,
           0.2791749835014343,
           0.26437947154045105,
           0.25421014428138733,
           0.17721228301525116,
           0.23369482159614563,
           0.3044285774230957,
           0.13415560126304626,
           0.2683026194572449,
           0.15357111394405365,
           0.33966177701950073,
           0.4716809391975403,
           0.31806090474128723,
           0.3479304015636444,
           0.2215694934129715,
           0.12913478910923004,
           0.26798775792121887,
           0.354844331741333,
           0.21020978689193726,
           0.1650899350643158,
           0.2678823471069336,
           1.0000003576278687,
           0.19557933509349823,
           0.330228716135025,
           0.1217058002948761,
           0.19242195785045624,
           0.3043624460697174,
           0.14824719727039337,
           0.203658327460289,
           0.23517343401908875,
           0.1521696150302887,
           0.37485507130622864,
           0.20929491519927979,
           0.20790551602840424,
           0.23986920714378357,
           0.2971953749656677,
           0.2638641893863678,
           0.3657975494861603,
           0.21845214068889618,
           0.12174569815397263,
           0.2914578914642334,
           0.21709729731082916,
           0.14321385324001312,
           0.2845919132232666,
           0.2567675709724426,
           0.18817299604415894,
           0.19173121452331543,
           0.278062641620636,
           0.07624442875385284,
           0.26162397861480713
          ],
          [
           0.30344000458717346,
           0.2505419850349426,
           0.3184824287891388,
           0.17311345040798187,
           0.3470188081264496,
           0.20810581743717194,
           0.26403695344924927,
           0.37626832723617554,
           0.3028523921966553,
           0.18444959819316864,
           0.20461086928844452,
           0.23268504440784454,
           0.16039301455020905,
           0.14878396689891815,
           0.26658064126968384,
           0.2978151738643646,
           0.6296080350875854,
           0.2034822702407837,
           0.21828757226467133,
           0.6681727170944214,
           0.23590323328971863,
           0.1822350025177002,
           0.1230047345161438,
           0.14458075165748596,
           0.27742403745651245,
           0.758076548576355,
           0.2241744101047516,
           0.1382293999195099,
           0.2887791395187378,
           0.24919676780700684,
           0.8042623400688171,
           0.8730065226554871,
           0.170349583029747,
           0.1807703822851181,
           0.1892373412847519,
           0.23639875650405884,
           0.566588282585144,
           0.12931405007839203,
           0.7425380349159241,
           0.3350967764854431,
           0.14096367359161377,
           0.29124781489372253,
           0.1566682755947113,
           0.7467105984687805,
           0.7756897807121277,
           0.7685074210166931,
           0.32234036922454834,
           0.24913857877254486,
           0.27050697803497314,
           0.1453208327293396,
           0.36048662662506104,
           0.16613762080669403,
           0.19557933509349823,
           0.9999991655349731,
           0.2768583595752716,
           0.5262589454650879,
           0.7117674350738525,
           0.22269898653030396,
           0.10992520302534103,
           0.22362147271633148,
           0.22194021940231323,
           0.1560068428516388,
           0.16168312728405,
           0.20258958637714386,
           0.16746164858341217,
           0.10292250663042068,
           0.3516693711280823,
           0.21600739657878876,
           0.24472586810588837,
           0.17116445302963257,
           0.07587999105453491,
           0.3851286470890045,
           0.2662360370159149,
           0.7577205896377563,
           0.28450724482536316,
           0.7154898643493652,
           0.6736558675765991,
           0.6560178399085999,
           0.1873721033334732,
           0.21927207708358765,
           0.19113990664482117
          ],
          [
           0.5974999070167542,
           0.5266667008399963,
           0.5660457015037537,
           0.22580558061599731,
           0.3558548390865326,
           0.378229022026062,
           0.4367739260196686,
           0.4158989489078522,
           0.5561834573745728,
           0.39672717452049255,
           0.36639630794525146,
           0.7014405727386475,
           0.27449989318847656,
           0.2053736299276352,
           0.5518870949745178,
           0.5013419985771179,
           0.20212231576442719,
           0.36562448740005493,
           0.21161684393882751,
           0.19411040842533112,
           0.44675734639167786,
           0.2508907914161682,
           0.25728893280029297,
           0.3700311779975891,
           0.5776265263557434,
           0.3543420433998108,
           0.2985374331474304,
           0.4135330617427826,
           0.5177549123764038,
           0.45326218008995056,
           0.2749713957309723,
           0.32077756524086,
           0.335283100605011,
           0.2943491041660309,
           0.42315560579299927,
           0.44931355118751526,
           0.30043721199035645,
           0.20694608986377716,
           0.3161511719226837,
           0.3457084000110626,
           0.052751652896404266,
           0.3686417043209076,
           0.3037293255329132,
           0.24176359176635742,
           0.34465014934539795,
           0.39359986782073975,
           0.31061622500419617,
           0.3070122003555298,
           0.20691539347171783,
           0.10846952348947525,
           0.41231414675712585,
           0.4624899923801422,
           0.330228716135025,
           0.2768583595752716,
           0.9999998211860657,
           0.28341585397720337,
           0.18705077469348907,
           0.5025541186332703,
           0.34021541476249695,
           0.5063993334770203,
           0.4312775731086731,
           0.4148639142513275,
           0.2912895381450653,
           0.34849798679351807,
           0.18152600526809692,
           0.0960167869925499,
           0.3073441982269287,
           0.27648061513900757,
           0.5217725038528442,
           0.34903156757354736,
           0.26434090733528137,
           0.358574777841568,
           0.31183183193206787,
           0.126093327999115,
           0.37493181228637695,
           0.282725065946579,
           0.397617369890213,
           0.2886981964111328,
           0.4629532992839813,
           0.20275337994098663,
           0.1586882770061493
          ],
          [
           0.5131084322929382,
           0.23806416988372803,
           0.18608754873275757,
           0.07139884680509567,
           0.2571016550064087,
           0.1368924379348755,
           0.14524202048778534,
           0.22288984060287476,
           0.2382546216249466,
           0.08767610788345337,
           0.23415644466876984,
           0.24892842769622803,
           0.09655314683914185,
           0.07180282473564148,
           0.2148321568965912,
           0.22572588920593262,
           0.3913344144821167,
           0.1729002147912979,
           0.1309581845998764,
           0.4448908865451813,
           0.1533331423997879,
           0.21012724936008453,
           0.09013386815786362,
           0.22598472237586975,
           0.12588495016098022,
           0.5296804904937744,
           0.17236194014549255,
           0.16257856786251068,
           0.20391440391540527,
           0.36098358035087585,
           0.49621883034706116,
           0.5566543936729431,
           0.20354382693767548,
           0.18794582784175873,
           0.2117626965045929,
           0.21789903938770294,
           0.2843474745750427,
           0.17923906445503235,
           0.5215198993682861,
           0.15736563503742218,
           0.06982427835464478,
           0.17804661393165588,
           0.12186718732118607,
           0.4519686698913574,
           0.45379894971847534,
           0.5494175553321838,
           0.2599368095397949,
           0.183556467294693,
           0.18333235383033752,
           0.10571018606424332,
           0.26157715916633606,
           0.17876791954040527,
           0.1217058002948761,
           0.5262589454650879,
           0.28341585397720337,
           0.9999998211860657,
           0.3807215094566345,
           0.17002490162849426,
           0.2029009759426117,
           0.26009583473205566,
           0.1466180384159088,
           0.2118472307920456,
           0.1616593897342682,
           0.16295775771141052,
           0.06818494945764542,
           0.05754316225647926,
           0.18082375824451447,
           0.1463431566953659,
           0.1662685126066208,
           0.18743030726909637,
           0.08541994541883469,
           0.3490303158760071,
           0.1747114509344101,
           0.4396497905254364,
           0.1709911823272705,
           0.43690380454063416,
           0.48292553424835205,
           0.6472344994544983,
           0.1826033890247345,
           0.15396161377429962,
           0.13074781000614166
          ],
          [
           0.16856569051742554,
           0.06719451397657394,
           0.3103020489215851,
           0.24352186918258667,
           0.23043128848075867,
           0.18182863295078278,
           0.24187219142913818,
           0.26334458589553833,
           0.19286897778511047,
           0.25578323006629944,
           0.13640280067920685,
           0.14268173277378082,
           0.1434115320444107,
           0.10181599110364914,
           0.15760032832622528,
           0.20939140021800995,
           0.5009769797325134,
           0.07029028236865997,
           0.17880284786224365,
           0.5199248790740967,
           0.15523415803909302,
           0.1269892007112503,
           0.09335289150476456,
           0.11739923804998398,
           0.3223183751106262,
           0.5341365933418274,
           0.18187572062015533,
           0.07442232221364975,
           0.3119373023509979,
           0.17393526434898376,
           0.545223593711853,
           0.657490074634552,
           0.09057799726724625,
           0.11460275948047638,
           0.06358116120100021,
           0.12730710208415985,
           0.6545100212097168,
           0.06536063551902771,
           0.48522406816482544,
           0.28736183047294617,
           0.16233599185943604,
           0.43598538637161255,
           0.1509033441543579,
           0.584926962852478,
           0.6020188331604004,
           0.5002248883247375,
           0.19711099565029144,
           0.07176582515239716,
           0.16943058371543884,
           0.18936322629451752,
           0.18747444450855255,
           0.08204714208841324,
           0.19242195785045624,
           0.7117674350738525,
           0.18705077469348907,
           0.3807215094566345,
           0.9999997615814209,
           0.14921684563159943,
           0.04174322262406349,
           0.136832132935524,
           0.08966164290904999,
           0.06109650805592537,
           0.13270342350006104,
           0.16379515826702118,
           0.22990307211875916,
           0.14359720051288605,
           0.3112335503101349,
           0.22599871456623077,
           0.15582849085330963,
           0.09733480960130692,
           0.14312103390693665,
           0.31893640756607056,
           0.2396000176668167,
           0.581212043762207,
           0.2779935896396637,
           0.5191386342048645,
           0.3779321312904358,
           0.44327232241630554,
           0.17892296612262726,
           0.09876304119825363,
           0.2119615077972412
          ],
          [
           0.3608367145061493,
           0.47585970163345337,
           0.33230236172676086,
           0.2081872522830963,
           0.23309747874736786,
           0.3886556029319763,
           0.2944832146167755,
           0.4588097333908081,
           0.4653506875038147,
           0.2832604646682739,
           0.319911390542984,
           0.6485413312911987,
           0.24518628418445587,
           0.2085220068693161,
           0.5428403615951538,
           0.6291832327842712,
           0.2147534340620041,
           0.29633551836013794,
           0.21982607245445251,
           0.17409725487232208,
           0.3629816174507141,
           0.21920740604400635,
           0.12495395541191101,
           0.24118509888648987,
           0.44093766808509827,
           0.2295278012752533,
           0.2041623890399933,
           0.45186084508895874,
           0.35424089431762695,
           0.31851130723953247,
           0.36104196310043335,
           0.2728254199028015,
           0.4559755325317383,
           0.35826852917671204,
           0.4336690902709961,
           0.25014546513557434,
           0.2803316116333008,
           0.17321671545505524,
           0.20063790678977966,
           0.2616023123264313,
           0.03406909108161926,
           0.3547460436820984,
           0.28122296929359436,
           0.2283448874950409,
           0.2421911209821701,
           0.3668188154697418,
           0.20545166730880737,
           0.2325361967086792,
           0.30969110131263733,
           0.11814181506633759,
           0.35875409841537476,
           0.5639070272445679,
           0.3043624460697174,
           0.22269898653030396,
           0.5025541186332703,
           0.17002490162849426,
           0.14921684563159943,
           0.9999998211860657,
           0.23140695691108704,
           0.4346352517604828,
           0.30923667550086975,
           0.30886387825012207,
           0.3278936445713043,
           0.2642408311367035,
           0.21607880294322968,
           0.11105411499738693,
           0.20738887786865234,
           0.2585934102535248,
           0.4724807143211365,
           0.20410054922103882,
           0.11982204020023346,
           0.2940285801887512,
           0.16749615967273712,
           0.13174434006214142,
           0.38048452138900757,
           0.28781455755233765,
           0.3802680969238281,
           0.2057209461927414,
           0.2899077236652374,
           0.09062860906124115,
           0.11642590165138245
          ],
          [
           0.3071521818637848,
           0.2722143530845642,
           0.15588738024234772,
           0.09853917360305786,
           0.17649099230766296,
           0.296817809343338,
           0.19947583973407745,
           0.22415725886821747,
           0.26250967383384705,
           0.18302953243255615,
           0.30366629362106323,
           0.3088180720806122,
           0.12645642459392548,
           0.08636625111103058,
           0.35922306776046753,
           0.2858012020587921,
           0.17955979704856873,
           0.19367647171020508,
           0.07805465906858444,
           0.12803833186626434,
           0.12455062568187714,
           0.3124971389770508,
           0.0865262970328331,
           0.23376114666461945,
           0.15459270775318146,
           0.192477747797966,
           0.10263677686452866,
           0.29432737827301025,
           0.15621262788772583,
           0.27760130167007446,
           0.14281539618968964,
           0.16625691950321198,
           0.20222008228302002,
           0.2760765552520752,
           0.5230814814567566,
           0.11265911906957626,
           0.04673716053366661,
           0.19490398466587067,
           0.10875403136014938,
           0.1623198688030243,
           0.11915243417024612,
           0.18663088977336884,
           0.07847049087285995,
           0.12002673000097275,
           0.07361919432878494,
           0.31639668345451355,
           0.16342057287693024,
           0.08705432713031769,
           0.06819749623537064,
           0.10732840746641159,
           0.49536702036857605,
           0.3887195289134979,
           0.14824719727039337,
           0.10992520302534103,
           0.34021541476249695,
           0.2029009759426117,
           0.04174322262406349,
           0.23140695691108704,
           1.0000001192092896,
           0.24826101958751678,
           0.33563628792762756,
           0.5061084628105164,
           0.1485045850276947,
           0.1963484138250351,
           0.13077688217163086,
           0.10623732954263687,
           -0.004012811928987503,
           0.20359458029270172,
           0.14278104901313782,
           0.30356064438819885,
           0.07873034477233887,
           0.1741485446691513,
           0.08803119510412216,
           0.10487688332796097,
           0.2910783588886261,
           0.12838642299175262,
           0.2000218629837036,
           0.1717481166124344,
           0.48001107573509216,
           0.06893595308065414,
           0.13475152850151062
          ],
          [
           0.5439416170120239,
           0.599880576133728,
           0.3166147768497467,
           0.156987264752388,
           0.46858060359954834,
           0.3294008672237396,
           0.32906684279441833,
           0.3737158179283142,
           0.5625547170639038,
           0.30281001329421997,
           0.41411468386650085,
           0.7340123057365417,
           0.16714629530906677,
           0.08966710418462753,
           0.5185635685920715,
           0.484986811876297,
           0.16707506775856018,
           0.27949047088623047,
           0.1832204908132553,
           0.13773584365844727,
           0.20618927478790283,
           0.36500534415245056,
           0.09551666676998138,
           0.2342132031917572,
           0.4149768054485321,
           0.30771559476852417,
           0.2739764451980591,
           0.3981196880340576,
           0.37925028800964355,
           0.4205625355243683,
           0.25041481852531433,
           0.2464059293270111,
           0.48412615060806274,
           0.2882273495197296,
           0.5294660329818726,
           0.31922441720962524,
           0.2623891234397888,
           0.1430695354938507,
           0.35426998138427734,
           0.35692542791366577,
           0.10740464925765991,
           0.18790344893932343,
           0.249110147356987,
           0.17942874133586884,
           0.23814049363136292,
           0.4346296489238739,
           0.31014302372932434,
           0.2628999650478363,
           0.18644979596138,
           0.19075168669223785,
           0.4676337242126465,
           0.6002946496009827,
           0.203658327460289,
           0.22362147271633148,
           0.5063993334770203,
           0.26009583473205566,
           0.136832132935524,
           0.4346352517604828,
           0.24826101958751678,
           0.9999998807907104,
           0.49491578340530396,
           0.38133686780929565,
           0.3286170959472656,
           0.3240123689174652,
           0.230707585811615,
           0.09457439929246902,
           0.15979765355587006,
           0.2027159333229065,
           0.4432702660560608,
           0.25282323360443115,
           0.11620527505874634,
           0.3269205689430237,
           0.21648260951042175,
           0.09769555926322937,
           0.2694503366947174,
           0.21954964101314545,
           0.44630661606788635,
           0.2701582610607147,
           0.2978803515434265,
           0.24377977848052979,
           0.1363365799188614
          ],
          [
           0.4518736004829407,
           0.5463618040084839,
           0.285210520029068,
           0.1276630014181137,
           0.3717433214187622,
           0.4618437886238098,
           0.2519732117652893,
           0.3725864887237549,
           0.5542428493499756,
           0.22817018628120422,
           0.4036617875099182,
           0.45281097292900085,
           0.19937869906425476,
           0.08270302414894104,
           0.3705087900161743,
           0.4260523021221161,
           0.1730271875858307,
           0.2785583436489105,
           0.11900058388710022,
           0.1626201719045639,
           0.23266653716564178,
           0.4085640609264374,
           0.0982816219329834,
           0.2815244793891907,
           0.2924163341522217,
           0.23377476632595062,
           0.25739648938179016,
           0.41494056582450867,
           0.31363794207572937,
           0.34539365768432617,
           0.23837728798389435,
           0.2271909862756729,
           0.38455134630203247,
           0.19212029874324799,
           0.5039763450622559,
           0.27165403962135315,
           0.16986083984375,
           0.16133056581020355,
           0.2985883057117462,
           0.3831818401813507,
           0.10379835218191147,
           0.16003376245498657,
           0.2783481478691101,
           0.1382107138633728,
           0.19345130026340485,
           0.4033396542072296,
           0.27728813886642456,
           0.34680667519569397,
           0.07373550534248352,
           0.25889408588409424,
           0.35716038942337036,
           0.6295405626296997,
           0.23517343401908875,
           0.22194021940231323,
           0.4312775731086731,
           0.1466180384159088,
           0.08966164290904999,
           0.30923667550086975,
           0.33563628792762756,
           0.49491578340530396,
           1.0000001192092896,
           0.4210783839225769,
           0.34919098019599915,
           0.29898467659950256,
           0.023735543712973595,
           0.17793521285057068,
           0.2075100988149643,
           0.2753477394580841,
           0.37380245327949524,
           0.22043222188949585,
           0.09741152077913284,
           0.3337762653827667,
           0.20083346962928772,
           0.0957166999578476,
           0.245642751455307,
           0.2585119307041168,
           0.4306909143924713,
           0.26465627551078796,
           0.4861854016780853,
           0.21867072582244873,
           0.14342187345027924
          ],
          [
           0.33455464243888855,
           0.463912695646286,
           0.21776074171066284,
           0.011720365844666958,
           0.2505817711353302,
           0.27027398347854614,
           0.11129975318908691,
           0.2365143895149231,
           0.3246175944805145,
           0.15886546671390533,
           0.38514983654022217,
           0.45397549867630005,
           0.0976548045873642,
           0.14595280587673187,
           0.4141751825809479,
           0.4657820165157318,
           0.1520262360572815,
           0.09502239525318146,
           0.09252174943685532,
           0.1896611750125885,
           0.16138708591461182,
           0.17589138448238373,
           0.08556261658668518,
           0.2707154154777527,
           0.1294247806072235,
           0.15595808625221252,
           0.14159977436065674,
           0.2675137221813202,
           0.2412361353635788,
           0.31461799144744873,
           0.18043531477451324,
           0.14987090229988098,
           0.4541900157928467,
           0.16366936266422272,
           0.5608358383178711,
           0.13028018176555634,
           0.10076357424259186,
           0.05296332761645317,
           0.19502966105937958,
           0.24776799976825714,
           0.010464215651154518,
           0.22106331586837769,
           0.1283743679523468,
           0.08477147668600082,
           0.112819604575634,
           0.48280268907546997,
           0.16559362411499023,
           0.09702102839946747,
           0.07390663027763367,
           0.07418403029441833,
           0.4772639572620392,
           0.5686453580856323,
           0.1521696150302887,
           0.1560068428516388,
           0.4148639142513275,
           0.2118472307920456,
           0.06109650805592537,
           0.30886387825012207,
           0.5061084628105164,
           0.38133686780929565,
           0.4210783839225769,
           0.999999463558197,
           0.19285662472248077,
           0.20450761914253235,
           0.04910619556903839,
           -0.06333223730325699,
           0.13173756003379822,
           0.13433024287223816,
           0.2421766221523285,
           0.34866249561309814,
           0.04271279647946358,
           0.2339215725660324,
           0.0851418748497963,
           0.07787930220365524,
           0.25321337580680847,
           0.15249207615852356,
           0.3195074200630188,
           0.1333855539560318,
           0.5306599140167236,
           0.09329967945814133,
           0.09169676899909973
          ],
          [
           0.3669322729110718,
           0.2731581926345825,
           0.29336780309677124,
           0.2821100056171417,
           0.2926110327243805,
           0.45687925815582275,
           0.31822091341018677,
           0.3793819844722748,
           0.33231040835380554,
           0.2723984122276306,
           0.4249226450920105,
           0.37892571091651917,
           0.33700886368751526,
           0.3797488212585449,
           0.3955594301223755,
           0.33098655939102173,
           0.2371659278869629,
           0.2670268714427948,
           0.26205742359161377,
           0.1755165159702301,
           0.3366694450378418,
           0.4903987944126129,
           0.3081614673137665,
           0.49886393547058105,
           0.2624787390232086,
           0.1853211224079132,
           0.3008706867694855,
           0.43410980701446533,
           0.33722221851348877,
           0.20468798279762268,
           0.316339373588562,
           0.19121859967708588,
           0.7113697528839111,
           0.35872069001197815,
           0.3285989463329315,
           0.2541888952255249,
           0.21270699799060822,
           0.34612685441970825,
           0.11253181844949722,
           0.3258814215660095,
           0.08661886304616928,
           0.3326682448387146,
           0.7793328166007996,
           0.24046319723129272,
           0.20720072090625763,
           0.238295778632164,
           0.2176474928855896,
           0.24577364325523376,
           0.5199763774871826,
           0.23063541948795319,
           0.2486381083726883,
           0.3864184617996216,
           0.37485507130622864,
           0.16168312728405,
           0.2912895381450653,
           0.1616593897342682,
           0.13270342350006104,
           0.3278936445713043,
           0.1485045850276947,
           0.3286170959472656,
           0.34919098019599915,
           0.19285662472248077,
           1.000000238418579,
           0.15581168234348297,
           0.2402362823486328,
           0.20502358675003052,
           0.16959233582019806,
           0.29519036412239075,
           0.3954078257083893,
           0.2554677724838257,
           0.10411562025547028,
           0.219168022274971,
           0.2734689712524414,
           0.10961882770061493,
           0.19937105476856232,
           0.3337220251560211,
           0.17117257416248322,
           0.16300047934055328,
           0.275423526763916,
           0.11580730229616165,
           0.1820751577615738
          ],
          [
           0.35771024227142334,
           0.3141953647136688,
           0.3451845943927765,
           0.27022993564605713,
           0.3285770118236542,
           0.27913758158683777,
           0.2617499828338623,
           0.2821801006793976,
           0.3241730332374573,
           0.3509851396083832,
           0.2113010585308075,
           0.36960017681121826,
           0.20681928098201752,
           0.1579170525074005,
           0.32311978936195374,
           0.2538558840751648,
           0.23847994208335876,
           0.23826982080936432,
           0.2342992126941681,
           0.15937510132789612,
           0.2557418942451477,
           0.21370983123779297,
           0.12496844679117203,
           0.12924231588840485,
           0.3527759313583374,
           0.23522093892097473,
           0.24464482069015503,
           0.2720000147819519,
           0.3293966054916382,
           0.2219671905040741,
           0.16763979196548462,
           0.22012859582901,
           0.21987168490886688,
           0.15710796415805817,
           0.29094398021698,
           0.2693796753883362,
           0.25183942914009094,
           0.10667448490858078,
           0.20745249092578888,
           0.28269192576408386,
           0.16996952891349792,
           0.14241667091846466,
           0.17920289933681488,
           0.23962968587875366,
           0.20808473229408264,
           0.2599431574344635,
           0.2712193429470062,
           0.2379174679517746,
           0.11760853976011276,
           0.20087182521820068,
           0.37627238035202026,
           0.29971498250961304,
           0.20929491519927979,
           0.20258958637714386,
           0.34849798679351807,
           0.16295775771141052,
           0.16379515826702118,
           0.2642408311367035,
           0.1963484138250351,
           0.3240123689174652,
           0.29898467659950256,
           0.20450761914253235,
           0.15581168234348297,
           0.9999998807907104,
           0.21198610961437225,
           0.17166483402252197,
           0.3360885679721832,
           0.21017242968082428,
           0.2984048128128052,
           0.16344253718852997,
           0.15862074494361877,
           0.2283637523651123,
           0.29546627402305603,
           0.1421339511871338,
           0.27314746379852295,
           0.2448582500219345,
           0.27169933915138245,
           0.23547165095806122,
           0.22661598026752472,
           0.21668612957000732,
           0.23863884806632996
          ],
          [
           0.2203046977519989,
           0.1443205624818802,
           0.22125612199306488,
           0.30834001302719116,
           0.2479315549135208,
           0.2172909528017044,
           0.29695770144462585,
           0.25605300068855286,
           0.1736895740032196,
           0.4510047733783722,
           0.14284832775592804,
           0.2271641492843628,
           0.23862069845199585,
           0.13138049840927124,
           0.4435606300830841,
           0.17678454518318176,
           0.12363319098949432,
           0.2685827910900116,
           0.28085169196128845,
           0.1053677573800087,
           0.2392878383398056,
           0.23717539012432098,
           0.2272508144378662,
           0.1462942361831665,
           0.2807512581348419,
           0.19259530305862427,
           0.2955029010772705,
           0.2216096967458725,
           0.34702056646347046,
           0.16961465775966644,
           0.18790678679943085,
           0.18131572008132935,
           0.12640298902988434,
           0.2933799922466278,
           0.18187710642814636,
           0.1891818791627884,
           0.19271928071975708,
           0.18638697266578674,
           0.09440561383962631,
           0.22144876420497894,
           0.13539928197860718,
           0.2053699493408203,
           0.2537512183189392,
           0.23236282169818878,
           0.1626487523317337,
           0.14265108108520508,
           0.24230825901031494,
           0.18053431808948517,
           0.2648037374019623,
           0.1375340223312378,
           0.3036792576313019,
           0.14265817403793335,
           0.20790551602840424,
           0.16746164858341217,
           0.18152600526809692,
           0.06818494945764542,
           0.22990307211875916,
           0.21607880294322968,
           0.13077688217163086,
           0.230707585811615,
           0.023735543712973595,
           0.04910619556903839,
           0.2402362823486328,
           0.21198610961437225,
           0.9999996423721313,
           0.14502167701721191,
           0.17483128607273102,
           0.20500440895557404,
           0.20478515326976776,
           0.28469082713127136,
           0.1398923546075821,
           0.20347446203231812,
           0.29008233547210693,
           0.09975618869066238,
           0.24075745046138763,
           0.21971920132637024,
           0.13143344223499298,
           0.10831043869256973,
           0.13898056745529175,
           0.050034645944833755,
           0.1823485791683197
          ],
          [
           0.140304297208786,
           0.046323392540216446,
           0.2261425107717514,
           0.47308510541915894,
           0.10638905316591263,
           0.42919862270355225,
           0.2752191126346588,
           0.21286819875240326,
           0.24497295916080475,
           0.35241034626960754,
           0.17044475674629211,
           0.12451993674039841,
           0.26320740580558777,
           0.22204476594924927,
           0.16601979732513428,
           0.0734979510307312,
           0.21283988654613495,
           0.1344938427209854,
           0.2319372147321701,
           0.13421843945980072,
           0.11426045000553131,
           0.21163074672222137,
           0.1160506084561348,
           0.22109034657478333,
           0.31935569643974304,
           0.13404686748981476,
           0.10872131586074829,
           0.22510382533073425,
           0.2773280441761017,
           0.06207004189491272,
           0.15847912430763245,
           0.224726602435112,
           0.03261180222034454,
           0.24545852839946747,
           0.08332999795675278,
           0.11982180923223495,
           0.17143376171588898,
           0.13242633640766144,
           0.08509302884340286,
           0.35511064529418945,
           0.2931519150733948,
           0.02392253652215004,
           0.30665460228919983,
           0.2936272621154785,
           0.1795809417963028,
           0.10070478171110153,
           0.06650328636169434,
           0.10488308221101761,
           0.1418115794658661,
           0.5587299466133118,
           0.05747249722480774,
           0.06886949390172958,
           0.23986920714378357,
           0.10292250663042068,
           0.0960167869925499,
           0.05754316225647926,
           0.14359720051288605,
           0.11105411499738693,
           0.10623732954263687,
           0.09457439929246902,
           0.17793521285057068,
           -0.06333223730325699,
           0.20502358675003052,
           0.17166483402252197,
           0.14502167701721191,
           0.9999997615814209,
           0.153131365776062,
           0.3854638338088989,
           0.2069728672504425,
           0.10037413239479065,
           0.3442809581756592,
           0.20284290611743927,
           0.07376312464475632,
           0.15030309557914734,
           0.16893865168094635,
           0.1476619392633438,
           0.06891224533319473,
           0.12937310338020325,
           0.15473537147045135,
           0.11315775662660599,
           0.3176579773426056
          ],
          [
           0.1789487898349762,
           0.20460744202136993,
           0.4572974443435669,
           0.1498051881790161,
           0.2152726799249649,
           0.2238897979259491,
           0.1735348105430603,
           0.30469515919685364,
           0.21768811345100403,
           0.24691012501716614,
           0.15574698150157928,
           0.18500135838985443,
           0.23604939877986908,
           0.2060680389404297,
           0.18905533850193024,
           0.1956586092710495,
           0.2902109920978546,
           0.15021829307079315,
           0.1934027224779129,
           0.32617852091789246,
           0.2592906355857849,
           0.0686040073633194,
           0.11815278977155685,
           0.15217293798923492,
           0.36066684126853943,
           0.2577414810657501,
           0.1275085061788559,
           0.13145731389522552,
           0.31598925590515137,
           0.14743973314762115,
           0.34979718923568726,
           0.37058624625205994,
           0.11414440721273422,
           0.10931563377380371,
           0.10825276374816895,
           0.10897171497344971,
           0.37210848927497864,
           0.03596651181578636,
           0.21899355947971344,
           0.22904731333255768,
           0.21925005316734314,
           0.27525749802589417,
           0.1859949231147766,
           0.3118264377117157,
           0.41796955466270447,
           0.2908306121826172,
           0.15812931954860687,
           0.18239979445934296,
           0.1952899545431137,
           0.22489450871944427,
           0.22892041504383087,
           0.1267527937889099,
           0.2971953749656677,
           0.3516693711280823,
           0.3073441982269287,
           0.18082375824451447,
           0.3112335503101349,
           0.20738887786865234,
           -0.004012811928987503,
           0.15979765355587006,
           0.2075100988149643,
           0.13173756003379822,
           0.16959233582019806,
           0.3360885679721832,
           0.17483128607273102,
           0.153131365776062,
           0.9999997019767761,
           0.3689098358154297,
           0.2800075113773346,
           0.1240534633398056,
           0.13158926367759705,
           0.2522949278354645,
           0.13605280220508575,
           0.32219192385673523,
           0.19635488092899323,
           0.35909175872802734,
           0.27792850136756897,
           0.16348667442798615,
           0.17283952236175537,
           0.0792175754904747,
           0.2831370532512665
          ],
          [
           0.3185393512248993,
           0.2277003973722458,
           0.336047500371933,
           0.2838110029697418,
           0.19746683537960052,
           0.5555457472801208,
           0.4692992568016052,
           0.37790003418922424,
           0.4961611330509186,
           0.33133965730667114,
           0.2852005362510681,
           0.3016629219055176,
           0.3294546604156494,
           0.1795150190591812,
           0.2879084050655365,
           0.26899781823158264,
           0.23870033025741577,
           0.19571231305599213,
           0.2166922390460968,
           0.156174898147583,
           0.2056124210357666,
           0.2618987560272217,
           0.14770790934562683,
           0.2535541355609894,
           0.44640442728996277,
           0.2296026647090912,
           0.1771562695503235,
           0.2390262484550476,
           0.36982759833335876,
           0.19644930958747864,
           0.26935338973999023,
           0.31478023529052734,
           0.1416003555059433,
           0.2600371539592743,
           0.24725234508514404,
           0.17698797583580017,
           0.3209752142429352,
           0.18218453228473663,
           0.12207608669996262,
           0.3965461254119873,
           0.3055882155895233,
           0.1755090057849884,
           0.25899940729141235,
           0.23105181753635406,
           0.23145291209220886,
           0.23158010840415955,
           0.21168816089630127,
           0.156729593873024,
           0.16973267495632172,
           0.4368625283241272,
           0.1553361564874649,
           0.2938852310180664,
           0.2638641893863678,
           0.21600739657878876,
           0.27648061513900757,
           0.1463431566953659,
           0.22599871456623077,
           0.2585934102535248,
           0.20359458029270172,
           0.2027159333229065,
           0.2753477394580841,
           0.13433024287223816,
           0.29519036412239075,
           0.21017242968082428,
           0.20500440895557404,
           0.3854638338088989,
           0.3689098358154297,
           1.000000238418579,
           0.3583263158798218,
           0.193439781665802,
           0.15725046396255493,
           0.3744885325431824,
           0.16417257487773895,
           0.20300275087356567,
           0.20350006222724915,
           0.20613913238048553,
           0.1824670284986496,
           0.21342764794826508,
           0.16525793075561523,
           0.14172962307929993,
           0.32287755608558655
          ],
          [
           0.5332204103469849,
           0.44160425662994385,
           0.5113053321838379,
           0.28565123677253723,
           0.397732675075531,
           0.556637167930603,
           0.3940332531929016,
           0.44794556498527527,
           0.47626036405563354,
           0.29992353916168213,
           0.35002782940864563,
           0.6549516916275024,
           0.3795836567878723,
           0.18751588463783264,
           0.4674542546272278,
           0.4034886360168457,
           0.263139933347702,
           0.37513232231140137,
           0.2634897530078888,
           0.19461987912654877,
           0.4686131477355957,
           0.36474311351776123,
           0.3060166835784912,
           0.33518150448799133,
           0.5210403800010681,
           0.2854236960411072,
           0.35894662141799927,
           0.4483240842819214,
           0.4671877920627594,
           0.3368207514286041,
           0.3372081518173218,
           0.3333751857280731,
           0.38857823610305786,
           0.3545055687427521,
           0.3812807500362396,
           0.35507407784461975,
           0.29296985268592834,
           0.21185965836048126,
           0.28376808762550354,
           0.43017563223838806,
           0.0976758599281311,
           0.3491690158843994,
           0.4477372467517853,
           0.28826650977134705,
           0.35922470688819885,
           0.3344443142414093,
           0.25014808773994446,
           0.42025768756866455,
           0.2379835695028305,
           0.2646993100643158,
           0.3278495967388153,
           0.4711662530899048,
           0.3657975494861603,
           0.24472586810588837,
           0.5217725038528442,
           0.1662685126066208,
           0.15582849085330963,
           0.4724807143211365,
           0.14278104901313782,
           0.4432702660560608,
           0.37380245327949524,
           0.2421766221523285,
           0.3954078257083893,
           0.2984048128128052,
           0.20478515326976776,
           0.2069728672504425,
           0.2800075113773346,
           0.3583263158798218,
           1.000000238418579,
           0.2402183711528778,
           0.14059562981128693,
           0.2818966209888458,
           0.3434784412384033,
           0.23513653874397278,
           0.29262685775756836,
           0.35429760813713074,
           0.32589563727378845,
           0.2640257775783539,
           0.2991745173931122,
           0.2064046561717987,
           0.19853030145168304
          ],
          [
           0.2970769703388214,
           0.2151913046836853,
           0.19808563590049744,
           0.06703408807516098,
           0.19487223029136658,
           0.19039581716060638,
           0.1335318386554718,
           0.3125287592411041,
           0.19443199038505554,
           0.1524686962366104,
           0.5202469825744629,
           0.2918138802051544,
           0.22624751925468445,
           0.13612544536590576,
           0.6663301587104797,
           0.3555452227592468,
           0.1502816528081894,
           0.40964406728744507,
           0.10018208622932434,
           0.21928770840168,
           0.2612426280975342,
           0.30276039242744446,
           0.16202113032341003,
           0.33679986000061035,
           0.12373722344636917,
           0.14054538309574127,
           0.2467246651649475,
           0.4377868175506592,
           0.27259543538093567,
           0.16576817631721497,
           0.2535647451877594,
           0.20218543708324432,
           0.22146692872047424,
           0.46807432174682617,
           0.32883667945861816,
           0.14511828124523163,
           0.17948023974895477,
           0.27450326085090637,
           0.18604765832424164,
           0.17658394575119019,
           -0.003109028097242117,
           0.2916530668735504,
           0.210794597864151,
           0.14308197796344757,
           0.12418148666620255,
           0.2987673580646515,
           0.16590598225593567,
           0.28060078620910645,
           0.31503280997276306,
           0.11735983937978745,
           0.3884620666503906,
           0.29976996779441833,
           0.21845214068889618,
           0.17116445302963257,
           0.34903156757354736,
           0.18743030726909637,
           0.09733480960130692,
           0.20410054922103882,
           0.30356064438819885,
           0.25282323360443115,
           0.22043222188949585,
           0.34866249561309814,
           0.2554677724838257,
           0.16344253718852997,
           0.28469082713127136,
           0.10037413239479065,
           0.1240534633398056,
           0.193439781665802,
           0.2402183711528778,
           1.000000238418579,
           0.054078359156847,
           0.29308924078941345,
           0.1528196483850479,
           0.1297960877418518,
           0.14986658096313477,
           0.2867852747440338,
           0.16530410945415497,
           0.16625098884105682,
           0.365530788898468,
           0.06984670460224152,
           0.12709717452526093
          ],
          [
           0.1587626039981842,
           0.16885961592197418,
           0.22176530957221985,
           0.33463943004608154,
           0.1257081776857376,
           0.2733430862426758,
           0.21160922944545746,
           0.17655275762081146,
           0.18502256274223328,
           0.25629115104675293,
           0.12281212955713272,
           0.19220370054244995,
           0.14639116823673248,
           0.1950923204421997,
           0.16147933900356293,
           0.053368452936410904,
           0.17350544035434723,
           0.15188658237457275,
           0.16140468418598175,
           0.157526433467865,
           0.19314657151699066,
           0.07287762314081192,
           0.0914970189332962,
           0.17044758796691895,
           0.22715838253498077,
           0.11661332845687866,
           0.10372617095708847,
           0.10899733006954193,
           0.246887668967247,
           0.10957140475511551,
           0.09194430708885193,
           0.1356722116470337,
           0.06880272924900055,
           0.11079073697328568,
           0.04813127964735031,
           0.13499921560287476,
           0.15992799401283264,
           0.1121835708618164,
           0.06530699878931046,
           0.16549232602119446,
           0.41201257705688477,
           0.15656743943691254,
           0.19544784724712372,
           0.1694839745759964,
           0.14039765298366547,
           0.08634410053491592,
           0.07378167659044266,
           0.14145858585834503,
           0.09873140603303909,
           0.3611045181751251,
           0.09197626262903214,
           0.1262914538383484,
           0.12174569815397263,
           0.07587999105453491,
           0.26434090733528137,
           0.08541994541883469,
           0.14312103390693665,
           0.11982204020023346,
           0.07873034477233887,
           0.11620527505874634,
           0.09741152077913284,
           0.04271279647946358,
           0.10411562025547028,
           0.15862074494361877,
           0.1398923546075821,
           0.3442809581756592,
           0.13158926367759705,
           0.15725046396255493,
           0.14059562981128693,
           0.054078359156847,
           1,
           0.19476556777954102,
           0.11906509101390839,
           0.12909112870693207,
           0.14719994366168976,
           0.1156543716788292,
           0.12226665019989014,
           0.08962126076221466,
           0.14191338419914246,
           0.08737694472074509,
           0.4205288887023926
          ],
          [
           0.37645775079727173,
           0.27413204312324524,
           0.308032363653183,
           0.272586852312088,
           0.2810622453689575,
           0.36507388949394226,
           0.31223583221435547,
           0.3128834068775177,
           0.4416508078575134,
           0.3003975749015808,
           0.35352054238319397,
           0.34277763962745667,
           0.19168807566165924,
           0.22909273207187653,
           0.37950563430786133,
           0.2306039184331894,
           0.30488264560699463,
           0.21262289583683014,
           0.17635878920555115,
           0.3580515384674072,
           0.2457669973373413,
           0.3145795166492462,
           0.16848057508468628,
           0.320645272731781,
           0.3429117202758789,
           0.39419567584991455,
           0.2921474575996399,
           0.30411574244499207,
           0.47035741806030273,
           0.27969321608543396,
           0.3820377588272095,
           0.4417477250099182,
           0.18496835231781006,
           0.2563718855381012,
           0.2480311393737793,
           0.17332983016967773,
           0.2846423387527466,
           0.26387327909469604,
           0.37089377641677856,
           0.2991397976875305,
           0.14148545265197754,
           0.2533112168312073,
           0.23898915946483612,
           0.38113486766815186,
           0.3542479872703552,
           0.4589960277080536,
           0.2561264932155609,
           0.24088798463344574,
           0.24565546214580536,
           0.29619795083999634,
           0.19738371670246124,
           0.33507460355758667,
           0.2914578914642334,
           0.3851286470890045,
           0.358574777841568,
           0.3490303158760071,
           0.31893640756607056,
           0.2940285801887512,
           0.1741485446691513,
           0.3269205689430237,
           0.3337762653827667,
           0.2339215725660324,
           0.219168022274971,
           0.2283637523651123,
           0.20347446203231812,
           0.20284290611743927,
           0.2522949278354645,
           0.3744885325431824,
           0.2818966209888458,
           0.29308924078941345,
           0.19476556777954102,
           0.9999999403953552,
           0.2123131901025772,
           0.3379025161266327,
           0.20432867109775543,
           0.3761732280254364,
           0.3841831684112549,
           0.4034537374973297,
           0.3167122006416321,
           0.13059432804584503,
           0.21560297906398773
          ],
          [
           0.3661330044269562,
           0.21829083561897278,
           0.2771334648132324,
           0.24079205095767975,
           0.501289963722229,
           0.2814156115055084,
           0.44387906789779663,
           0.28982844948768616,
           0.27552881836891174,
           0.2663652002811432,
           0.20139598846435547,
           0.2686295509338379,
           0.24292214214801788,
           0.16110169887542725,
           0.2635897994041443,
           0.18690185248851776,
           0.2525206506252289,
           0.3053370714187622,
           0.2501327693462372,
           0.17172428965568542,
           0.41760504245758057,
           0.3224528133869171,
           0.29808640480041504,
           0.21326176822185516,
           0.23996509611606598,
           0.3291754126548767,
           0.7344963550567627,
           0.22338765859603882,
           0.3234761655330658,
           0.23823079466819763,
           0.208612322807312,
           0.25276607275009155,
           0.1946156620979309,
           0.17426961660385132,
           0.1495199203491211,
           0.5925613045692444,
           0.2573533356189728,
           0.213967964053154,
           0.321210652589798,
           0.2322782725095749,
           0.1598397195339203,
           0.3091135025024414,
           0.3131242096424103,
           0.22176212072372437,
           0.19562050700187683,
           0.19241103529930115,
           0.5946691036224365,
           0.3434542417526245,
           0.2529776692390442,
           0.12619400024414062,
           0.2187505066394806,
           0.17886653542518616,
           0.21709729731082916,
           0.2662360370159149,
           0.31183183193206787,
           0.1747114509344101,
           0.2396000176668167,
           0.16749615967273712,
           0.08803119510412216,
           0.21648260951042175,
           0.20083346962928772,
           0.0851418748497963,
           0.2734689712524414,
           0.29546627402305603,
           0.29008233547210693,
           0.07376312464475632,
           0.13605280220508575,
           0.16417257487773895,
           0.3434784412384033,
           0.1528196483850479,
           0.11906509101390839,
           0.2123131901025772,
           1,
           0.1724032163619995,
           0.22587046027183533,
           0.3656129837036133,
           0.18573716282844543,
           0.2344396859407425,
           0.23092179000377655,
           0.2619554400444031,
           0.20109125971794128
          ],
          [
           0.24537427723407745,
           0.10489494353532791,
           0.16664882004261017,
           0.11518070846796036,
           0.2787415087223053,
           0.24948973953723907,
           0.17912714183330536,
           0.22992944717407227,
           0.19484004378318787,
           0.07614842057228088,
           0.10557878762483597,
           0.12454186379909515,
           0.09989085048437119,
           0.07749024778604507,
           0.1958499401807785,
           0.1598244607448578,
           0.6033748984336853,
           0.10953287035226822,
           0.13730666041374207,
           0.6012443900108337,
           0.12567253410816193,
           0.167109414935112,
           0.06282857060432434,
           0.08179011195898056,
           0.2095312476158142,
           0.680227518081665,
           0.1514797955751419,
           0.1387379914522171,
           0.13709740340709686,
           0.12943613529205322,
           0.7372322082519531,
           0.8663104176521301,
           0.05791758373379707,
           0.1092338040471077,
           0.10806203633546829,
           0.16539934277534485,
           0.43480947613716125,
           0.06626877933740616,
           0.6230623722076416,
           0.31336700916290283,
           0.21008086204528809,
           0.1909741908311844,
           0.08761556446552277,
           0.7264260649681091,
           0.6916949152946472,
           0.7417837977409363,
           0.23507268726825714,
           0.15207535028457642,
           0.11545610427856445,
           0.1465921401977539,
           0.21777863800525665,
           0.09213415533304214,
           0.14321385324001312,
           0.7577205896377563,
           0.126093327999115,
           0.4396497905254364,
           0.581212043762207,
           0.13174434006214142,
           0.10487688332796097,
           0.09769555926322937,
           0.0957166999578476,
           0.07787930220365524,
           0.10961882770061493,
           0.1421339511871338,
           0.09975618869066238,
           0.15030309557914734,
           0.32219192385673523,
           0.20300275087356567,
           0.23513653874397278,
           0.1297960877418518,
           0.12909112870693207,
           0.3379025161266327,
           0.1724032163619995,
           1,
           0.1282128244638443,
           0.6268244981765747,
           0.5911188721656799,
           0.6676210761070251,
           0.04706490784883499,
           0.14865818619728088,
           0.2491309493780136
          ],
          [
           0.30918076634407043,
           0.36419495940208435,
           0.41778111457824707,
           0.37522268295288086,
           0.234128937125206,
           0.29886284470558167,
           0.22799809277057648,
           0.4849247336387634,
           0.31576234102249146,
           0.3487275242805481,
           0.2589370310306549,
           0.436813086271286,
           0.27944839000701904,
           0.1850770264863968,
           0.3271675109863281,
           0.36359721422195435,
           0.22905629873275757,
           0.3265792429447174,
           0.4258401095867157,
           0.2016441524028778,
           0.3988018035888672,
           0.2184978425502777,
           0.312971293926239,
           0.22950692474842072,
           0.4918539524078369,
           0.22559289634227753,
           0.20936761796474457,
           0.1782366931438446,
           0.36507242918014526,
           0.3276822865009308,
           0.32225966453552246,
           0.2458973228931427,
           0.2951670289039612,
           0.25932368636131287,
           0.43363043665885925,
           0.24987411499023438,
           0.3318331837654114,
           0.22616656124591827,
           0.28490394353866577,
           0.2546587884426117,
           0.155207559466362,
           0.3577765226364136,
           0.268684446811676,
           0.3506547510623932,
           0.2909446954727173,
           0.2983371615409851,
           0.19935570657253265,
           0.369917631149292,
           0.23271578550338745,
           0.2112324833869934,
           0.33503246307373047,
           0.32091858983039856,
           0.2845919132232666,
           0.28450724482536316,
           0.37493181228637695,
           0.1709911823272705,
           0.2779935896396637,
           0.38048452138900757,
           0.2910783588886261,
           0.2694503366947174,
           0.245642751455307,
           0.25321337580680847,
           0.19937105476856232,
           0.27314746379852295,
           0.24075745046138763,
           0.16893865168094635,
           0.19635488092899323,
           0.20350006222724915,
           0.29262685775756836,
           0.14986658096313477,
           0.14719994366168976,
           0.20432867109775543,
           0.22587046027183533,
           0.1282128244638443,
           1.0000007152557373,
           0.36196476221084595,
           0.29788100719451904,
           0.15481328964233398,
           0.3808813989162445,
           0.06799168884754181,
           0.24131476879119873
          ],
          [
           0.34949442744255066,
           0.31487008929252625,
           0.35547730326652527,
           0.2965303063392639,
           0.39247846603393555,
           0.3191213607788086,
           0.19583190977573395,
           0.423016756772995,
           0.23355284333229065,
           0.2389908730983734,
           0.2754325568675995,
           0.2749378979206085,
           0.4362931549549103,
           0.325834721326828,
           0.34298408031463623,
           0.3059235215187073,
           0.5684736371040344,
           0.4503003656864166,
           0.31060540676116943,
           0.5885254144668579,
           0.44494056701660156,
           0.2406904250383377,
           0.21944929659366608,
           0.20588921010494232,
           0.30275413393974304,
           0.6110994219779968,
           0.3765675127506256,
           0.24139246344566345,
           0.33337345719337463,
           0.22438593208789825,
           0.7441179156303406,
           0.7183217406272888,
           0.2725899815559387,
           0.3526870310306549,
           0.21865350008010864,
           0.2720954120159149,
           0.48736193776130676,
           0.23499570786952972,
           0.6467760801315308,
           0.3099897503852844,
           0.12197033315896988,
           0.4190341532230377,
           0.29661089181900024,
           0.746012270450592,
           0.7008203268051147,
           0.6738005876541138,
           0.34735816717147827,
           0.48031142354011536,
           0.45268040895462036,
           0.21957901120185852,
           0.35912126302719116,
           0.24127379059791565,
           0.2567675709724426,
           0.7154898643493652,
           0.282725065946579,
           0.43690380454063416,
           0.5191386342048645,
           0.28781455755233765,
           0.12838642299175262,
           0.21954964101314545,
           0.2585119307041168,
           0.15249207615852356,
           0.3337220251560211,
           0.2448582500219345,
           0.21971920132637024,
           0.1476619392633438,
           0.35909175872802734,
           0.20613913238048553,
           0.35429760813713074,
           0.2867852747440338,
           0.1156543716788292,
           0.3761732280254364,
           0.3656129837036133,
           0.6268244981765747,
           0.36196476221084595,
           1.0000003576278687,
           0.6283877491950989,
           0.5741329789161682,
           0.2756154537200928,
           0.13653706014156342,
           0.18695566058158875
          ],
          [
           0.4778539538383484,
           0.7286930084228516,
           0.33920153975486755,
           0.12560389935970306,
           0.4043859541416168,
           0.2735751271247864,
           0.18261174857616425,
           0.2807687819004059,
           0.4508514404296875,
           0.19276824593544006,
           0.24280427396297455,
           0.48352348804473877,
           0.17096374928951263,
           0.08875801414251328,
           0.36392396688461304,
           0.452188640832901,
           0.5009435415267944,
           0.2631983160972595,
           0.104189932346344,
           0.5466694831848145,
           0.249699205160141,
           0.23275764286518097,
           0.05929523706436157,
           0.18047630786895752,
           0.32116442918777466,
           0.6245594620704651,
           0.20787349343299866,
           0.224925234913826,
           0.30877697467803955,
           0.36978474259376526,
           0.6473332643508911,
           0.7050918340682983,
           0.36092886328697205,
           0.16276022791862488,
           0.29220089316368103,
           0.24616308510303497,
           0.36585554480552673,
           0.10866199433803558,
           0.729497492313385,
           0.33897238969802856,
           0.11111686378717422,
           0.2380824089050293,
           0.14667339622974396,
           0.5821106433868408,
           0.6678470373153687,
           0.7985160946846008,
           0.3426211476325989,
           0.3620940148830414,
           0.18851232528686523,
           0.13384069502353668,
           0.39700692892074585,
           0.41936472058296204,
           0.18817299604415894,
           0.6736558675765991,
           0.397617369890213,
           0.48292553424835205,
           0.3779321312904358,
           0.3802680969238281,
           0.2000218629837036,
           0.44630661606788635,
           0.4306909143924713,
           0.3195074200630188,
           0.17117257416248322,
           0.27169933915138245,
           0.13143344223499298,
           0.06891224533319473,
           0.27792850136756897,
           0.1824670284986496,
           0.32589563727378845,
           0.16530410945415497,
           0.12226665019989014,
           0.3841831684112549,
           0.18573716282844543,
           0.5911188721656799,
           0.29788100719451904,
           0.6283877491950989,
           0.9999997615814209,
           0.6301161646842957,
           0.17233261466026306,
           0.2743414640426636,
           0.09259995818138123
          ],
          [
           0.5951499938964844,
           0.25237998366355896,
           0.24335861206054688,
           0.1207965686917305,
           0.35397499799728394,
           0.2707562744617462,
           0.29853469133377075,
           0.23105646669864655,
           0.3564791977405548,
           0.11943216621875763,
           0.17501291632652283,
           0.2565334439277649,
           0.05791694298386574,
           0.08210772275924683,
           0.3034560978412628,
           0.28233784437179565,
           0.4976285398006439,
           0.19210660457611084,
           0.13268227875232697,
           0.5169154405593872,
           0.15919455885887146,
           0.27379950881004333,
           0.03248723968863487,
           0.11939296126365662,
           0.21854886412620544,
           0.7387173175811768,
           0.2193720042705536,
           0.2657245397567749,
           0.22065015137195587,
           0.33384978771209717,
           0.6363458037376404,
           0.745769739151001,
           0.1765248328447342,
           0.16159066557884216,
           0.22274760901927948,
           0.30807092785835266,
           0.36030974984169006,
           0.2048371434211731,
           0.6574402451515198,
           0.26871174573898315,
           0.10649134963750839,
           0.16848407685756683,
           0.13117709755897522,
           0.628052830696106,
           0.6223337650299072,
           0.688285768032074,
           0.29768630862236023,
           0.23002111911773682,
           0.14096689224243164,
           0.13286477327346802,
           0.3173425793647766,
           0.21740473806858063,
           0.19173121452331543,
           0.6560178399085999,
           0.2886981964111328,
           0.6472344994544983,
           0.44327232241630554,
           0.2057209461927414,
           0.1717481166124344,
           0.2701582610607147,
           0.26465627551078796,
           0.1333855539560318,
           0.16300047934055328,
           0.23547165095806122,
           0.10831043869256973,
           0.12937310338020325,
           0.16348667442798615,
           0.21342764794826508,
           0.2640257775783539,
           0.16625098884105682,
           0.08962126076221466,
           0.4034537374973297,
           0.2344396859407425,
           0.6676210761070251,
           0.15481328964233398,
           0.5741329789161682,
           0.6301161646842957,
           1.0000007152557373,
           0.18262888491153717,
           0.2522048056125641,
           0.10297483950853348
          ],
          [
           0.2849757671356201,
           0.29967230558395386,
           0.2777925133705139,
           0.20518043637275696,
           0.22529137134552002,
           0.33160755038261414,
           0.18314270675182343,
           0.39739829301834106,
           0.23958314955234528,
           0.28990209102630615,
           0.37716445326805115,
           0.3704042136669159,
           0.18312771618366241,
           0.271899938583374,
           0.418335884809494,
           0.35651451349258423,
           0.2059383988380432,
           0.28196027874946594,
           0.24017876386642456,
           0.1945415586233139,
           0.3032688796520233,
           0.23118998110294342,
           0.22670763731002808,
           0.3057315945625305,
           0.2343599647283554,
           0.19196535646915436,
           0.27321580052375793,
           0.41511091589927673,
           0.32545050978660583,
           0.24564369022846222,
           0.2455567717552185,
           0.1932544857263565,
           0.3057134747505188,
           0.292900949716568,
           0.6139723658561707,
           0.2185184359550476,
           0.1790909469127655,
           0.22766537964344025,
           0.2416302114725113,
           0.1880907118320465,
           0.0703185498714447,
           0.3730061948299408,
           0.28082627058029175,
           0.2164665311574936,
           0.15089814364910126,
           0.3362760543823242,
           0.2006296068429947,
           0.2031857818365097,
           0.18712517619132996,
           0.14267498254776,
           0.3971274793148041,
           0.421132355928421,
           0.278062641620636,
           0.1873721033334732,
           0.4629532992839813,
           0.1826033890247345,
           0.17892296612262726,
           0.2899077236652374,
           0.48001107573509216,
           0.2978803515434265,
           0.4861854016780853,
           0.5306599140167236,
           0.275423526763916,
           0.22661598026752472,
           0.13898056745529175,
           0.15473537147045135,
           0.17283952236175537,
           0.16525793075561523,
           0.2991745173931122,
           0.365530788898468,
           0.14191338419914246,
           0.3167122006416321,
           0.23092179000377655,
           0.04706490784883499,
           0.3808813989162445,
           0.2756154537200928,
           0.17233261466026306,
           0.18262888491153717,
           1.0000003576278687,
           0.08551665395498276,
           0.12669405341148376
          ],
          [
           0.34002685546875,
           0.30885782837867737,
           0.19222493469715118,
           0.07060539722442627,
           0.4569357931613922,
           0.17346571385860443,
           0.5165663361549377,
           0.11423458158969879,
           0.35737767815589905,
           0.1005643978714943,
           0.15917395055294037,
           0.15273074805736542,
           0.07734539359807968,
           0.10870253294706345,
           0.16557665169239044,
           0.1974688023328781,
           0.13492444157600403,
           0.13863268494606018,
           0.02823745459318161,
           0.1081378310918808,
           0.06131744012236595,
           0.21229985356330872,
           -0.04533519223332405,
           0.14031636714935303,
           0.17117807269096375,
           0.4798129200935364,
           0.15090838074684143,
           0.14041921496391296,
           0.19216124713420868,
           0.3308184742927551,
           0.1410549283027649,
           0.2256522923707962,
           0.13645483553409576,
           0.03266263008117676,
           0.10271867364645004,
           0.5345238447189331,
           0.18641668558120728,
           0.04491007700562477,
           0.4033246338367462,
           0.19139085710048676,
           0.060764510184526443,
           0.11419935524463654,
           0.09050051867961884,
           0.13057348132133484,
           0.1734084188938141,
           0.2073923945426941,
           0.40693771839141846,
           0.301664263010025,
           0.08231806755065918,
           0.1795307844877243,
           0.1111288070678711,
           0.14352309703826904,
           0.07624442875385284,
           0.21927207708358765,
           0.20275337994098663,
           0.15396161377429962,
           0.09876304119825363,
           0.09062860906124115,
           0.06893595308065414,
           0.24377977848052979,
           0.21867072582244873,
           0.09329967945814133,
           0.11580730229616165,
           0.21668612957000732,
           0.050034645944833755,
           0.11315775662660599,
           0.0792175754904747,
           0.14172962307929993,
           0.2064046561717987,
           0.06984670460224152,
           0.08737694472074509,
           0.13059432804584503,
           0.2619554400444031,
           0.14865818619728088,
           0.06799168884754181,
           0.13653706014156342,
           0.2743414640426636,
           0.2522048056125641,
           0.08551665395498276,
           0.9999998807907104,
           0.04678797349333763
          ],
          [
           0.2209862470626831,
           0.12646953761577606,
           0.24404095113277435,
           0.3861899971961975,
           0.202399343252182,
           0.3637922406196594,
           0.16229133307933807,
           0.2551548480987549,
           0.21531157195568085,
           0.3026663362979889,
           0.16225990653038025,
           0.17871016263961792,
           0.2253911793231964,
           0.2262061983346939,
           0.19320142269134521,
           0.11220336705446243,
           0.2300848513841629,
           0.2785925269126892,
           0.28348541259765625,
           0.16300135850906372,
           0.23891083896160126,
           0.1910778433084488,
           0.17811205983161926,
           0.15022514760494232,
           0.2988518476486206,
           0.09440891444683075,
           0.22381816804409027,
           0.15483562648296356,
           0.2980455458164215,
           0.117732472717762,
           0.17808270454406738,
           0.19713403284549713,
           0.06592921912670135,
           0.1960047483444214,
           0.17361845076084137,
           0.10443627834320068,
           0.24865706264972687,
           0.14368119835853577,
           0.1071183905005455,
           0.24479611217975616,
           0.5271692276000977,
           0.17536237835884094,
           0.256624311208725,
           0.2336641252040863,
           0.1533374786376953,
           0.1376974880695343,
           0.10524974018335342,
           0.23337146639823914,
           0.20330242812633514,
           0.4929448664188385,
           0.17719118297100067,
           0.12536315619945526,
           0.26162397861480713,
           0.19113990664482117,
           0.1586882770061493,
           0.13074781000614166,
           0.2119615077972412,
           0.11642590165138245,
           0.13475152850151062,
           0.1363365799188614,
           0.14342187345027924,
           0.09169676899909973,
           0.1820751577615738,
           0.23863884806632996,
           0.1823485791683197,
           0.3176579773426056,
           0.2831370532512665,
           0.32287755608558655,
           0.19853030145168304,
           0.12709717452526093,
           0.4205288887023926,
           0.21560297906398773,
           0.20109125971794128,
           0.2491309493780136,
           0.24131476879119873,
           0.18695566058158875,
           0.09259995818138123,
           0.10297483950853348,
           0.12669405341148376,
           0.04678797349333763,
           1.0000001192092896
          ]
         ]
        }
       ],
       "layout": {
        "coloraxis": {
         "colorbar": {
          "title": {
           "text": "Similarity Score"
          }
         },
         "colorscale": [
          [
           0,
           "rgb(247,252,240)"
          ],
          [
           0.125,
           "rgb(224,243,219)"
          ],
          [
           0.25,
           "rgb(204,235,197)"
          ],
          [
           0.375,
           "rgb(168,221,181)"
          ],
          [
           0.5,
           "rgb(123,204,196)"
          ],
          [
           0.625,
           "rgb(78,179,211)"
          ],
          [
           0.75,
           "rgb(43,140,190)"
          ],
          [
           0.875,
           "rgb(8,104,172)"
          ],
          [
           1,
           "rgb(8,64,129)"
          ]
         ]
        },
        "height": 800,
        "hoverlabel": {
         "bgcolor": "white",
         "font": {
          "family": "Rockwell",
          "size": 16
         }
        },
        "legend": {
         "title": {
          "text": "Trend"
         }
        },
        "margin": {
         "t": 60
        },
        "showlegend": true,
        "template": {
         "data": {
          "bar": [
           {
            "error_x": {
             "color": "#2a3f5f"
            },
            "error_y": {
             "color": "#2a3f5f"
            },
            "marker": {
             "line": {
              "color": "#E5ECF6",
              "width": 0.5
             },
             "pattern": {
              "fillmode": "overlay",
              "size": 10,
              "solidity": 0.2
             }
            },
            "type": "bar"
           }
          ],
          "barpolar": [
           {
            "marker": {
             "line": {
              "color": "#E5ECF6",
              "width": 0.5
             },
             "pattern": {
              "fillmode": "overlay",
              "size": 10,
              "solidity": 0.2
             }
            },
            "type": "barpolar"
           }
          ],
          "carpet": [
           {
            "aaxis": {
             "endlinecolor": "#2a3f5f",
             "gridcolor": "white",
             "linecolor": "white",
             "minorgridcolor": "white",
             "startlinecolor": "#2a3f5f"
            },
            "baxis": {
             "endlinecolor": "#2a3f5f",
             "gridcolor": "white",
             "linecolor": "white",
             "minorgridcolor": "white",
             "startlinecolor": "#2a3f5f"
            },
            "type": "carpet"
           }
          ],
          "choropleth": [
           {
            "colorbar": {
             "outlinewidth": 0,
             "ticks": ""
            },
            "type": "choropleth"
           }
          ],
          "contour": [
           {
            "colorbar": {
             "outlinewidth": 0,
             "ticks": ""
            },
            "colorscale": [
             [
              0,
              "#0d0887"
             ],
             [
              0.1111111111111111,
              "#46039f"
             ],
             [
              0.2222222222222222,
              "#7201a8"
             ],
             [
              0.3333333333333333,
              "#9c179e"
             ],
             [
              0.4444444444444444,
              "#bd3786"
             ],
             [
              0.5555555555555556,
              "#d8576b"
             ],
             [
              0.6666666666666666,
              "#ed7953"
             ],
             [
              0.7777777777777778,
              "#fb9f3a"
             ],
             [
              0.8888888888888888,
              "#fdca26"
             ],
             [
              1,
              "#f0f921"
             ]
            ],
            "type": "contour"
           }
          ],
          "contourcarpet": [
           {
            "colorbar": {
             "outlinewidth": 0,
             "ticks": ""
            },
            "type": "contourcarpet"
           }
          ],
          "heatmap": [
           {
            "colorbar": {
             "outlinewidth": 0,
             "ticks": ""
            },
            "colorscale": [
             [
              0,
              "#0d0887"
             ],
             [
              0.1111111111111111,
              "#46039f"
             ],
             [
              0.2222222222222222,
              "#7201a8"
             ],
             [
              0.3333333333333333,
              "#9c179e"
             ],
             [
              0.4444444444444444,
              "#bd3786"
             ],
             [
              0.5555555555555556,
              "#d8576b"
             ],
             [
              0.6666666666666666,
              "#ed7953"
             ],
             [
              0.7777777777777778,
              "#fb9f3a"
             ],
             [
              0.8888888888888888,
              "#fdca26"
             ],
             [
              1,
              "#f0f921"
             ]
            ],
            "type": "heatmap"
           }
          ],
          "heatmapgl": [
           {
            "colorbar": {
             "outlinewidth": 0,
             "ticks": ""
            },
            "colorscale": [
             [
              0,
              "#0d0887"
             ],
             [
              0.1111111111111111,
              "#46039f"
             ],
             [
              0.2222222222222222,
              "#7201a8"
             ],
             [
              0.3333333333333333,
              "#9c179e"
             ],
             [
              0.4444444444444444,
              "#bd3786"
             ],
             [
              0.5555555555555556,
              "#d8576b"
             ],
             [
              0.6666666666666666,
              "#ed7953"
             ],
             [
              0.7777777777777778,
              "#fb9f3a"
             ],
             [
              0.8888888888888888,
              "#fdca26"
             ],
             [
              1,
              "#f0f921"
             ]
            ],
            "type": "heatmapgl"
           }
          ],
          "histogram": [
           {
            "marker": {
             "pattern": {
              "fillmode": "overlay",
              "size": 10,
              "solidity": 0.2
             }
            },
            "type": "histogram"
           }
          ],
          "histogram2d": [
           {
            "colorbar": {
             "outlinewidth": 0,
             "ticks": ""
            },
            "colorscale": [
             [
              0,
              "#0d0887"
             ],
             [
              0.1111111111111111,
              "#46039f"
             ],
             [
              0.2222222222222222,
              "#7201a8"
             ],
             [
              0.3333333333333333,
              "#9c179e"
             ],
             [
              0.4444444444444444,
              "#bd3786"
             ],
             [
              0.5555555555555556,
              "#d8576b"
             ],
             [
              0.6666666666666666,
              "#ed7953"
             ],
             [
              0.7777777777777778,
              "#fb9f3a"
             ],
             [
              0.8888888888888888,
              "#fdca26"
             ],
             [
              1,
              "#f0f921"
             ]
            ],
            "type": "histogram2d"
           }
          ],
          "histogram2dcontour": [
           {
            "colorbar": {
             "outlinewidth": 0,
             "ticks": ""
            },
            "colorscale": [
             [
              0,
              "#0d0887"
             ],
             [
              0.1111111111111111,
              "#46039f"
             ],
             [
              0.2222222222222222,
              "#7201a8"
             ],
             [
              0.3333333333333333,
              "#9c179e"
             ],
             [
              0.4444444444444444,
              "#bd3786"
             ],
             [
              0.5555555555555556,
              "#d8576b"
             ],
             [
              0.6666666666666666,
              "#ed7953"
             ],
             [
              0.7777777777777778,
              "#fb9f3a"
             ],
             [
              0.8888888888888888,
              "#fdca26"
             ],
             [
              1,
              "#f0f921"
             ]
            ],
            "type": "histogram2dcontour"
           }
          ],
          "mesh3d": [
           {
            "colorbar": {
             "outlinewidth": 0,
             "ticks": ""
            },
            "type": "mesh3d"
           }
          ],
          "parcoords": [
           {
            "line": {
             "colorbar": {
              "outlinewidth": 0,
              "ticks": ""
             }
            },
            "type": "parcoords"
           }
          ],
          "pie": [
           {
            "automargin": true,
            "type": "pie"
           }
          ],
          "scatter": [
           {
            "fillpattern": {
             "fillmode": "overlay",
             "size": 10,
             "solidity": 0.2
            },
            "type": "scatter"
           }
          ],
          "scatter3d": [
           {
            "line": {
             "colorbar": {
              "outlinewidth": 0,
              "ticks": ""
             }
            },
            "marker": {
             "colorbar": {
              "outlinewidth": 0,
              "ticks": ""
             }
            },
            "type": "scatter3d"
           }
          ],
          "scattercarpet": [
           {
            "marker": {
             "colorbar": {
              "outlinewidth": 0,
              "ticks": ""
             }
            },
            "type": "scattercarpet"
           }
          ],
          "scattergeo": [
           {
            "marker": {
             "colorbar": {
              "outlinewidth": 0,
              "ticks": ""
             }
            },
            "type": "scattergeo"
           }
          ],
          "scattergl": [
           {
            "marker": {
             "colorbar": {
              "outlinewidth": 0,
              "ticks": ""
             }
            },
            "type": "scattergl"
           }
          ],
          "scattermapbox": [
           {
            "marker": {
             "colorbar": {
              "outlinewidth": 0,
              "ticks": ""
             }
            },
            "type": "scattermapbox"
           }
          ],
          "scatterpolar": [
           {
            "marker": {
             "colorbar": {
              "outlinewidth": 0,
              "ticks": ""
             }
            },
            "type": "scatterpolar"
           }
          ],
          "scatterpolargl": [
           {
            "marker": {
             "colorbar": {
              "outlinewidth": 0,
              "ticks": ""
             }
            },
            "type": "scatterpolargl"
           }
          ],
          "scatterternary": [
           {
            "marker": {
             "colorbar": {
              "outlinewidth": 0,
              "ticks": ""
             }
            },
            "type": "scatterternary"
           }
          ],
          "surface": [
           {
            "colorbar": {
             "outlinewidth": 0,
             "ticks": ""
            },
            "colorscale": [
             [
              0,
              "#0d0887"
             ],
             [
              0.1111111111111111,
              "#46039f"
             ],
             [
              0.2222222222222222,
              "#7201a8"
             ],
             [
              0.3333333333333333,
              "#9c179e"
             ],
             [
              0.4444444444444444,
              "#bd3786"
             ],
             [
              0.5555555555555556,
              "#d8576b"
             ],
             [
              0.6666666666666666,
              "#ed7953"
             ],
             [
              0.7777777777777778,
              "#fb9f3a"
             ],
             [
              0.8888888888888888,
              "#fdca26"
             ],
             [
              1,
              "#f0f921"
             ]
            ],
            "type": "surface"
           }
          ],
          "table": [
           {
            "cells": {
             "fill": {
              "color": "#EBF0F8"
             },
             "line": {
              "color": "white"
             }
            },
            "header": {
             "fill": {
              "color": "#C8D4E3"
             },
             "line": {
              "color": "white"
             }
            },
            "type": "table"
           }
          ]
         },
         "layout": {
          "annotationdefaults": {
           "arrowcolor": "#2a3f5f",
           "arrowhead": 0,
           "arrowwidth": 1
          },
          "autotypenumbers": "strict",
          "coloraxis": {
           "colorbar": {
            "outlinewidth": 0,
            "ticks": ""
           }
          },
          "colorscale": {
           "diverging": [
            [
             0,
             "#8e0152"
            ],
            [
             0.1,
             "#c51b7d"
            ],
            [
             0.2,
             "#de77ae"
            ],
            [
             0.3,
             "#f1b6da"
            ],
            [
             0.4,
             "#fde0ef"
            ],
            [
             0.5,
             "#f7f7f7"
            ],
            [
             0.6,
             "#e6f5d0"
            ],
            [
             0.7,
             "#b8e186"
            ],
            [
             0.8,
             "#7fbc41"
            ],
            [
             0.9,
             "#4d9221"
            ],
            [
             1,
             "#276419"
            ]
           ],
           "sequential": [
            [
             0,
             "#0d0887"
            ],
            [
             0.1111111111111111,
             "#46039f"
            ],
            [
             0.2222222222222222,
             "#7201a8"
            ],
            [
             0.3333333333333333,
             "#9c179e"
            ],
            [
             0.4444444444444444,
             "#bd3786"
            ],
            [
             0.5555555555555556,
             "#d8576b"
            ],
            [
             0.6666666666666666,
             "#ed7953"
            ],
            [
             0.7777777777777778,
             "#fb9f3a"
            ],
            [
             0.8888888888888888,
             "#fdca26"
            ],
            [
             1,
             "#f0f921"
            ]
           ],
           "sequentialminus": [
            [
             0,
             "#0d0887"
            ],
            [
             0.1111111111111111,
             "#46039f"
            ],
            [
             0.2222222222222222,
             "#7201a8"
            ],
            [
             0.3333333333333333,
             "#9c179e"
            ],
            [
             0.4444444444444444,
             "#bd3786"
            ],
            [
             0.5555555555555556,
             "#d8576b"
            ],
            [
             0.6666666666666666,
             "#ed7953"
            ],
            [
             0.7777777777777778,
             "#fb9f3a"
            ],
            [
             0.8888888888888888,
             "#fdca26"
            ],
            [
             1,
             "#f0f921"
            ]
           ]
          },
          "colorway": [
           "#636efa",
           "#EF553B",
           "#00cc96",
           "#ab63fa",
           "#FFA15A",
           "#19d3f3",
           "#FF6692",
           "#B6E880",
           "#FF97FF",
           "#FECB52"
          ],
          "font": {
           "color": "#2a3f5f"
          },
          "geo": {
           "bgcolor": "white",
           "lakecolor": "white",
           "landcolor": "#E5ECF6",
           "showlakes": true,
           "showland": true,
           "subunitcolor": "white"
          },
          "hoverlabel": {
           "align": "left"
          },
          "hovermode": "closest",
          "mapbox": {
           "style": "light"
          },
          "paper_bgcolor": "white",
          "plot_bgcolor": "#E5ECF6",
          "polar": {
           "angularaxis": {
            "gridcolor": "white",
            "linecolor": "white",
            "ticks": ""
           },
           "bgcolor": "#E5ECF6",
           "radialaxis": {
            "gridcolor": "white",
            "linecolor": "white",
            "ticks": ""
           }
          },
          "scene": {
           "xaxis": {
            "backgroundcolor": "#E5ECF6",
            "gridcolor": "white",
            "gridwidth": 2,
            "linecolor": "white",
            "showbackground": true,
            "ticks": "",
            "zerolinecolor": "white"
           },
           "yaxis": {
            "backgroundcolor": "#E5ECF6",
            "gridcolor": "white",
            "gridwidth": 2,
            "linecolor": "white",
            "showbackground": true,
            "ticks": "",
            "zerolinecolor": "white"
           },
           "zaxis": {
            "backgroundcolor": "#E5ECF6",
            "gridcolor": "white",
            "gridwidth": 2,
            "linecolor": "white",
            "showbackground": true,
            "ticks": "",
            "zerolinecolor": "white"
           }
          },
          "shapedefaults": {
           "line": {
            "color": "#2a3f5f"
           }
          },
          "ternary": {
           "aaxis": {
            "gridcolor": "white",
            "linecolor": "white",
            "ticks": ""
           },
           "baxis": {
            "gridcolor": "white",
            "linecolor": "white",
            "ticks": ""
           },
           "bgcolor": "#E5ECF6",
           "caxis": {
            "gridcolor": "white",
            "linecolor": "white",
            "ticks": ""
           }
          },
          "title": {
           "x": 0.05
          },
          "xaxis": {
           "automargin": true,
           "gridcolor": "white",
           "linecolor": "white",
           "ticks": "",
           "title": {
            "standoff": 15
           },
           "zerolinecolor": "white",
           "zerolinewidth": 2
          },
          "yaxis": {
           "automargin": true,
           "gridcolor": "white",
           "linecolor": "white",
           "ticks": "",
           "title": {
            "standoff": 15
           },
           "zerolinecolor": "white",
           "zerolinewidth": 2
          }
         }
        },
        "title": {
         "font": {
          "color": "Black",
          "size": 22
         },
         "text": "<b>Similarity Matrix</b>",
         "x": 0.55,
         "xanchor": "center",
         "y": 0.95,
         "yanchor": "top"
        },
        "width": 800,
        "xaxis": {
         "anchor": "y",
         "constrain": "domain",
         "domain": [
          0,
          1
         ],
         "scaleanchor": "y"
        },
        "yaxis": {
         "anchor": "x",
         "autorange": "reversed",
         "constrain": "domain",
         "domain": [
          0,
          1
         ]
        }
       }
      }
     },
     "metadata": {},
     "output_type": "display_data"
    }
   ],
   "source": [
    "topic_model.visualize_heatmap()"
   ]
  },
  {
   "cell_type": "code",
   "execution_count": 20,
   "metadata": {},
   "outputs": [
    {
     "data": {
      "application/vnd.plotly.v1+json": {
       "config": {
        "plotlyServerURL": "https://plot.ly"
       },
       "data": [
        {
         "hoverinfo": "text",
         "marker": {
          "color": "rgb(61,153,112)"
         },
         "mode": "lines",
         "type": "scatter",
         "x": [
          0,
          0.8065421878947888,
          0.8065421878947888,
          0
         ],
         "xaxis": "x",
         "y": [
          -15,
          -15,
          -25,
          -25
         ],
         "yaxis": "y"
        },
        {
         "hoverinfo": "text",
         "marker": {
          "color": "rgb(61,153,112)"
         },
         "mode": "lines",
         "type": "scatter",
         "x": [
          0,
          0.9263698066773659,
          0.9263698066773659,
          0.8065421878947888
         ],
         "xaxis": "x",
         "y": [
          -5,
          -5,
          -20,
          -20
         ],
         "yaxis": "y"
        },
        {
         "hoverinfo": "text",
         "marker": {
          "color": "rgb(255,65,54)"
         },
         "mode": "lines",
         "type": "scatter",
         "x": [
          0,
          0.8590998022004852,
          0.8590998022004852,
          0
         ],
         "xaxis": "x",
         "y": [
          -35,
          -35,
          -45,
          -45
         ],
         "yaxis": "y"
        },
        {
         "hoverinfo": "text",
         "marker": {
          "color": "rgb(255,65,54)"
         },
         "mode": "lines",
         "type": "scatter",
         "x": [
          0,
          0.7925942838297142,
          0.7925942838297142,
          0
         ],
         "xaxis": "x",
         "y": [
          -55,
          -55,
          -65,
          -65
         ],
         "yaxis": "y"
        },
        {
         "hoverinfo": "text",
         "marker": {
          "color": "rgb(255,65,54)"
         },
         "mode": "lines",
         "type": "scatter",
         "x": [
          0.8590998022004852,
          0.9470918073584242,
          0.9470918073584242,
          0.7925942838297142
         ],
         "xaxis": "x",
         "y": [
          -40,
          -40,
          -60,
          -60
         ],
         "yaxis": "y"
        },
        {
         "hoverinfo": "text",
         "marker": {
          "color": "rgb(255,65,54)"
         },
         "mode": "lines",
         "type": "scatter",
         "x": [
          0,
          0.806301451171952,
          0.806301451171952,
          0
         ],
         "xaxis": "x",
         "y": [
          -95,
          -95,
          -105,
          -105
         ],
         "yaxis": "y"
        },
        {
         "hoverinfo": "text",
         "marker": {
          "color": "rgb(255,65,54)"
         },
         "mode": "lines",
         "type": "scatter",
         "x": [
          0,
          0.8454473622032227,
          0.8454473622032227,
          0.806301451171952
         ],
         "xaxis": "x",
         "y": [
          -85,
          -85,
          -100,
          -100
         ],
         "yaxis": "y"
        },
        {
         "hoverinfo": "text",
         "marker": {
          "color": "rgb(255,65,54)"
         },
         "mode": "lines",
         "type": "scatter",
         "x": [
          0.8454473622032227,
          0.9204423055709497,
          0.9204423055709497,
          0
         ],
         "xaxis": "x",
         "y": [
          -92.5,
          -92.5,
          -115,
          -115
         ],
         "yaxis": "y"
        },
        {
         "hoverinfo": "text",
         "marker": {
          "color": "rgb(255,65,54)"
         },
         "mode": "lines",
         "type": "scatter",
         "x": [
          0,
          0.9559029965410922,
          0.9559029965410922,
          0.9204423055709497
         ],
         "xaxis": "x",
         "y": [
          -75,
          -75,
          -103.75,
          -103.75
         ],
         "yaxis": "y"
        },
        {
         "hoverinfo": "text",
         "marker": {
          "color": "rgb(255,65,54)"
         },
         "mode": "lines",
         "type": "scatter",
         "x": [
          0.9470918073584242,
          0.9955272318082596,
          0.9955272318082596,
          0.9559029965410922
         ],
         "xaxis": "x",
         "y": [
          -50,
          -50,
          -89.375,
          -89.375
         ],
         "yaxis": "y"
        },
        {
         "hoverinfo": "text",
         "marker": {
          "color": "rgb(0,116,217)"
         },
         "mode": "lines",
         "type": "scatter",
         "x": [
          0.9263698066773659,
          1.0249189988065925,
          1.0249189988065925,
          0.9955272318082596
         ],
         "xaxis": "x",
         "y": [
          -12.5,
          -12.5,
          -69.6875,
          -69.6875
         ],
         "yaxis": "y"
        },
        {
         "hoverinfo": "text",
         "marker": {
          "color": "rgb(35,205,205)"
         },
         "mode": "lines",
         "type": "scatter",
         "x": [
          0,
          0.5197138840251259,
          0.5197138840251259,
          0
         ],
         "xaxis": "x",
         "y": [
          -125,
          -125,
          -135,
          -135
         ],
         "yaxis": "y"
        },
        {
         "hoverinfo": "text",
         "marker": {
          "color": "rgb(0,116,217)"
         },
         "mode": "lines",
         "type": "scatter",
         "x": [
          1.0249189988065925,
          1.1148849256158835,
          1.1148849256158835,
          0.5197138840251259
         ],
         "xaxis": "x",
         "y": [
          -41.09375,
          -41.09375,
          -130,
          -130
         ],
         "yaxis": "y"
        },
        {
         "hoverinfo": "text",
         "marker": {
          "color": "rgb(133,20,75)"
         },
         "mode": "lines",
         "type": "scatter",
         "x": [
          0,
          0.7200281250871043,
          0.7200281250871043,
          0
         ],
         "xaxis": "x",
         "y": [
          -145,
          -145,
          -155,
          -155
         ],
         "yaxis": "y"
        },
        {
         "hoverinfo": "text",
         "marker": {
          "color": "rgb(133,20,75)"
         },
         "mode": "lines",
         "type": "scatter",
         "x": [
          0.7200281250871043,
          0.7804292532882308,
          0.7804292532882308,
          0
         ],
         "xaxis": "x",
         "y": [
          -150,
          -150,
          -165,
          -165
         ],
         "yaxis": "y"
        },
        {
         "hoverinfo": "text",
         "marker": {
          "color": "rgb(255,220,0)"
         },
         "mode": "lines",
         "type": "scatter",
         "x": [
          0,
          0.7461267769663741,
          0.7461267769663741,
          0
         ],
         "xaxis": "x",
         "y": [
          -175,
          -175,
          -185,
          -185
         ],
         "yaxis": "y"
        },
        {
         "hoverinfo": "text",
         "marker": {
          "color": "rgb(40,35,35)"
         },
         "mode": "lines",
         "type": "scatter",
         "x": [
          0,
          0.7153042470857583,
          0.7153042470857583,
          0
         ],
         "xaxis": "x",
         "y": [
          -195,
          -195,
          -205,
          -205
         ],
         "yaxis": "y"
        },
        {
         "hoverinfo": "text",
         "marker": {
          "color": "rgb(40,35,35)"
         },
         "mode": "lines",
         "type": "scatter",
         "x": [
          0,
          0.8370281809206084,
          0.8370281809206084,
          0
         ],
         "xaxis": "x",
         "y": [
          -215,
          -215,
          -225,
          -225
         ],
         "yaxis": "y"
        },
        {
         "hoverinfo": "text",
         "marker": {
          "color": "rgb(40,35,35)"
         },
         "mode": "lines",
         "type": "scatter",
         "x": [
          0.7153042470857583,
          0.9005201072723746,
          0.9005201072723746,
          0.8370281809206084
         ],
         "xaxis": "x",
         "y": [
          -200,
          -200,
          -220,
          -220
         ],
         "yaxis": "y"
        },
        {
         "hoverinfo": "text",
         "marker": {
          "color": "rgb(0,116,217)"
         },
         "mode": "lines",
         "type": "scatter",
         "x": [
          0.7461267769663741,
          1.0831592268775847,
          1.0831592268775847,
          0.9005201072723746
         ],
         "xaxis": "x",
         "y": [
          -180,
          -180,
          -210,
          -210
         ],
         "yaxis": "y"
        },
        {
         "hoverinfo": "text",
         "marker": {
          "color": "rgb(61,153,112)"
         },
         "mode": "lines",
         "type": "scatter",
         "x": [
          0,
          0.7331290742706001,
          0.7331290742706001,
          0
         ],
         "xaxis": "x",
         "y": [
          -245,
          -245,
          -255,
          -255
         ],
         "yaxis": "y"
        },
        {
         "hoverinfo": "text",
         "marker": {
          "color": "rgb(61,153,112)"
         },
         "mode": "lines",
         "type": "scatter",
         "x": [
          0.7331290742706001,
          0.8759687278948056,
          0.8759687278948056,
          0
         ],
         "xaxis": "x",
         "y": [
          -250,
          -250,
          -265,
          -265
         ],
         "yaxis": "y"
        },
        {
         "hoverinfo": "text",
         "marker": {
          "color": "rgb(61,153,112)"
         },
         "mode": "lines",
         "type": "scatter",
         "x": [
          0,
          0.903638714288077,
          0.903638714288077,
          0.8759687278948056
         ],
         "xaxis": "x",
         "y": [
          -235,
          -235,
          -257.5,
          -257.5
         ],
         "yaxis": "y"
        },
        {
         "hoverinfo": "text",
         "marker": {
          "color": "rgb(0,116,217)"
         },
         "mode": "lines",
         "type": "scatter",
         "x": [
          1.0831592268775847,
          1.0992674036983676,
          1.0992674036983676,
          0.903638714288077
         ],
         "xaxis": "x",
         "y": [
          -195,
          -195,
          -246.25,
          -246.25
         ],
         "yaxis": "y"
        },
        {
         "hoverinfo": "text",
         "marker": {
          "color": "rgb(0,116,217)"
         },
         "mode": "lines",
         "type": "scatter",
         "x": [
          0.7804292532882308,
          1.1183584047602178,
          1.1183584047602178,
          1.0992674036983676
         ],
         "xaxis": "x",
         "y": [
          -157.5,
          -157.5,
          -220.625,
          -220.625
         ],
         "yaxis": "y"
        },
        {
         "hoverinfo": "text",
         "marker": {
          "color": "rgb(0,116,217)"
         },
         "mode": "lines",
         "type": "scatter",
         "x": [
          1.1148849256158835,
          1.2463464966335662,
          1.2463464966335662,
          1.1183584047602178
         ],
         "xaxis": "x",
         "y": [
          -85.546875,
          -85.546875,
          -189.0625,
          -189.0625
         ],
         "yaxis": "y"
        },
        {
         "hoverinfo": "text",
         "marker": {
          "color": "rgb(255,65,54)"
         },
         "mode": "lines",
         "type": "scatter",
         "x": [
          0,
          0.8291923236199378,
          0.8291923236199378,
          0
         ],
         "xaxis": "x",
         "y": [
          -275,
          -275,
          -285,
          -285
         ],
         "yaxis": "y"
        },
        {
         "hoverinfo": "text",
         "marker": {
          "color": "rgb(35,205,205)"
         },
         "mode": "lines",
         "type": "scatter",
         "x": [
          0,
          0.7853656233657111,
          0.7853656233657111,
          0
         ],
         "xaxis": "x",
         "y": [
          -295,
          -295,
          -305,
          -305
         ],
         "yaxis": "y"
        },
        {
         "hoverinfo": "text",
         "marker": {
          "color": "rgb(0,116,217)"
         },
         "mode": "lines",
         "type": "scatter",
         "x": [
          0.8291923236199378,
          1.0277976678448095,
          1.0277976678448095,
          0.7853656233657111
         ],
         "xaxis": "x",
         "y": [
          -280,
          -280,
          -300,
          -300
         ],
         "yaxis": "y"
        },
        {
         "hoverinfo": "text",
         "marker": {
          "color": "rgb(61,153,112)"
         },
         "mode": "lines",
         "type": "scatter",
         "x": [
          0,
          0.6753297048044632,
          0.6753297048044632,
          0
         ],
         "xaxis": "x",
         "y": [
          -315,
          -315,
          -325,
          -325
         ],
         "yaxis": "y"
        },
        {
         "hoverinfo": "text",
         "marker": {
          "color": "rgb(61,153,112)"
         },
         "mode": "lines",
         "type": "scatter",
         "x": [
          0.6753297048044632,
          0.8684227110062747,
          0.8684227110062747,
          0
         ],
         "xaxis": "x",
         "y": [
          -320,
          -320,
          -335,
          -335
         ],
         "yaxis": "y"
        },
        {
         "hoverinfo": "text",
         "marker": {
          "color": "rgb(0,116,217)"
         },
         "mode": "lines",
         "type": "scatter",
         "x": [
          1.0277976678448095,
          1.0749712958553224,
          1.0749712958553224,
          0.8684227110062747
         ],
         "xaxis": "x",
         "y": [
          -290,
          -290,
          -327.5,
          -327.5
         ],
         "yaxis": "y"
        },
        {
         "hoverinfo": "text",
         "marker": {
          "color": "rgb(255,65,54)"
         },
         "mode": "lines",
         "type": "scatter",
         "x": [
          0,
          0.6762734164565882,
          0.6762734164565882,
          0
         ],
         "xaxis": "x",
         "y": [
          -345,
          -345,
          -355,
          -355
         ],
         "yaxis": "y"
        },
        {
         "hoverinfo": "text",
         "marker": {
          "color": "rgb(35,205,205)"
         },
         "mode": "lines",
         "type": "scatter",
         "x": [
          0,
          0.838538303464185,
          0.838538303464185,
          0
         ],
         "xaxis": "x",
         "y": [
          -365,
          -365,
          -375,
          -375
         ],
         "yaxis": "y"
        },
        {
         "hoverinfo": "text",
         "marker": {
          "color": "rgb(133,20,75)"
         },
         "mode": "lines",
         "type": "scatter",
         "x": [
          0,
          0.7074108337479867,
          0.7074108337479867,
          0
         ],
         "xaxis": "x",
         "y": [
          -405,
          -405,
          -415,
          -415
         ],
         "yaxis": "y"
        },
        {
         "hoverinfo": "text",
         "marker": {
          "color": "rgb(133,20,75)"
         },
         "mode": "lines",
         "type": "scatter",
         "x": [
          0,
          0.8501281261453606,
          0.8501281261453606,
          0.7074108337479867
         ],
         "xaxis": "x",
         "y": [
          -395,
          -395,
          -410,
          -410
         ],
         "yaxis": "y"
        },
        {
         "hoverinfo": "text",
         "marker": {
          "color": "rgb(133,20,75)"
         },
         "mode": "lines",
         "type": "scatter",
         "x": [
          0.8501281261453606,
          0.8949836873289535,
          0.8949836873289535,
          0
         ],
         "xaxis": "x",
         "y": [
          -402.5,
          -402.5,
          -425,
          -425
         ],
         "yaxis": "y"
        },
        {
         "hoverinfo": "text",
         "marker": {
          "color": "rgb(133,20,75)"
         },
         "mode": "lines",
         "type": "scatter",
         "x": [
          0,
          0.9046040679769847,
          0.9046040679769847,
          0.8949836873289535
         ],
         "xaxis": "x",
         "y": [
          -385,
          -385,
          -413.75,
          -413.75
         ],
         "yaxis": "y"
        },
        {
         "hoverinfo": "text",
         "marker": {
          "color": "rgb(133,20,75)"
         },
         "mode": "lines",
         "type": "scatter",
         "x": [
          0.9046040679769847,
          0.9374745762613518,
          0.9374745762613518,
          0
         ],
         "xaxis": "x",
         "y": [
          -399.375,
          -399.375,
          -435,
          -435
         ],
         "yaxis": "y"
        },
        {
         "hoverinfo": "text",
         "marker": {
          "color": "rgb(0,116,217)"
         },
         "mode": "lines",
         "type": "scatter",
         "x": [
          0.838538303464185,
          1.0007874760372644,
          1.0007874760372644,
          0.9374745762613518
         ],
         "xaxis": "x",
         "y": [
          -370,
          -370,
          -417.1875,
          -417.1875
         ],
         "yaxis": "y"
        },
        {
         "hoverinfo": "text",
         "marker": {
          "color": "rgb(255,220,0)"
         },
         "mode": "lines",
         "type": "scatter",
         "x": [
          0,
          0.8121448733655161,
          0.8121448733655161,
          0
         ],
         "xaxis": "x",
         "y": [
          -445,
          -445,
          -455,
          -455
         ],
         "yaxis": "y"
        },
        {
         "hoverinfo": "text",
         "marker": {
          "color": "rgb(255,220,0)"
         },
         "mode": "lines",
         "type": "scatter",
         "x": [
          0,
          0.8772752327847628,
          0.8772752327847628,
          0
         ],
         "xaxis": "x",
         "y": [
          -465,
          -465,
          -475,
          -475
         ],
         "yaxis": "y"
        },
        {
         "hoverinfo": "text",
         "marker": {
          "color": "rgb(255,220,0)"
         },
         "mode": "lines",
         "type": "scatter",
         "x": [
          0.8121448733655161,
          0.9096942037806941,
          0.9096942037806941,
          0.8772752327847628
         ],
         "xaxis": "x",
         "y": [
          -450,
          -450,
          -470,
          -470
         ],
         "yaxis": "y"
        },
        {
         "hoverinfo": "text",
         "marker": {
          "color": "rgb(0,116,217)"
         },
         "mode": "lines",
         "type": "scatter",
         "x": [
          1.0007874760372644,
          1.0328394920871955,
          1.0328394920871955,
          0.9096942037806941
         ],
         "xaxis": "x",
         "y": [
          -393.59375,
          -393.59375,
          -460,
          -460
         ],
         "yaxis": "y"
        },
        {
         "hoverinfo": "text",
         "marker": {
          "color": "rgb(0,116,217)"
         },
         "mode": "lines",
         "type": "scatter",
         "x": [
          0.6762734164565882,
          1.0896912921833808,
          1.0896912921833808,
          1.0328394920871955
         ],
         "xaxis": "x",
         "y": [
          -350,
          -350,
          -426.796875,
          -426.796875
         ],
         "yaxis": "y"
        },
        {
         "hoverinfo": "text",
         "marker": {
          "color": "rgb(0,116,217)"
         },
         "mode": "lines",
         "type": "scatter",
         "x": [
          1.0749712958553224,
          1.1314471262467856,
          1.1314471262467856,
          1.0896912921833808
         ],
         "xaxis": "x",
         "y": [
          -308.75,
          -308.75,
          -388.3984375,
          -388.3984375
         ],
         "yaxis": "y"
        },
        {
         "hoverinfo": "text",
         "marker": {
          "color": "rgb(40,35,35)"
         },
         "mode": "lines",
         "type": "scatter",
         "x": [
          0,
          0.5256510842126387,
          0.5256510842126387,
          0
         ],
         "xaxis": "x",
         "y": [
          -485,
          -485,
          -495,
          -495
         ],
         "yaxis": "y"
        },
        {
         "hoverinfo": "text",
         "marker": {
          "color": "rgb(61,153,112)"
         },
         "mode": "lines",
         "type": "scatter",
         "x": [
          0,
          0.8843942099988507,
          0.8843942099988507,
          0
         ],
         "xaxis": "x",
         "y": [
          -505,
          -505,
          -515,
          -515
         ],
         "yaxis": "y"
        },
        {
         "hoverinfo": "text",
         "marker": {
          "color": "rgb(61,153,112)"
         },
         "mode": "lines",
         "type": "scatter",
         "x": [
          0,
          0.7899064758634309,
          0.7899064758634309,
          0
         ],
         "xaxis": "x",
         "y": [
          -525,
          -525,
          -535,
          -535
         ],
         "yaxis": "y"
        },
        {
         "hoverinfo": "text",
         "marker": {
          "color": "rgb(61,153,112)"
         },
         "mode": "lines",
         "type": "scatter",
         "x": [
          0.7899064758634309,
          0.8763113176556718,
          0.8763113176556718,
          0
         ],
         "xaxis": "x",
         "y": [
          -530,
          -530,
          -545,
          -545
         ],
         "yaxis": "y"
        },
        {
         "hoverinfo": "text",
         "marker": {
          "color": "rgb(61,153,112)"
         },
         "mode": "lines",
         "type": "scatter",
         "x": [
          0.8843942099988507,
          0.9175716930126289,
          0.9175716930126289,
          0.8763113176556718
         ],
         "xaxis": "x",
         "y": [
          -510,
          -510,
          -537.5,
          -537.5
         ],
         "yaxis": "y"
        },
        {
         "hoverinfo": "text",
         "marker": {
          "color": "rgb(0,116,217)"
         },
         "mode": "lines",
         "type": "scatter",
         "x": [
          0.5256510842126387,
          1.0639671738651895,
          1.0639671738651895,
          0.9175716930126289
         ],
         "xaxis": "x",
         "y": [
          -490,
          -490,
          -523.75,
          -523.75
         ],
         "yaxis": "y"
        },
        {
         "hoverinfo": "text",
         "marker": {
          "color": "rgb(255,65,54)"
         },
         "mode": "lines",
         "type": "scatter",
         "x": [
          0,
          0.6329362121207291,
          0.6329362121207291,
          0
         ],
         "xaxis": "x",
         "y": [
          -565,
          -565,
          -575,
          -575
         ],
         "yaxis": "y"
        },
        {
         "hoverinfo": "text",
         "marker": {
          "color": "rgb(255,65,54)"
         },
         "mode": "lines",
         "type": "scatter",
         "x": [
          0,
          0.9016345973462283,
          0.9016345973462283,
          0.6329362121207291
         ],
         "xaxis": "x",
         "y": [
          -555,
          -555,
          -570,
          -570
         ],
         "yaxis": "y"
        },
        {
         "hoverinfo": "text",
         "marker": {
          "color": "rgb(255,65,54)"
         },
         "mode": "lines",
         "type": "scatter",
         "x": [
          0,
          0.8637767357291827,
          0.8637767357291827,
          0
         ],
         "xaxis": "x",
         "y": [
          -585,
          -585,
          -595,
          -595
         ],
         "yaxis": "y"
        },
        {
         "hoverinfo": "text",
         "marker": {
          "color": "rgb(255,65,54)"
         },
         "mode": "lines",
         "type": "scatter",
         "x": [
          0.9016345973462283,
          0.9650627460878456,
          0.9650627460878456,
          0.8637767357291827
         ],
         "xaxis": "x",
         "y": [
          -562.5,
          -562.5,
          -590,
          -590
         ],
         "yaxis": "y"
        },
        {
         "hoverinfo": "text",
         "marker": {
          "color": "rgb(35,205,205)"
         },
         "mode": "lines",
         "type": "scatter",
         "x": [
          0,
          0.6806815770033543,
          0.6806815770033543,
          0
         ],
         "xaxis": "x",
         "y": [
          -605,
          -605,
          -615,
          -615
         ],
         "yaxis": "y"
        },
        {
         "hoverinfo": "text",
         "marker": {
          "color": "rgb(35,205,205)"
         },
         "mode": "lines",
         "type": "scatter",
         "x": [
          0.6806815770033543,
          0.8892417613193218,
          0.8892417613193218,
          0
         ],
         "xaxis": "x",
         "y": [
          -610,
          -610,
          -625,
          -625
         ],
         "yaxis": "y"
        },
        {
         "hoverinfo": "text",
         "marker": {
          "color": "rgb(0,116,217)"
         },
         "mode": "lines",
         "type": "scatter",
         "x": [
          0.9650627460878456,
          1.0440591266370165,
          1.0440591266370165,
          0.8892417613193218
         ],
         "xaxis": "x",
         "y": [
          -576.25,
          -576.25,
          -617.5,
          -617.5
         ],
         "yaxis": "y"
        },
        {
         "hoverinfo": "text",
         "marker": {
          "color": "rgb(0,116,217)"
         },
         "mode": "lines",
         "type": "scatter",
         "x": [
          1.0639671738651895,
          1.1477870919835558,
          1.1477870919835558,
          1.0440591266370165
         ],
         "xaxis": "x",
         "y": [
          -506.875,
          -506.875,
          -596.875,
          -596.875
         ],
         "yaxis": "y"
        },
        {
         "hoverinfo": "text",
         "marker": {
          "color": "rgb(0,116,217)"
         },
         "mode": "lines",
         "type": "scatter",
         "x": [
          1.1314471262467856,
          1.212105849461302,
          1.212105849461302,
          1.1477870919835558
         ],
         "xaxis": "x",
         "y": [
          -348.57421875,
          -348.57421875,
          -551.875,
          -551.875
         ],
         "yaxis": "y"
        },
        {
         "hoverinfo": "text",
         "marker": {
          "color": "rgb(61,153,112)"
         },
         "mode": "lines",
         "type": "scatter",
         "x": [
          0,
          0.9247245890604776,
          0.9247245890604776,
          0
         ],
         "xaxis": "x",
         "y": [
          -635,
          -635,
          -645,
          -645
         ],
         "yaxis": "y"
        },
        {
         "hoverinfo": "text",
         "marker": {
          "color": "rgb(255,65,54)"
         },
         "mode": "lines",
         "type": "scatter",
         "x": [
          0,
          0.9869239064899864,
          0.9869239064899864,
          0
         ],
         "xaxis": "x",
         "y": [
          -655,
          -655,
          -665,
          -665
         ],
         "yaxis": "y"
        },
        {
         "hoverinfo": "text",
         "marker": {
          "color": "rgb(35,205,205)"
         },
         "mode": "lines",
         "type": "scatter",
         "x": [
          0,
          0.9401040782637731,
          0.9401040782637731,
          0
         ],
         "xaxis": "x",
         "y": [
          -675,
          -675,
          -685,
          -685
         ],
         "yaxis": "y"
        },
        {
         "hoverinfo": "text",
         "marker": {
          "color": "rgb(0,116,217)"
         },
         "mode": "lines",
         "type": "scatter",
         "x": [
          0.9869239064899864,
          1.0013107085283415,
          1.0013107085283415,
          0.9401040782637731
         ],
         "xaxis": "x",
         "y": [
          -660,
          -660,
          -680,
          -680
         ],
         "yaxis": "y"
        },
        {
         "hoverinfo": "text",
         "marker": {
          "color": "rgb(133,20,75)"
         },
         "mode": "lines",
         "type": "scatter",
         "x": [
          0,
          0.9481463233937888,
          0.9481463233937888,
          0
         ],
         "xaxis": "x",
         "y": [
          -695,
          -695,
          -705,
          -705
         ],
         "yaxis": "y"
        },
        {
         "hoverinfo": "text",
         "marker": {
          "color": "rgb(133,20,75)"
         },
         "mode": "lines",
         "type": "scatter",
         "x": [
          0,
          0.922525134097499,
          0.922525134097499,
          0
         ],
         "xaxis": "x",
         "y": [
          -715,
          -715,
          -725,
          -725
         ],
         "yaxis": "y"
        },
        {
         "hoverinfo": "text",
         "marker": {
          "color": "rgb(133,20,75)"
         },
         "mode": "lines",
         "type": "scatter",
         "x": [
          0.9481463233937888,
          0.9573654324165595,
          0.9573654324165595,
          0.922525134097499
         ],
         "xaxis": "x",
         "y": [
          -700,
          -700,
          -720,
          -720
         ],
         "yaxis": "y"
        },
        {
         "hoverinfo": "text",
         "marker": {
          "color": "rgb(133,20,75)"
         },
         "mode": "lines",
         "type": "scatter",
         "x": [
          0.9573654324165595,
          0.9856065070424463,
          0.9856065070424463,
          0
         ],
         "xaxis": "x",
         "y": [
          -710,
          -710,
          -735,
          -735
         ],
         "yaxis": "y"
        },
        {
         "hoverinfo": "text",
         "marker": {
          "color": "rgb(0,116,217)"
         },
         "mode": "lines",
         "type": "scatter",
         "x": [
          1.0013107085283415,
          1.0260451541444828,
          1.0260451541444828,
          0.9856065070424463
         ],
         "xaxis": "x",
         "y": [
          -670,
          -670,
          -722.5,
          -722.5
         ],
         "yaxis": "y"
        },
        {
         "hoverinfo": "text",
         "marker": {
          "color": "rgb(0,116,217)"
         },
         "mode": "lines",
         "type": "scatter",
         "x": [
          0.9247245890604776,
          1.0378772455154124,
          1.0378772455154124,
          1.0260451541444828
         ],
         "xaxis": "x",
         "y": [
          -640,
          -640,
          -696.25,
          -696.25
         ],
         "yaxis": "y"
        },
        {
         "hoverinfo": "text",
         "marker": {
          "color": "rgb(255,220,0)"
         },
         "mode": "lines",
         "type": "scatter",
         "x": [
          0,
          0.8584819589829007,
          0.8584819589829007,
          0
         ],
         "xaxis": "x",
         "y": [
          -745,
          -745,
          -755,
          -755
         ],
         "yaxis": "y"
        },
        {
         "hoverinfo": "text",
         "marker": {
          "color": "rgb(0,116,217)"
         },
         "mode": "lines",
         "type": "scatter",
         "x": [
          1.0378772455154124,
          1.0474844344615595,
          1.0474844344615595,
          0.8584819589829007
         ],
         "xaxis": "x",
         "y": [
          -668.125,
          -668.125,
          -750,
          -750
         ],
         "yaxis": "y"
        },
        {
         "hoverinfo": "text",
         "marker": {
          "color": "rgb(40,35,35)"
         },
         "mode": "lines",
         "type": "scatter",
         "x": [
          0,
          0.9018773276659333,
          0.9018773276659333,
          0
         ],
         "xaxis": "x",
         "y": [
          -765,
          -765,
          -775,
          -775
         ],
         "yaxis": "y"
        },
        {
         "hoverinfo": "text",
         "marker": {
          "color": "rgb(40,35,35)"
         },
         "mode": "lines",
         "type": "scatter",
         "x": [
          0.9018773276659333,
          0.9527770790857834,
          0.9527770790857834,
          0
         ],
         "xaxis": "x",
         "y": [
          -770,
          -770,
          -785,
          -785
         ],
         "yaxis": "y"
        },
        {
         "hoverinfo": "text",
         "marker": {
          "color": "rgb(0,116,217)"
         },
         "mode": "lines",
         "type": "scatter",
         "x": [
          1.0474844344615595,
          1.0927709092649363,
          1.0927709092649363,
          0.9527770790857834
         ],
         "xaxis": "x",
         "y": [
          -709.0625,
          -709.0625,
          -777.5,
          -777.5
         ],
         "yaxis": "y"
        },
        {
         "hoverinfo": "text",
         "marker": {
          "color": "rgb(61,153,112)"
         },
         "mode": "lines",
         "type": "scatter",
         "x": [
          0,
          0.773612492976382,
          0.773612492976382,
          0
         ],
         "xaxis": "x",
         "y": [
          -795,
          -795,
          -805,
          -805
         ],
         "yaxis": "y"
        },
        {
         "hoverinfo": "text",
         "marker": {
          "color": "rgb(0,116,217)"
         },
         "mode": "lines",
         "type": "scatter",
         "x": [
          1.0927709092649363,
          1.1687130564480093,
          1.1687130564480093,
          0.773612492976382
         ],
         "xaxis": "x",
         "y": [
          -743.28125,
          -743.28125,
          -800,
          -800
         ],
         "yaxis": "y"
        },
        {
         "hoverinfo": "text",
         "marker": {
          "color": "rgb(0,116,217)"
         },
         "mode": "lines",
         "type": "scatter",
         "x": [
          1.212105849461302,
          1.2831584537911254,
          1.2831584537911254,
          1.1687130564480093
         ],
         "xaxis": "x",
         "y": [
          -450.224609375,
          -450.224609375,
          -771.640625,
          -771.640625
         ],
         "yaxis": "y"
        },
        {
         "hoverinfo": "text",
         "marker": {
          "color": "rgb(0,116,217)"
         },
         "mode": "lines",
         "type": "scatter",
         "x": [
          1.2463464966335662,
          1.342083783685503,
          1.342083783685503,
          1.2831584537911254
         ],
         "xaxis": "x",
         "y": [
          -137.3046875,
          -137.3046875,
          -610.9326171875,
          -610.9326171875
         ],
         "yaxis": "y"
        }
       ],
       "layout": {
        "autosize": false,
        "height": 1415,
        "hoverlabel": {
         "bgcolor": "white",
         "font": {
          "family": "Rockwell",
          "size": 16
         }
        },
        "hovermode": "closest",
        "plot_bgcolor": "#ECEFF1",
        "showlegend": false,
        "template": {
         "data": {
          "bar": [
           {
            "error_x": {
             "color": "#2a3f5f"
            },
            "error_y": {
             "color": "#2a3f5f"
            },
            "marker": {
             "line": {
              "color": "white",
              "width": 0.5
             },
             "pattern": {
              "fillmode": "overlay",
              "size": 10,
              "solidity": 0.2
             }
            },
            "type": "bar"
           }
          ],
          "barpolar": [
           {
            "marker": {
             "line": {
              "color": "white",
              "width": 0.5
             },
             "pattern": {
              "fillmode": "overlay",
              "size": 10,
              "solidity": 0.2
             }
            },
            "type": "barpolar"
           }
          ],
          "carpet": [
           {
            "aaxis": {
             "endlinecolor": "#2a3f5f",
             "gridcolor": "#C8D4E3",
             "linecolor": "#C8D4E3",
             "minorgridcolor": "#C8D4E3",
             "startlinecolor": "#2a3f5f"
            },
            "baxis": {
             "endlinecolor": "#2a3f5f",
             "gridcolor": "#C8D4E3",
             "linecolor": "#C8D4E3",
             "minorgridcolor": "#C8D4E3",
             "startlinecolor": "#2a3f5f"
            },
            "type": "carpet"
           }
          ],
          "choropleth": [
           {
            "colorbar": {
             "outlinewidth": 0,
             "ticks": ""
            },
            "type": "choropleth"
           }
          ],
          "contour": [
           {
            "colorbar": {
             "outlinewidth": 0,
             "ticks": ""
            },
            "colorscale": [
             [
              0,
              "#0d0887"
             ],
             [
              0.1111111111111111,
              "#46039f"
             ],
             [
              0.2222222222222222,
              "#7201a8"
             ],
             [
              0.3333333333333333,
              "#9c179e"
             ],
             [
              0.4444444444444444,
              "#bd3786"
             ],
             [
              0.5555555555555556,
              "#d8576b"
             ],
             [
              0.6666666666666666,
              "#ed7953"
             ],
             [
              0.7777777777777778,
              "#fb9f3a"
             ],
             [
              0.8888888888888888,
              "#fdca26"
             ],
             [
              1,
              "#f0f921"
             ]
            ],
            "type": "contour"
           }
          ],
          "contourcarpet": [
           {
            "colorbar": {
             "outlinewidth": 0,
             "ticks": ""
            },
            "type": "contourcarpet"
           }
          ],
          "heatmap": [
           {
            "colorbar": {
             "outlinewidth": 0,
             "ticks": ""
            },
            "colorscale": [
             [
              0,
              "#0d0887"
             ],
             [
              0.1111111111111111,
              "#46039f"
             ],
             [
              0.2222222222222222,
              "#7201a8"
             ],
             [
              0.3333333333333333,
              "#9c179e"
             ],
             [
              0.4444444444444444,
              "#bd3786"
             ],
             [
              0.5555555555555556,
              "#d8576b"
             ],
             [
              0.6666666666666666,
              "#ed7953"
             ],
             [
              0.7777777777777778,
              "#fb9f3a"
             ],
             [
              0.8888888888888888,
              "#fdca26"
             ],
             [
              1,
              "#f0f921"
             ]
            ],
            "type": "heatmap"
           }
          ],
          "heatmapgl": [
           {
            "colorbar": {
             "outlinewidth": 0,
             "ticks": ""
            },
            "colorscale": [
             [
              0,
              "#0d0887"
             ],
             [
              0.1111111111111111,
              "#46039f"
             ],
             [
              0.2222222222222222,
              "#7201a8"
             ],
             [
              0.3333333333333333,
              "#9c179e"
             ],
             [
              0.4444444444444444,
              "#bd3786"
             ],
             [
              0.5555555555555556,
              "#d8576b"
             ],
             [
              0.6666666666666666,
              "#ed7953"
             ],
             [
              0.7777777777777778,
              "#fb9f3a"
             ],
             [
              0.8888888888888888,
              "#fdca26"
             ],
             [
              1,
              "#f0f921"
             ]
            ],
            "type": "heatmapgl"
           }
          ],
          "histogram": [
           {
            "marker": {
             "pattern": {
              "fillmode": "overlay",
              "size": 10,
              "solidity": 0.2
             }
            },
            "type": "histogram"
           }
          ],
          "histogram2d": [
           {
            "colorbar": {
             "outlinewidth": 0,
             "ticks": ""
            },
            "colorscale": [
             [
              0,
              "#0d0887"
             ],
             [
              0.1111111111111111,
              "#46039f"
             ],
             [
              0.2222222222222222,
              "#7201a8"
             ],
             [
              0.3333333333333333,
              "#9c179e"
             ],
             [
              0.4444444444444444,
              "#bd3786"
             ],
             [
              0.5555555555555556,
              "#d8576b"
             ],
             [
              0.6666666666666666,
              "#ed7953"
             ],
             [
              0.7777777777777778,
              "#fb9f3a"
             ],
             [
              0.8888888888888888,
              "#fdca26"
             ],
             [
              1,
              "#f0f921"
             ]
            ],
            "type": "histogram2d"
           }
          ],
          "histogram2dcontour": [
           {
            "colorbar": {
             "outlinewidth": 0,
             "ticks": ""
            },
            "colorscale": [
             [
              0,
              "#0d0887"
             ],
             [
              0.1111111111111111,
              "#46039f"
             ],
             [
              0.2222222222222222,
              "#7201a8"
             ],
             [
              0.3333333333333333,
              "#9c179e"
             ],
             [
              0.4444444444444444,
              "#bd3786"
             ],
             [
              0.5555555555555556,
              "#d8576b"
             ],
             [
              0.6666666666666666,
              "#ed7953"
             ],
             [
              0.7777777777777778,
              "#fb9f3a"
             ],
             [
              0.8888888888888888,
              "#fdca26"
             ],
             [
              1,
              "#f0f921"
             ]
            ],
            "type": "histogram2dcontour"
           }
          ],
          "mesh3d": [
           {
            "colorbar": {
             "outlinewidth": 0,
             "ticks": ""
            },
            "type": "mesh3d"
           }
          ],
          "parcoords": [
           {
            "line": {
             "colorbar": {
              "outlinewidth": 0,
              "ticks": ""
             }
            },
            "type": "parcoords"
           }
          ],
          "pie": [
           {
            "automargin": true,
            "type": "pie"
           }
          ],
          "scatter": [
           {
            "fillpattern": {
             "fillmode": "overlay",
             "size": 10,
             "solidity": 0.2
            },
            "type": "scatter"
           }
          ],
          "scatter3d": [
           {
            "line": {
             "colorbar": {
              "outlinewidth": 0,
              "ticks": ""
             }
            },
            "marker": {
             "colorbar": {
              "outlinewidth": 0,
              "ticks": ""
             }
            },
            "type": "scatter3d"
           }
          ],
          "scattercarpet": [
           {
            "marker": {
             "colorbar": {
              "outlinewidth": 0,
              "ticks": ""
             }
            },
            "type": "scattercarpet"
           }
          ],
          "scattergeo": [
           {
            "marker": {
             "colorbar": {
              "outlinewidth": 0,
              "ticks": ""
             }
            },
            "type": "scattergeo"
           }
          ],
          "scattergl": [
           {
            "marker": {
             "colorbar": {
              "outlinewidth": 0,
              "ticks": ""
             }
            },
            "type": "scattergl"
           }
          ],
          "scattermapbox": [
           {
            "marker": {
             "colorbar": {
              "outlinewidth": 0,
              "ticks": ""
             }
            },
            "type": "scattermapbox"
           }
          ],
          "scatterpolar": [
           {
            "marker": {
             "colorbar": {
              "outlinewidth": 0,
              "ticks": ""
             }
            },
            "type": "scatterpolar"
           }
          ],
          "scatterpolargl": [
           {
            "marker": {
             "colorbar": {
              "outlinewidth": 0,
              "ticks": ""
             }
            },
            "type": "scatterpolargl"
           }
          ],
          "scatterternary": [
           {
            "marker": {
             "colorbar": {
              "outlinewidth": 0,
              "ticks": ""
             }
            },
            "type": "scatterternary"
           }
          ],
          "surface": [
           {
            "colorbar": {
             "outlinewidth": 0,
             "ticks": ""
            },
            "colorscale": [
             [
              0,
              "#0d0887"
             ],
             [
              0.1111111111111111,
              "#46039f"
             ],
             [
              0.2222222222222222,
              "#7201a8"
             ],
             [
              0.3333333333333333,
              "#9c179e"
             ],
             [
              0.4444444444444444,
              "#bd3786"
             ],
             [
              0.5555555555555556,
              "#d8576b"
             ],
             [
              0.6666666666666666,
              "#ed7953"
             ],
             [
              0.7777777777777778,
              "#fb9f3a"
             ],
             [
              0.8888888888888888,
              "#fdca26"
             ],
             [
              1,
              "#f0f921"
             ]
            ],
            "type": "surface"
           }
          ],
          "table": [
           {
            "cells": {
             "fill": {
              "color": "#EBF0F8"
             },
             "line": {
              "color": "white"
             }
            },
            "header": {
             "fill": {
              "color": "#C8D4E3"
             },
             "line": {
              "color": "white"
             }
            },
            "type": "table"
           }
          ]
         },
         "layout": {
          "annotationdefaults": {
           "arrowcolor": "#2a3f5f",
           "arrowhead": 0,
           "arrowwidth": 1
          },
          "autotypenumbers": "strict",
          "coloraxis": {
           "colorbar": {
            "outlinewidth": 0,
            "ticks": ""
           }
          },
          "colorscale": {
           "diverging": [
            [
             0,
             "#8e0152"
            ],
            [
             0.1,
             "#c51b7d"
            ],
            [
             0.2,
             "#de77ae"
            ],
            [
             0.3,
             "#f1b6da"
            ],
            [
             0.4,
             "#fde0ef"
            ],
            [
             0.5,
             "#f7f7f7"
            ],
            [
             0.6,
             "#e6f5d0"
            ],
            [
             0.7,
             "#b8e186"
            ],
            [
             0.8,
             "#7fbc41"
            ],
            [
             0.9,
             "#4d9221"
            ],
            [
             1,
             "#276419"
            ]
           ],
           "sequential": [
            [
             0,
             "#0d0887"
            ],
            [
             0.1111111111111111,
             "#46039f"
            ],
            [
             0.2222222222222222,
             "#7201a8"
            ],
            [
             0.3333333333333333,
             "#9c179e"
            ],
            [
             0.4444444444444444,
             "#bd3786"
            ],
            [
             0.5555555555555556,
             "#d8576b"
            ],
            [
             0.6666666666666666,
             "#ed7953"
            ],
            [
             0.7777777777777778,
             "#fb9f3a"
            ],
            [
             0.8888888888888888,
             "#fdca26"
            ],
            [
             1,
             "#f0f921"
            ]
           ],
           "sequentialminus": [
            [
             0,
             "#0d0887"
            ],
            [
             0.1111111111111111,
             "#46039f"
            ],
            [
             0.2222222222222222,
             "#7201a8"
            ],
            [
             0.3333333333333333,
             "#9c179e"
            ],
            [
             0.4444444444444444,
             "#bd3786"
            ],
            [
             0.5555555555555556,
             "#d8576b"
            ],
            [
             0.6666666666666666,
             "#ed7953"
            ],
            [
             0.7777777777777778,
             "#fb9f3a"
            ],
            [
             0.8888888888888888,
             "#fdca26"
            ],
            [
             1,
             "#f0f921"
            ]
           ]
          },
          "colorway": [
           "#636efa",
           "#EF553B",
           "#00cc96",
           "#ab63fa",
           "#FFA15A",
           "#19d3f3",
           "#FF6692",
           "#B6E880",
           "#FF97FF",
           "#FECB52"
          ],
          "font": {
           "color": "#2a3f5f"
          },
          "geo": {
           "bgcolor": "white",
           "lakecolor": "white",
           "landcolor": "white",
           "showlakes": true,
           "showland": true,
           "subunitcolor": "#C8D4E3"
          },
          "hoverlabel": {
           "align": "left"
          },
          "hovermode": "closest",
          "mapbox": {
           "style": "light"
          },
          "paper_bgcolor": "white",
          "plot_bgcolor": "white",
          "polar": {
           "angularaxis": {
            "gridcolor": "#EBF0F8",
            "linecolor": "#EBF0F8",
            "ticks": ""
           },
           "bgcolor": "white",
           "radialaxis": {
            "gridcolor": "#EBF0F8",
            "linecolor": "#EBF0F8",
            "ticks": ""
           }
          },
          "scene": {
           "xaxis": {
            "backgroundcolor": "white",
            "gridcolor": "#DFE8F3",
            "gridwidth": 2,
            "linecolor": "#EBF0F8",
            "showbackground": true,
            "ticks": "",
            "zerolinecolor": "#EBF0F8"
           },
           "yaxis": {
            "backgroundcolor": "white",
            "gridcolor": "#DFE8F3",
            "gridwidth": 2,
            "linecolor": "#EBF0F8",
            "showbackground": true,
            "ticks": "",
            "zerolinecolor": "#EBF0F8"
           },
           "zaxis": {
            "backgroundcolor": "white",
            "gridcolor": "#DFE8F3",
            "gridwidth": 2,
            "linecolor": "#EBF0F8",
            "showbackground": true,
            "ticks": "",
            "zerolinecolor": "#EBF0F8"
           }
          },
          "shapedefaults": {
           "line": {
            "color": "#2a3f5f"
           }
          },
          "ternary": {
           "aaxis": {
            "gridcolor": "#DFE8F3",
            "linecolor": "#A2B1C6",
            "ticks": ""
           },
           "baxis": {
            "gridcolor": "#DFE8F3",
            "linecolor": "#A2B1C6",
            "ticks": ""
           },
           "bgcolor": "white",
           "caxis": {
            "gridcolor": "#DFE8F3",
            "linecolor": "#A2B1C6",
            "ticks": ""
           }
          },
          "title": {
           "x": 0.05
          },
          "xaxis": {
           "automargin": true,
           "gridcolor": "#EBF0F8",
           "linecolor": "#EBF0F8",
           "ticks": "",
           "title": {
            "standoff": 15
           },
           "zerolinecolor": "#EBF0F8",
           "zerolinewidth": 2
          },
          "yaxis": {
           "automargin": true,
           "gridcolor": "#EBF0F8",
           "linecolor": "#EBF0F8",
           "ticks": "",
           "title": {
            "standoff": 15
           },
           "zerolinecolor": "#EBF0F8",
           "zerolinewidth": 2
          }
         }
        },
        "title": {
         "font": {
          "color": "Black",
          "size": 22
         },
         "text": "<b>Hierarchical Clustering</b>",
         "x": 0.5,
         "xanchor": "center",
         "yanchor": "top"
        },
        "width": 1000,
        "xaxis": {
         "mirror": "allticks",
         "rangemode": "tozero",
         "showgrid": false,
         "showline": true,
         "showticklabels": true,
         "ticks": "outside",
         "type": "linear",
         "zeroline": false
        },
        "yaxis": {
         "mirror": "allticks",
         "range": [
          -810,
          0
         ],
         "rangemode": "tozero",
         "showgrid": false,
         "showline": true,
         "showticklabels": true,
         "tickmode": "array",
         "ticks": "outside",
         "ticktext": [
          "78_employers_employer_equal...",
          "61_salary_correspond_lowest",
          "58_week_work_fourday",
          "50_sick_kela_kelas",
          "59_subsidies_who_instead",
          "45_finland_salaries_finlands",
          "51_basic_income_everyone",
          "60_entrepreneurs_sole_propr...",
          "15_pension_pensions_pension...",
          "10_students_education_study",
          "34_unemployment_unemployed_...",
          "69_doctors_medical_area",
          "1_taxation_tax_income",
          "76_taxation_tax_estonian",
          "32_child_allowance_children",
          "62_family_children_families",
          "42_parents_children_respons...",
          "13_gender_genders_two",
          "48_gender_reassignment_trans",
          "33_mental_health_psychother...",
          "14_health_care_nurses",
          "27_elderly_caregivers_servi...",
          "21_hobbies_exercise_sports",
          "12_religion_religious_teach...",
          "22_school_bullying_bully",
          "23_school_teachers_childhood",
          "37_phones_cell_mobile",
          "47_cannabis_legalized_sale",
          "17_drug_drugs_use",
          "20_crimes_criminal_punishment",
          "52_age_old_16",
          "44_direct_parties_democracy",
          "2_democracy_parliament_voting",
          "28_political_decisions_deci...",
          "18_racism_racist_hate",
          "43_racism_hate_finnish",
          "64_corona_vaccine_media",
          "9_media_news_yles",
          "24_government_current_dissa...",
          "8_economic_growth_economy",
          "5_society_wellbeing_life",
          "3_speech_freedom_discussion",
          "16_finns_finn_their",
          "39_culture_luxury_cultural",
          "68_state_life_times",
          "11_welfare_areas_cuts",
          "54_reduced_bureaucracy_muni...",
          "57_security_social_reform",
          "7_immigration_immigrants_as...",
          "30_immigration_finland_refu...",
          "75_law_polygamy_finland",
          "38_mining_finland_companies",
          "73_best_country_finland",
          "31_finland_tourism_karelian",
          "53_eu_finland_leave",
          "35_forests_forest_felling",
          "6_climate_change_nature",
          "25_finland_carbon_energy",
          "29_electricity_power_price",
          "4_food_meat_production",
          "77_cars_functional_strive",
          "0_transport_cars_housing",
          "55_train_trains_travel",
          "66_president_elected_savo",
          "74_strike_strikes_right",
          "70_clear_concise_short",
          "63_sitra_survey_sheltered",
          "46_fur_farming_banned",
          "79_peat_renewable_energy",
          "19_language_swedish_finnish",
          "41_conscription_service_women",
          "56_nato_membership_strong",
          "36_ukraine_russia_war",
          "71_intelligence_artificial_...",
          "26_animals_animal_pets",
          "72_hunting_wolves_poaching",
          "67_future_hope_nation",
          "40_yes_uh_good",
          "80_opinion_metallica_jamal",
          "49_independent_thought_brings",
          "65_perspectives_new_experie..."
         ],
         "tickvals": [
          -5,
          -15,
          -25,
          -35,
          -45,
          -55,
          -65,
          -75,
          -85,
          -95,
          -105,
          -115,
          -125,
          -135,
          -145,
          -155,
          -165,
          -175,
          -185,
          -195,
          -205,
          -215,
          -225,
          -235,
          -245,
          -255,
          -265,
          -275,
          -285,
          -295,
          -305,
          -315,
          -325,
          -335,
          -345,
          -355,
          -365,
          -375,
          -385,
          -395,
          -405,
          -415,
          -425,
          -435,
          -445,
          -455,
          -465,
          -475,
          -485,
          -495,
          -505,
          -515,
          -525,
          -535,
          -545,
          -555,
          -565,
          -575,
          -585,
          -595,
          -605,
          -615,
          -625,
          -635,
          -645,
          -655,
          -665,
          -675,
          -685,
          -695,
          -705,
          -715,
          -725,
          -735,
          -745,
          -755,
          -765,
          -775,
          -785,
          -795,
          -805
         ],
         "type": "linear",
         "zeroline": false
        }
       }
      }
     },
     "metadata": {},
     "output_type": "display_data"
    }
   ],
   "source": [
    "topic_model.visualize_hierarchy()"
   ]
  }
 ],
 "metadata": {
  "kernelspec": {
   "display_name": "Python 3",
   "language": "python",
   "name": "python3"
  },
  "language_info": {
   "codemirror_mode": {
    "name": "ipython",
    "version": 3
   },
   "file_extension": ".py",
   "mimetype": "text/x-python",
   "name": "python",
   "nbconvert_exporter": "python",
   "pygments_lexer": "ipython3",
   "version": "3.10.11"
  }
 },
 "nbformat": 4,
 "nbformat_minor": 2
}
